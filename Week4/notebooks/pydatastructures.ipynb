{
 "cells": [
  {
   "cell_type": "markdown",
   "metadata": {},
   "source": [
    "<DIV ALIGN=CENTER>\n",
    "\n",
    "# Python Data Structures I\n",
    "## Professor Robert J. Brunner\n",
    "  \n",
    "</DIV>  \n",
    "-----\n",
    "-----"
   ]
  },
  {
   "cell_type": "markdown",
   "metadata": {},
   "source": [
    "## Introduction\n",
    "\n",
    "Previously, we covered the basic Python concepts required to begin\n",
    "writing legal Python code. In this lesson, we will introduce additional\n",
    "fundamental concepts that form the basis of many Python programs. These\n",
    "concepts include the built-in Python data structures: string, tuple,\n",
    "list, and dictionary. In this notebook we focus on the string and list\n",
    "data types.\n",
    "\n",
    "-----"
   ]
  },
  {
   "cell_type": "markdown",
   "metadata": {},
   "source": [
    "## Python Data Structures\n",
    "\n",
    "Python provides built-in support for a number of useful data structures,\n",
    "including the _string_, _tuple_, _list_, and _dictionary_:\n",
    "\n",
    "__String__: \n",
    "A sequence of zero or more characters that are enclosed within either a\n",
    "pair of single quote characters, `'`, or a pair of double quote\n",
    "characters, `\"`. A Python string is an instance of class `str`.\n",
    "\n",
    "`A string containing many characters`\n",
    "\n",
    "__Tuple__:\n",
    "An ordered sequence of zero or more values that are enclosed in\n",
    "parentheses, `(` and `)`. The different values in a tuple are generally separated\n",
    "by commas, although this is not required. A Python tuple is an instance of class `tuple`.\n",
    "\n",
    "`(1, 2, 3, 4, 5, 6, 7, 8, 9, 10)`\n",
    "\n",
    "__List__:\n",
    "An ordered sequence of zero or more values that are enclosed in square\n",
    "brakets, `[` and `]`. The different valus in the list are separated by\n",
    "commas. A Python list is an instance of class `list`.\n",
    "\n",
    "`[1, 2, 3, 4, 5, 6, 7, 8, 9, 10]`\n",
    "\n",
    "__Dictionary__:\n",
    "An unordered collection of key, value pairs that are enclosed in curly\n",
    "braces, `{` and `}`. A key is separated form its corresponding value by\n",
    "a colon `:` and the different key-value entries in the collection are\n",
    "separated by commas. A Python dictionary is an instance of class `dict`.\n",
    "\n",
    "`d = {'name': \"Alexander\", 'age': 30, 'location': (102.1, 32.1)}`\n",
    "\n",
    "----\n",
    "\n",
    "Of these four data structures, the _list_ and the _dictionary_ are\n",
    "mutable, which means the values stored in these structures can be\n",
    "changed. On the other hand,  the _string_ and the _tuple_ are immutable,\n",
    "which means the values can not be changed once created. Instead, a new\n",
    "data structure must be created, either explicitly by the programmer, or\n",
    "implicitly by the Python interpreter. All of these data structures can be\n",
    "displayed by using the Python built-in `print` function, which converts\n",
    "its arguments to a string, which is then sent to STDOUT:\n",
    "\n",
    "```python\n",
    "data = [1, 2, 3, 4, 5, 6, 7, 8, 9, 10]\n",
    "print(data)\n",
    "```\n",
    "\n",
    "The _dictionary_ is a special data structure that maps keys to values,\n",
    "and thus the keys, which can be stored in any order, are used to access\n",
    "the values. The other three structures are ordered sequences, and thus\n",
    "individual elements can be accessed by specifying an index position\n",
    "within square brackets, `[]`, with the caveat that Python is a\n",
    "zero-indexed language. Thus, given an ordered sequence `data`, the\n",
    "following accesses are legal:\n",
    "\n",
    "- `a[0]`: access the first value\n",
    "- `a[1]`: access the second value\n",
    "- `a[-1]`: access the last value\n",
    "- `a[-2]`: access the second to last value\n",
    "\n",
    "### Slicing\n",
    "\n",
    "Python supports a rich array of techniques for extracting values from an\n",
    "ordered list beyond the single value access method, known as slicing.\n",
    "Given an ordered sequence `data`, the basic format is\n",
    "`data[start:end:stride]` where start and end are the starting and\n",
    "ending index values, respectively, and stride is the number of values to\n",
    "skip when iterating. If start or end are omitted, the default is the\n",
    "first and last value, while the default stride is one. A negative value\n",
    "can be used for either the start or the end index values, which\n",
    "indicates relative to the end value. These concepts are demonstrated in\n",
    "the following code block:"
   ]
  },
  {
   "cell_type": "code",
   "execution_count": 1,
   "metadata": {
    "collapsed": false
   },
   "outputs": [
    {
     "name": "stdout",
     "output_type": "stream",
     "text": [
      "1\n",
      "[3, 4, 5, 6, 7, 8]\n",
      "[1, 3, 5, 7]\n"
     ]
    }
   ],
   "source": [
    "# Edit the start/end/stride values to learn slicing\n",
    "\n",
    "data = [1, 2, 3, 4, 5, 6, 7, 8, 9, 10]\n",
    "\n",
    "print(data[0])\n",
    "print(data[2:-2])\n",
    "print(data[:-3:2])"
   ]
  },
  {
   "cell_type": "markdown",
   "metadata": {},
   "source": [
    "-----\n",
    "\n",
    "### Common Sequence Operations\n",
    "\n",
    "In addition to slicing, the _string_, _tuple_, and _list_ support\n",
    "several common sequence operations. Given a value `v`, integer `n`, and\n",
    "similar typed sequences `s` and `t`:\n",
    "\n",
    "| Operation | Description |\n",
    "| ----- | ----- |\n",
    "| `v in s`| `True` if `v` is in the sequence `s`, otherwise `False`|\n",
    "| `v not in s`| `False` if `v` is in the sequence `s`, otherwise `True`|\n",
    "| `s + t`| concatenation of `s` and `t`|\n",
    "| `s * n` or `n* s`| `n` shallow copies of `s` concatenated|\n",
    "| `len(s)`| the number of elements in the sequence `s`|\n",
    "| `min(s)`| the smallest elements in the sequence `s`|\n",
    "| `max(s)`| the largest of elements in the sequence `s`|\n",
    "| `s.count(v)`| number of times `v` appears in `s`|\n",
    "\n",
    "These methods are demonstrated below on the `data` list:"
   ]
  },
  {
   "cell_type": "code",
   "execution_count": 2,
   "metadata": {
    "collapsed": false
   },
   "outputs": [
    {
     "data": {
      "text/plain": [
       "True"
      ]
     },
     "execution_count": 2,
     "metadata": {},
     "output_type": "execute_result"
    }
   ],
   "source": [
    "1 in data"
   ]
  },
  {
   "cell_type": "code",
   "execution_count": 3,
   "metadata": {
    "collapsed": false
   },
   "outputs": [
    {
     "data": {
      "text/plain": [
       "True"
      ]
     },
     "execution_count": 3,
     "metadata": {},
     "output_type": "execute_result"
    }
   ],
   "source": [
    "0 not in data"
   ]
  },
  {
   "cell_type": "code",
   "execution_count": 4,
   "metadata": {
    "collapsed": false
   },
   "outputs": [
    {
     "data": {
      "text/plain": [
       "[1, 2, 3, 4, 5, 6, 7, 8, 9, 10, 1, 2, 3, 4, 5, 6, 7, 8, 9, 10]"
      ]
     },
     "execution_count": 4,
     "metadata": {},
     "output_type": "execute_result"
    }
   ],
   "source": [
    "data * 2"
   ]
  },
  {
   "cell_type": "code",
   "execution_count": 5,
   "metadata": {
    "collapsed": false
   },
   "outputs": [
    {
     "data": {
      "text/plain": [
       "[1, 2, 3, 4, 5, 6, 7, 8, 9, 10, 11, 12, 13, 14]"
      ]
     },
     "execution_count": 5,
     "metadata": {},
     "output_type": "execute_result"
    }
   ],
   "source": [
    "data + [11, 12, 13, 14]"
   ]
  },
  {
   "cell_type": "code",
   "execution_count": 6,
   "metadata": {
    "collapsed": false
   },
   "outputs": [
    {
     "name": "stdout",
     "output_type": "stream",
     "text": [
      "10 1 10\n"
     ]
    }
   ],
   "source": [
    "print(len(data), min(data), max(data))"
   ]
  },
  {
   "cell_type": "markdown",
   "metadata": {},
   "source": [
    "-----\n",
    "\n",
    "### [Strings](https://docs.python.org/3.4/library/stdtypes.html#text-sequence-type-str)\n",
    "\n",
    "In Python, a string is a sequence of zero or more characters that are\n",
    "enclosed within either a pair of single quote characters, `'`, or a pair\n",
    "of double quote characters, `\"`. While it might seem confusing to have\n",
    "two such similar representations, it can be quite handy, as this allows\n",
    "strings to be written that include either single quotes or double quote\n",
    "characters by simply using the opposite type to enclose the string\n",
    "itself:\n",
    "\n",
    "```\n",
    "\"A string with a contraction such as don't or a possessive like Python's string.\"\n",
    "'A string with a quote, \"Four score and seven years ago ...\"'\n",
    "```\n",
    "\n",
    "A string can span multiple lines by using either three single or double\n",
    "quote characters to enclose the sequence of characters, just like\n",
    "multi-line comments. Adjacent strings on the same line will be silently\n",
    "combined by the Python interpreter:\n",
    "\n",
    "```python\n",
    "data = 'First Name ''Last Name '\" Email Address\"\n",
    "print(data)\n",
    "\n",
    "First Name Last Name  Email Address\n",
    "```\n",
    "\n",
    "A special string in Python is known as a _raw string_, where\n",
    "backslashes are not handled in a special way when processing the string.\n",
    "This is useful when constructing regular expressions or other strings\n",
    "that might include formatting information, like plot axes that use LaTeX\n",
    "formatting. TO create a raw string, simply prefix the string with a\n",
    "lower-case `'r'`:\n",
    "\n",
    "```python\n",
    "data =r'Text with a \\ that is left unprocessed.'\n",
    "```\n",
    "\n",
    "The `str` class defines a large number of functions that can be used to\n",
    "process string data, including testing if the string only contains\n",
    "alphabetical values, numerical values, or alphanumeric values, and\n",
    "functions that can convert a string to all lower-case or uppercase\n",
    "characters. A full description of the string methods is available from\n",
    "the online [Python\n",
    "Documentation](https://docs.python.org/3/library/stdtypes.html#str) or\n",
    "by using `help(str)` at a Python prompt or IPython Notebook cell.\n",
    "\n",
    "Some of the more useful Python _string_ functions are listed in the \n",
    "following table, assuming the `data` is a string.\n",
    "\n",
    "__`format`__:\n",
    "\n",
    "The format method is used to create a new, formatted string from a\n",
    "template string and substitution text. The classic example is a form\n",
    "letter, where specific fields are replaced by new data with every\n",
    "string. The `format` method replaces the previous `%` string formatting\n",
    "operator. In its basic form, the template string includes identified\n",
    "`{}` to indicate replacement string locations, and the format method\n",
    "takes arguments that are used to indicate the replacement text. For\n",
    "example,\n",
    "\n",
    "```python\n",
    "'Hello {}, you are visitor #{}!'.format('Alexander', 23)\n",
    "```\n",
    "\n",
    "will return\n",
    "\n",
    "```\n",
    "'Hello Alexander, you are visitor #23!'\n",
    "```\n",
    "\n",
    "__`find`__:\n",
    "\n",
    "The `find` method locates the first occurrence of a sub-string in the\n",
    "full string, and returns the index position of this first occurrence. For\n",
    "example, \n",
    "\n",
    "```python\n",
    "\"The brown dog jumped over the quick fox!\".find(\"he\")\n",
    "```\n",
    "\n",
    "returns 1.\n",
    "\n",
    "__`split`__:\n",
    "\n",
    "The `split` method is very powerful, and will tokenize a string into\n",
    "substrings based on the input arguments, which are whitespace characters\n",
    "by default. For example,\n",
    "\n",
    "```python\n",
    "\"The brown dog jumped over the quick fox!\".split()\n",
    "```\n",
    "returns\n",
    "\n",
    "```\n",
    "['The', 'brown', 'dog', 'jumped', 'over', 'the', 'quick', 'fox!']\n",
    "```\n",
    "\n",
    "__`strip`__:\n",
    "\n",
    "The `strip` method is used to remove characters specified as input\n",
    "arguments to the method from the beginning and end of a string. By\n",
    "default, whitespace characters are removed. Two variants of this\n",
    "function: `lstrip` and `rstrip` remove leading or trailing characters,\n",
    "respectively.\n",
    "\n",
    "```python\n",
    "\"    Some text surrounded by white space characters    \".strip()\n",
    "```\n",
    "returns\n",
    "\n",
    "```\n",
    "'Some text surrounded by white space characters'\n",
    "```\n",
    "\n",
    "__`join`__:\n",
    "\n",
    "While strings can be combined by using the `+` operator, this approach\n",
    "is slow for many additions since each addition requires the construction\n",
    "of a new string to hold the combined result. A more efficient string\n",
    "combination approach is to use the `join` method, which can quickly\n",
    "combine multiple strings that are contained in an iterable object such\n",
    "as a `list` or `tuple` together. The string you use to call the join\n",
    "method provides the _glue text_ between each item in the iterable. For\n",
    "example, the following method will create a new string from a list of\n",
    "strings that are each separated by a comma and a single space character:\n",
    "\n",
    "```python\n",
    "\n",
    "data = ['1', '2', '3', '4', '5', '6', '7', '8', '9']\n",
    "\n",
    "\", \".join(data)\n",
    "```\n",
    "returns \n",
    "\n",
    "`'1, 2, 3, 4, 5, 6, 7, 8, 9'`\n",
    "\n",
    "The following code block demonstrate several string operations that you\n",
    "can test, change, and execute.\n",
    "\n",
    "----\n"
   ]
  },
  {
   "cell_type": "code",
   "execution_count": 7,
   "metadata": {
    "collapsed": false
   },
   "outputs": [
    {
     "name": "stdout",
     "output_type": "stream",
     "text": [
      "The brown dog jumped over the quick fox!\n"
     ]
    }
   ],
   "source": [
    "text = ['The', 'brown', 'dog', 'jumped', 'over', 'the', 'quick', 'fox!']\n",
    "\n",
    "newtext = \" \".join(text)\n",
    "\n",
    "print(newtext)"
   ]
  },
  {
   "cell_type": "markdown",
   "metadata": {},
   "source": [
    "-----\n",
    "\n",
    "Another useful built-in function is the `input` function that can be\n",
    "used to obtain information from the user. The `input` method has a\n",
    "string argument that is displayed on _STDOUT_ and reads characters from\n",
    "_STDIN_ until a newline character is encountered. This is demonstrated in\n",
    "the following code cell.\n",
    "\n",
    "-----"
   ]
  },
  {
   "cell_type": "code",
   "execution_count": 8,
   "metadata": {
    "collapsed": false
   },
   "outputs": [
    {
     "name": "stdout",
     "output_type": "stream",
     "text": [
      "Enter your Name: Alexander the Great!\n",
      "Welcome Alexander the Great!\n"
     ]
    }
   ],
   "source": [
    "name = input(\"Enter your Name: \")\n",
    "\n",
    "print(\"Welcome {0}\".format(name))"
   ]
  },
  {
   "cell_type": "markdown",
   "metadata": {},
   "source": [
    "-----\n",
    "\n",
    "### [List](https://docs.python.org/3/tutorial/datastructures.html#more-on-lists)\n",
    "\n",
    "A mutable sequence that can hold homogeneous data, `[1, 2, 3, 4, 5]` or\n",
    "heterogeneous data, `[1, '2', 'Three', (4, 5)]`. A list can be created\n",
    "in several different ways:\n",
    "\n",
    "1. `[]`: An empty list\n",
    "2. `[1]`: A single valued list\n",
    "3. `[1, 2, 3]`: Comma-separated items\n",
    "4. `list()`: using the list class constructor\n",
    "\n",
    "Since a `list` is mutable, a list can be changed by adding elements,\n",
    "removing elements, or simply changing existing elements in place. Lists\n",
    "are very powerful data structures and are used extensively in many\n",
    "Python programs. The following table presents some of the more commonly\n",
    "used list functions:\n",
    "\n",
    "| Function | Description | Example |\n",
    "| ---- | ----- | ---- |\n",
    "| append| add an element to the end of the list | data.append(11) |\n",
    "| insert | insert an element at the specified index | data.insert(4, '4') |\n",
    "| del | delete the value at the specified index | del data[4] |\n",
    "| remove | remove the  element containing the value | data.remove(11) |\n",
    "|clear | remove all elements in the list | data.clear() |\n",
    "| sort | sorts list in place | data.sort() |\n",
    "| reverse | reverses list in place | data.reverse() | \n",
    "\n",
    "By default, assigning a list to a new variable results in a shallow\n",
    "copy, which means that both variables point to the same underlying list\n",
    "and any changes to one results in changes to the other. For example,\n",
    "after this set of operations:\n",
    "\n",
    "```python\n",
    "data = [1, 2, 3, 4, 5, 6, 7, 8, 9, 10]\n",
    "d = data\n",
    "d[0] = -1\n",
    "```\n",
    "\n",
    "`data[0]` now contains the value `-1`. To obtain a deep copy, use the\n",
    "slice notation without any values. For example, after this set of\n",
    "operations:\n",
    "\n",
    "```python\n",
    "data = [1, 2, 3, 4, 5, 6, 7, 8, 9, 10]\n",
    "d = data[:]\n",
    "d[0] = -1\n",
    "```\n",
    "\n",
    "`data[0]` retains the original value of `1`.\n",
    "\n",
    "-----"
   ]
  },
  {
   "cell_type": "code",
   "execution_count": 10,
   "metadata": {
    "collapsed": false
   },
   "outputs": [
    {
     "name": "stdout",
     "output_type": "stream",
     "text": [
      "[1, 2, 3, 4, 5, 6, 7, 8, 9, 10]\n",
      "[10, 9, 8, 7, 6, 5, 4, 3, 2, 1]\n"
     ]
    }
   ],
   "source": [
    "data = [1, 2, 3, 4, 5, 6, 7, 8, 9, 10]\n",
    "\n",
    "print(data)\n",
    "\n",
    "data.reverse()\n",
    "print(data)"
   ]
  },
  {
   "cell_type": "code",
   "execution_count": 11,
   "metadata": {
    "collapsed": false
   },
   "outputs": [
    {
     "name": "stdout",
     "output_type": "stream",
     "text": [
      "[10, 9, 8, 7, 6, 5, 4, 3, 2, 1]\n",
      "[10, -1, 8, 7, 6, 5, 4, 3, 2, 1]\n"
     ]
    }
   ],
   "source": [
    "# Now we compare shallow and deep copies\n",
    "\n",
    "# First a deep copy\n",
    "d = data[:]\n",
    "d[1] = -1\n",
    "\n",
    "print(data)\n",
    "\n",
    "# Now a shallow copy\n",
    "d = data\n",
    "d[1] = -1\n",
    "\n",
    "print(data)"
   ]
  },
  {
   "cell_type": "markdown",
   "metadata": {},
   "source": [
    "## Additional References\n",
    "\n",
    "1. [Think Python](http://faculty.stedwards.edu/mikek/python/thinkpython.pdf) for Python3.\n",
    "2. [Python3 Tutorial](https://docs.python.org/3.4/tutorial/index.html)\n",
    "3. [Dive into Python3](http://www.diveintopython3.net/index.html)\n",
    "\n",
    "For information on writing Python programs at the command line, Google for Education has developed [Pyhon Setup directions](https://developers.google.com/edu/python/set-up).\n",
    "\n",
    "Python 2 versus Python 3:\n",
    "1. A [discussion of the differences between Python 2 and Python 3](http://python3porting.com/intro.html).\n",
    "2. A [shorter List of Changes from Python 2 to Python 3](http://inventwithpython.com/appendixa.html).\n",
    "\n",
    "Several free books, mostly written for Python 2:\n",
    "1. [Open Tech School's Introduction to Programming with Python](http://opentechschool.github.io/python-beginners/en/index.html)\n",
    "2. [Invent with Python](http://inventwithpython.com)\n",
    "3. [Building Skills in Programming](http://www.itmaybeahack.com/homepage/books/)\n",
    "4. [Learn Python The Hard Way, 3rd Edition](http://learnpythonthehardway.org/book/)\n",
    "5. [A Byte of Python](http://www.ibiblio.org/g2swap/byteofpython/read/)\n",
    " \n",
    " \n",
    "-----"
   ]
  }
 ],
 "metadata": {
  "kernelspec": {
   "display_name": "Python 3",
   "language": "python",
   "name": "python3"
  },
  "language_info": {
   "codemirror_mode": {
    "name": "ipython",
    "version": 3
   },
   "file_extension": ".py",
   "mimetype": "text/x-python",
   "name": "python",
   "nbconvert_exporter": "python",
   "pygments_lexer": "ipython3",
   "version": "3.5.2"
  }
 },
 "nbformat": 4,
 "nbformat_minor": 0
}

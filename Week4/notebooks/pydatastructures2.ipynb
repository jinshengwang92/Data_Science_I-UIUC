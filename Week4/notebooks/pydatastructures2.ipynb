{
 "cells": [
  {
   "cell_type": "markdown",
   "metadata": {},
   "source": [
    "<DIV ALIGN=CENTER>\n",
    "\n",
    "# Python Data Structures II\n",
    "## Professor Robert J. Brunner\n",
    "  \n",
    "</DIV>  \n",
    "-----\n",
    "-----"
   ]
  },
  {
   "cell_type": "markdown",
   "metadata": {},
   "source": [
    "## Introduction\n",
    "\n",
    "Previously, we covered the basic Python concepts required to begin\n",
    "writing legal Python code. In this lesson, we will introduce additional\n",
    "fundamental concepts that form the basis of many Python programs. These\n",
    "concepts include the built-in Python data structures: string, tuple,\n",
    "list, and dictionary. In this notebook we focus on the dict and tuple.\n",
    "\n",
    "-----"
   ]
  },
  {
   "cell_type": "markdown",
   "metadata": {},
   "source": [
    "### [Dictionary](https://docs.python.org/3/tutorial/datastructures.html#dictionaries)\n",
    "\n",
    "An unordered sequence that can hold values that are referenced by\n",
    "corresponding keys. These key, value pairs are separated by commas,\n",
    "while the value is separated from its key by a colon ':' character. A\n",
    "dictionary can be created in several different ways:\n",
    "\n",
    "1. `{}`: An empty dictionary\n",
    "2. `{'1': 1}`: A single key-value dictionary\n",
    "3. `{'1': 1, '2': \"two\", '3': (1, 2, 3)}`: Comma-separated key-value pairs\n",
    "4. `dict()`: using the dict class constructor\n",
    "\n",
    "Since a `dictionary` is mutable, a dictionary can be changed by adding\n",
    "key-value pairs, by removing key-value pairs, or simply changing\n",
    "existing values in place. Dictionaries can be very useful data\n",
    "structures, and Python provides a number of useful functions to work\n",
    "with dictionaries as listed in the following table:\n",
    "\n",
    "| Operation | Description |\n",
    "| ----- | ----- |\n",
    "| `v in d`| `True` if `v` is in the dictionary `d`, otherwise `False`|\n",
    "| `v not in d`| `False` if `v` is in the sequence `d`, otherwise `True`|\n",
    "| `del d[k]` | Deletes the key value pair identified by the key `k` |\n",
    "| `d.keys()` | Returns the keys from the dictionary `d` |\n",
    "| `d.values()` | Returns the values from the dictionary `d` |\n",
    "| `d.items()` | Returns the key-value pairs from the dictionary `d` |\n",
    "| `d.clear()` | Removes all entries from the dictionary `d` |\n",
    "| `d.copy()` | Returns a shallow copy of the dictionary `d` |\n",
    "| `len(d)` | Returns the number of entries in the dictionary `d`|\n",
    "\n",
    "The following code block presents a simple dictionary, along with\n",
    "several operations that demonstrate these functions.\n",
    "\n",
    "\n",
    "-----"
   ]
  },
  {
   "cell_type": "code",
   "execution_count": 12,
   "metadata": {
    "collapsed": false
   },
   "outputs": [
    {
     "name": "stdout",
     "output_type": "stream",
     "text": [
      "{'2': 'two', '1': 1, '3': (1, 2, 3)}\n",
      "3\n",
      "True\n",
      "True\n",
      "{'2': 'two', '1': 1, '3': (1, 2, 3)}\n"
     ]
    }
   ],
   "source": [
    "d = {'1': 1, '2': \"two\", '3': (1, 2, 3)}\n",
    "\n",
    "print(d)\n",
    "print(len(d))\n",
    "\n",
    "print('1' in d)\n",
    "print('4' not in d)\n",
    "\n",
    "a = d.copy()\n",
    "\n",
    "del a['1']\n",
    "\n",
    "print(d)"
   ]
  },
  {
   "cell_type": "markdown",
   "metadata": {},
   "source": [
    "-----\n",
    "\n",
    "### [Tuple](https://docs.python.org/3/tutorial/datastructures.html#tuples-and-sequences)\n",
    "\n",
    "An immutable sequence that can hold homogeneous data, `(1, 2, 3, 4, 5)`\n",
    "or heterogeneous data, `(1, '2', 'Three', (4, 5))`. A tuple can be created\n",
    "in several different ways:\n",
    "\n",
    "1. `()`: An empty tuple\n",
    "2. `1,` or `(1, )`: A single valued tuple\n",
    "3. `1, 2, 3` or `(1, 2, 3)`: Comma-separated items\n",
    "4. `tuple()`: using the tuple class constructor\n",
    "\n",
    "Note the requirement for the trailing comma to create a singel-valued\n",
    "tuple; otherwise the Python interpreter interprets the expression as an\n",
    "value enclosed in parentheses, for example `(1)` is an integer. Any\n",
    "change to a `tuple` requires the creation of a new `tuple`.\n",
    "\n",
    "Tuples are commonly used to pass information to and from functions, and\n",
    "allow for the assignment of multiple data values simultaneously via\n",
    "_unpacking_:\n",
    "\n",
    "-----"
   ]
  },
  {
   "cell_type": "code",
   "execution_count": 9,
   "metadata": {
    "collapsed": false
   },
   "outputs": [
    {
     "name": "stdout",
     "output_type": "stream",
     "text": [
      "12\n"
     ]
    }
   ],
   "source": [
    "point = (12, 32, 9)\n",
    "\n",
    "x, y, z = point\n",
    "\n",
    "print(x)"
   ]
  },
  {
   "cell_type": "markdown",
   "metadata": {},
   "source": [
    "-----\n",
    "\n",
    "### Other Data Structures\n",
    "\n",
    "Python now supports a number of other data structures, including the\n",
    "[`range`](https://docs.python.org/3/library/stdtypes.html#range),\n",
    "[`set`](https://docs.python.org/3/library/stdtypes.html#set),\n",
    "[`frozenset`](https://docs.python.org/3/library/stdtypes.html#frozenset), and the\n",
    "[`collections`](https://docs.python.org/3/library/collections.html#)\n",
    "module container data types. Of these, the `range` type is frequently\n",
    "used in `for` loops, described later, to simplify iteration through a\n",
    "sequence data structure. The other data structures are beyond\n",
    "the scope of this lesson.\n",
    "\n",
    "-----"
   ]
  },
  {
   "cell_type": "markdown",
   "metadata": {},
   "source": [
    "## Additional References\n",
    "\n",
    "1. [Think Python](http://faculty.stedwards.edu/mikek/python/thinkpython.pdf) for Python3.\n",
    "2. [Python3 Tutorial](https://docs.python.org/3.4/tutorial/index.html)\n",
    "3. [Dive into Python3](http://www.diveintopython3.net/index.html)\n",
    "\n",
    "For information on writing Python programs at the command line, Google for Education has developed [Pyhon Setup directions](https://developers.google.com/edu/python/set-up).\n",
    "\n",
    "Python 2 versus Python 3:\n",
    "1. A [discussion of the differences between Python 2 and Python 3](http://python3porting.com/intro.html).\n",
    "2. A [shorter List of Changes from Python 2 to Python 3](http://inventwithpython.com/appendixa.html).\n",
    "\n",
    "Several free books, mostly written for Python 2:\n",
    "1. [Open Tech School's Introduction to Programming with Python](http://opentechschool.github.io/python-beginners/en/index.html)\n",
    "2. [Invent with Python](http://inventwithpython.com)\n",
    "3. [Building Skills in Programming](http://www.itmaybeahack.com/homepage/books/)\n",
    "4. [Learn Python The Hard Way, 3rd Edition](http://learnpythonthehardway.org/book/)\n",
    "5. [A Byte of Python](http://www.ibiblio.org/g2swap/byteofpython/read/)\n",
    " \n",
    " \n",
    "-----"
   ]
  }
 ],
 "metadata": {
  "kernelspec": {
   "display_name": "Python 3",
   "language": "python",
   "name": "python3"
  },
  "language_info": {
   "codemirror_mode": {
    "name": "ipython",
    "version": 3
   },
   "file_extension": ".py",
   "mimetype": "text/x-python",
   "name": "python",
   "nbconvert_exporter": "python",
   "pygments_lexer": "ipython3",
   "version": "3.5.2"
  }
 },
 "nbformat": 4,
 "nbformat_minor": 0
}

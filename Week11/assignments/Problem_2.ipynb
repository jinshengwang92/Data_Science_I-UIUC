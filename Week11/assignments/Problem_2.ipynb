{
 "cells": [
  {
   "cell_type": "markdown",
   "metadata": {
    "deletable": false,
    "nbgrader": {
     "checksum": "de5da69c73233538e7ebc82604e546e6",
     "grade": false,
     "grade_id": "header",
     "locked": true,
     "solution": false
    }
   },
   "source": [
    "# Week 11 Problem 2\n",
    "\n",
    "If you are not using the `Assignments` tab on the course JupyterHub server to read this notebook, read [Activating the assignments tab](https://github.com/UI-DataScience/info490-fa16/blob/master/Week2/assignments/README.md).\n",
    "\n",
    "A few things you should keep in mind when working on assignments:\n",
    "\n",
    "1. Make sure you fill in any place that says `YOUR CODE HERE`. Do **not** write your answer in anywhere else other than where it says `YOUR CODE HERE`. Anything you write anywhere else will be removed or overwritten by the autograder.\n",
    "\n",
    "2. Before you submit your assignment, make sure everything runs as expected. Go to menubar, select _Kernel_, and restart the kernel and run all cells (_Restart & Run all_).\n",
    "\n",
    "3. Do not change the title (i.e. file name) of this notebook.\n",
    "\n",
    "4. Make sure that you save your work (in the menubar, select _File_ → _Save and CheckPoint_)\n",
    "\n",
    "5. You are allowed to submit an assignment multiple times, but only the most recent submission will be graded."
   ]
  },
  {
   "cell_type": "code",
   "execution_count": null,
   "metadata": {
    "collapsed": false,
    "deletable": false,
    "nbgrader": {
     "checksum": "228845590e9056e3299c4d93c5de949c",
     "grade": false,
     "grade_id": "import_nose",
     "locked": true,
     "solution": false
    }
   },
   "outputs": [],
   "source": [
    "from nose.tools import assert_equal, assert_almost_equal\n",
    "from numpy.testing import assert_array_almost_equal, assert_array_equal\n",
    "import numpy as np\n",
    "from functools import reduce"
   ]
  },
  {
   "cell_type": "markdown",
   "metadata": {
    "deletable": false,
    "nbgrader": {
     "checksum": "82b9e6212623c14f0d4b84fe620f7d7c",
     "grade": false,
     "grade_id": "p1_title",
     "locked": true,
     "solution": false
    }
   },
   "source": [
    "Lately, you have been studying on functional programming and it's high time that you got some practice with it! For this problem set, you will be focusing mainly on lambda functions, as well as map(), filter(), and reduce().  You will notice that I have already imported functools for you, so please bear that in mind.  \n",
    "\n",
    "# Problem 1.\n",
    "\n",
    "For this first problem, you will be making a function that will take a list of temperatures as well as a string that will convey if the temperatures inside are in Celcius or Fahrenheit.  Using lambda functions, you should manipulate the lists so that the list of temperatures get converted to Kelvin. In order to do this, you should keep in mind the following equations:\n",
    "\n",
    "If you are converting from Celsius to Kelvin, you simply add 273.15 to the original temperature:\n",
    "$$Kelvin= Celsius + 273.15 $$\n",
    "\n",
    "If you are converting from Fahrenheit to Kelvin, the easiest avenue is to first convert the temperature to Celsius, then convert the new Celsius temperatures to Kelvin, as was done above:\n",
    "$$Celsius = \\frac{5}{9}\\cdot(Fahrenheit-32) $$\n",
    "$$Kelvin= Celsius + 273.15 $$\n",
    "\n",
    "Note: you do not have to worry about c_or_f being anything but \"cel\" or \"far\"."
   ]
  },
  {
   "cell_type": "code",
   "execution_count": null,
   "metadata": {
    "collapsed": false,
    "deletable": false,
    "nbgrader": {
     "checksum": "e4d57d04bb1b2dfcc5bad4384d6b1dc3",
     "grade": false,
     "grade_id": "p1_answer",
     "locked": false,
     "solution": true
    }
   },
   "outputs": [],
   "source": [
    "def to_kelvin(temps, c_or_f):\n",
    "    '''\n",
    "    Takes a list and a string that is either \"cel\" or \"far\".\n",
    "    Returns a list of temperatures converted to Kelvin.\n",
    "    \n",
    "    Parameters\n",
    "    ----------\n",
    "    temps: A list\n",
    "    c_or_f: A string.\n",
    "    \n",
    "    Returns\n",
    "    -------\n",
    "    A list.\n",
    "    '''\n",
    "    # YOUR CODE HERE\n",
    "    return new_temp\n",
    "    "
   ]
  },
  {
   "cell_type": "code",
   "execution_count": null,
   "metadata": {
    "collapsed": false,
    "deletable": false,
    "nbgrader": {
     "checksum": "ff8a02af81fc7c8d66c28bb77910a7fb",
     "grade": true,
     "grade_id": "cube_test",
     "locked": true,
     "points": 10,
     "solution": false
    }
   },
   "outputs": [],
   "source": [
    "Far = [102, 97.7, 99.14, 100.4, 100.04, -40, 68.5, 32, 0, 75]\n",
    "assert_array_almost_equal(to_kelvin(Far,'far'), \n",
    "                          [312.0388888888889, 309.65, 310.45, 311.15, 310.95, 233.14999999999998, 293.42777777777775, 273.15, 255.3722222222222, 297.0388888888889], \n",
    "                          decimal = 3)\n",
    "assert_equal(len(to_kelvin(Far,'far')), len(Far))\n",
    "\n",
    "assert_array_almost_equal(to_kelvin([1,2,3,4],'far'),\n",
    "                         [255.92777777777775, 256.4833333333333, 257.0388888888889, 257.59444444444443],\n",
    "                         decimal = 3)\n",
    "\n",
    "Cel = [30.5, 42, 53.78, 2.01, -40.00, -20.56, 0, 32, 14.5]\n",
    "assert_array_almost_equal(to_kelvin(Cel,'cel'), \n",
    "                          [303.65, 315.15, 326.92999999999995, 275.15999999999997, 233.14999999999998, 252.58999999999997, 273.15, 305.15, 287.65], \n",
    "                          decimal = 3)\n",
    "assert_equal(len(to_kelvin(Cel, 'cel')), len(Cel))\n",
    "\n",
    "assert_array_almost_equal(to_kelvin([1,2,3,4],'cel'),\n",
    "                         [274.15, 275.15, 276.15, 277.15],\n",
    "                         decimal = 2)"
   ]
  },
  {
   "cell_type": "markdown",
   "metadata": {
    "deletable": false,
    "nbgrader": {
     "checksum": "b2af5956409444c88f61dba000a08750",
     "grade": false,
     "grade_id": "p2_title",
     "locked": true,
     "solution": false
    }
   },
   "source": [
    "# Problem 2.\n",
    "\n",
    "In this problem, you will make a function that will take in a list of numbers and will reduce the list down to a sublist that contains numbers that obey one of the following criteria: only even numbers, only numbers that are a multiple of 5, or only numbers that are divisible by 7.  In order to denote these criteria, you will use a function argument called `criteria` that will say what the numbers in the sublist should be divisible by ('two', 'five', 'seven').\n",
    "\n",
    "For example, say that you started out with a list of numbers: \n",
    "$$[0,1,2,3,4,5,6,7,8,9,10]$$\n",
    "\n",
    "If you were to apply the criteria 'two' then you should recieve the following list:\n",
    "$$[0,2,4,6,8,10]$$\n",
    "\n",
    "The criteria 'five' should give:\n",
    "$$[0,5,10]$$\n",
    "\n",
    "And finally, the 'seven' criteria should leave you with:\n",
    "$$[0,7]$$\n",
    "\n",
    "Note: You do not have to worry about `criteria` being anything but 'two', 'five', or 'seven'."
   ]
  },
  {
   "cell_type": "code",
   "execution_count": null,
   "metadata": {
    "collapsed": true,
    "deletable": false,
    "nbgrader": {
     "checksum": "3f0d6d0ca9144c46526ef99d678aa96f",
     "grade": false,
     "grade_id": "p2_answer",
     "locked": false,
     "solution": true
    }
   },
   "outputs": [],
   "source": [
    "def sublist(num_list, criteria):\n",
    "    '''\n",
    "    Takes a list and a criteria that is either 'two', 'five', or 'seven'.\n",
    "    Returns a list of numbers that match the criteria given.\n",
    "    \n",
    "    Parameters\n",
    "    ----------\n",
    "    num_list = a list\n",
    "    criteria = a string\n",
    "    \n",
    "    Returns\n",
    "    -------\n",
    "    A list.\n",
    "    '''\n",
    "    # YOUR CODE HERE\n",
    "    return result"
   ]
  },
  {
   "cell_type": "code",
   "execution_count": null,
   "metadata": {
    "collapsed": false,
    "deletable": false,
    "nbgrader": {
     "checksum": "548a36ffb9578efe170fb42a10dfe1fb",
     "grade": true,
     "grade_id": "markdown_2",
     "locked": true,
     "points": 10,
     "solution": false
    }
   },
   "outputs": [],
   "source": [
    "assert_array_equal(sublist(range(21), \"five\"), [0,5,10,15,20])\n",
    "assert_array_equal(sublist(range(21), \"two\"), [0,2,4,6,8,10,12,14,16,18,20])\n",
    "assert_array_equal(sublist(range(21), \"seven\"), [0,7,14])\n",
    "\n",
    "fib = [1,1,2,3,5,8,13,21,34,55,89]\n",
    "\n",
    "assert_array_equal(sublist(fib, \"five\"), [5,55])\n",
    "assert_array_equal(sublist(fib, \"two\"), [2,8,34])\n",
    "assert_array_equal(sublist(fib, \"seven\"), [21])\n",
    "\n",
    "squ = [1,4,9,16,25,36,49]\n",
    "\n",
    "assert_array_equal(sublist(squ, \"five\"), [25])\n",
    "assert_array_equal(sublist(squ, \"two\"), [4,16,36])\n",
    "assert_array_equal(sublist(squ, \"seven\"), [49])"
   ]
  },
  {
   "cell_type": "markdown",
   "metadata": {
    "deletable": false,
    "nbgrader": {
     "checksum": "77b07094ee0cf347622c0404d7826aad",
     "grade": false,
     "grade_id": "p3_title",
     "locked": true,
     "solution": false
    }
   },
   "source": [
    "# Problem 3.\n",
    "\n",
    "Finally, you will need to create a function that will find the minimum value in a list of numbers using reduce() and lambda functions.  This should be a one-liner function, so don't overthink it! \n",
    "\n",
    "Note: You should NOT be using min() in your function definition below!"
   ]
  },
  {
   "cell_type": "code",
   "execution_count": null,
   "metadata": {
    "collapsed": true,
    "deletable": false,
    "nbgrader": {
     "checksum": "abd1742fb192e106437d47b4ab39f0e0",
     "grade": false,
     "grade_id": "markdown_1",
     "locked": false,
     "solution": true
    }
   },
   "outputs": [],
   "source": [
    "def sublist(num_list):\n",
    "    '''\n",
    "    Takes a list of numbers and returns the smallest argument.\n",
    "    \n",
    "    Parameters\n",
    "    ----------\n",
    "    num_list = a list\n",
    "    \n",
    "    Returns\n",
    "    -------\n",
    "    A number.\n",
    "    '''\n",
    "    # YOUR CODE HERE\n",
    "    return result"
   ]
  },
  {
   "cell_type": "code",
   "execution_count": null,
   "metadata": {
    "collapsed": false,
    "deletable": false,
    "nbgrader": {
     "checksum": "314478d6820c8135666803bd9e199c73",
     "grade": true,
     "grade_id": "markdown_3",
     "locked": true,
     "points": 5,
     "solution": false
    }
   },
   "outputs": [],
   "source": [
    "assert_equal(sublist(range(5,20)), 5)\n",
    "\n",
    "fib = [1,1,2,3,5,8,13,21,34,55,89]\n",
    "assert_equal(sublist(fib), 1)\n",
    "\n",
    "squ = [1,4,9,16,25,36,49]\n",
    "assert_equal(sublist(squ),1)\n",
    "\n",
    "f = np.ndarray.tolist(np.random.randint(-100000, 100000, 25))\n",
    "assert_equal(sublist(f), min(f))\n",
    "\n",
    "g = np.ndarray.tolist(np.random.rand(100000))\n",
    "assert_equal(sublist(g), min(g))\n",
    "\n",
    "h = [4505, 19358, 38437, 42905, 49030, 38037, 49812, 12049, 3443, 38463, 20812, 34606, 46069, 18470, 21422, 18468, 30372, 37250, 10402, 45221, 7938, 34138, 28968, 25111, 38682, 19162, 22387, 28594, 37128, 257, 25515, 44181, 30400, 10328, 7453, 46862, 48531, 47331, 16164, 12907, 11291, 32066, 49055, 20227, 31078, 22199, 32655, 45027, 34102, 9457, 5421, 45664, 28339, 44039, 30423]\n",
    "assert_equal(sublist(h), 257)"
   ]
  },
  {
   "cell_type": "code",
   "execution_count": null,
   "metadata": {
    "collapsed": true
   },
   "outputs": [],
   "source": []
  }
 ],
 "metadata": {
  "kernelspec": {
   "display_name": "Python 3",
   "language": "python",
   "name": "python3"
  },
  "language_info": {
   "codemirror_mode": {
    "name": "ipython",
    "version": 3
   },
   "file_extension": ".py",
   "mimetype": "text/x-python",
   "name": "python",
   "nbconvert_exporter": "python",
   "pygments_lexer": "ipython3",
   "version": "3.5.2"
  }
 },
 "nbformat": 4,
 "nbformat_minor": 0
}

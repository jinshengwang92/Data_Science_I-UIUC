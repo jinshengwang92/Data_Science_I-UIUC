{
 "cells": [
  {
   "cell_type": "markdown",
   "metadata": {
    "deletable": false,
    "nbgrader": {
     "checksum": "fc73ab44d0de8310042304630c7c2010",
     "grade": false,
     "grade_id": "header",
     "locked": true,
     "solution": false
    }
   },
   "source": [
    "# Week 11 Problem 1\n",
    "\n",
    "If you are not using the `Assignments` tab on the course JupyterHub server to read this notebook, read [Activating the assignments tab](https://github.com/UI-DataScience/info490-fa16/blob/master/Week2/assignments/README.md).\n",
    "\n",
    "A few things you should keep in mind when working on assignments:\n",
    "\n",
    "1. Make sure you fill in any place that says `YOUR CODE HERE`. Do **not** write your answer in anywhere else other than where it says `YOUR CODE HERE`. Anything you write anywhere else will be removed or overwritten by the autograder.\n",
    "\n",
    "2. Before you submit your assignment, make sure everything runs as expected. Go to menubar, select _Kernel_, and restart the kernel and run all cells (_Restart & Run all_).\n",
    "\n",
    "3. Do not change the title (i.e. file name) of this notebook.\n",
    "\n",
    "4. Make sure that you save your work (in the menubar, select _File_ → _Save and CheckPoint_)\n",
    "\n",
    "5. You are allowed to submit an assignment multiple times, but only the most recent submission will be graded."
   ]
  },
  {
   "cell_type": "code",
   "execution_count": null,
   "metadata": {
    "collapsed": false,
    "deletable": false,
    "nbgrader": {
     "checksum": "6a707c2042b19938a03fefa81abef5b4",
     "grade": false,
     "grade_id": "import_nose",
     "locked": true,
     "solution": false
    }
   },
   "outputs": [],
   "source": [
    "from nose.tools import assert_equal\n",
    "import numpy as np\n",
    "import pandas as pd\n",
    "from numpy.testing import assert_almost_equal, assert_array_equal"
   ]
  },
  {
   "cell_type": "markdown",
   "metadata": {
    "deletable": false,
    "nbgrader": {
     "checksum": "df7c0530dde3e094ba6e12d08ddf8376",
     "grade": false,
     "grade_id": "sometext",
     "locked": true,
     "solution": false
    }
   },
   "source": [
    "In this problem, we will use Pandas [apply()](http://pandas.pydata.org/pandas-docs/stable/generated/pandas.DataFrame.apply.html) to perform function application in Pandas.\n",
    "\n",
    "We will use a smaller data set with only 10 rows in this problem, but any function you write in this notebook can be scaled to a larger data set such as `2001.csv`."
   ]
  },
  {
   "cell_type": "code",
   "execution_count": null,
   "metadata": {
    "collapsed": false,
    "deletable": false,
    "nbgrader": {
     "checksum": "8b9d511bf4e1e4ab883f37ce100717c0",
     "grade": false,
     "grade_id": "create_data",
     "locked": true,
     "solution": false
    }
   },
   "outputs": [],
   "source": [
    "df = pd.DataFrame({\n",
    "    \"Origin\": ['ORD', 'DFW', 'ATL', 'LAX', 'PHX', 'STL', 'DTW', 'MSP', 'LAS', 'BOS'],\n",
    "    \"Distance\": [1050, 370,  228,  678,  873, 472,  370, 1182,  745,  448],\n",
    "    \"ArrDelay\": [-3,   4,  23,  10,  20, -3, -10, -12,  -9,  -1],\n",
    "    \"DepDelay\": [-4,  -5,  11,  -3,   0, -3,  -8,  -6,   2,   2],\n",
    "    \"Cancelled\": [0, 0, 0, 0, 1, 0, 1, 0, 1, 1]\n",
    "})\n",
    "\n",
    "print(df)"
   ]
  },
  {
   "cell_type": "markdown",
   "metadata": {
    "deletable": false,
    "nbgrader": {
     "checksum": "b22021ff5446c726bfee3792585ecd24",
     "grade": false,
     "grade_id": "p1_title",
     "locked": true,
     "solution": false
    }
   },
   "source": [
    "# Problem 1.\n",
    "\n",
    "Use Pandas [apply()](http://pandas.pydata.org/pandas-docs/stable/generated/pandas.DataFrame.apply.html) function to write a function named `get_log10()`, which takes a Pandas data frame as its first argument and a column name (str) as its second argument. It returns a Pandas Series with base-10 log values of the specified column.\n",
    "\n",
    "Note: [numpy.log()](http://docs.scipy.org/doc/numpy/reference/generated/numpy.log.html) calculates the natural logarithm. For the base-10 logarithm, you should use [numpy.log10()](http://docs.scipy.org/doc/numpy/reference/generated/numpy.log10.html)."
   ]
  },
  {
   "cell_type": "code",
   "execution_count": null,
   "metadata": {
    "collapsed": true,
    "deletable": false,
    "nbgrader": {
     "checksum": "db3521fb40ee6d84031e737d64f0aa3d",
     "grade": false,
     "grade_id": "p1_answer",
     "locked": false,
     "solution": true
    }
   },
   "outputs": [],
   "source": [
    "def get_log10(df, column):\n",
    "    '''\n",
    "    Takes a data frame and a column name.\n",
    "    Returns base-10 log of the specified column.\n",
    "    \n",
    "    Parameters\n",
    "    ----------\n",
    "    df: A pandas data frame.\n",
    "    column: A string.\n",
    "    \n",
    "    Returns\n",
    "    -------\n",
    "    A Pandas Series.\n",
    "    '''\n",
    "    \n",
    "    # YOUR CODE HERE\n",
    "    \n",
    "    return result"
   ]
  },
  {
   "cell_type": "code",
   "execution_count": null,
   "metadata": {
    "collapsed": false,
    "deletable": false,
    "nbgrader": {
     "checksum": "260445bbc15bf6cf215e9f10da13183e",
     "grade": true,
     "grade_id": "p1_test",
     "locked": true,
     "points": 6,
     "solution": false
    }
   },
   "outputs": [],
   "source": [
    "# insert assert tests here\n",
    "log_10_distance = get_log10(df, \"Distance\")\n",
    "answer1 = np.array([\n",
    "    3.0211893, 2.56820172, 2.35793485, 2.83122969,  2.94101424,\n",
    "    2.673942, 2.56820172, 3.07261748, 2.87215627, 2.65127801\n",
    "])\n",
    "\n",
    "assert_almost_equal(log_10_distance.values, answer1)"
   ]
  },
  {
   "cell_type": "markdown",
   "metadata": {
    "deletable": false,
    "nbgrader": {
     "checksum": "b339cb31273cfd33f8c010e0ff2c8ac0",
     "grade": false,
     "grade_id": "p2_title",
     "locked": true,
     "solution": false
    }
   },
   "source": [
    "# Problem 2.\n",
    "\n",
    "Use Pandas apply() to write a function named `get_sum()` that takes a data frame and returns the sum of each row in the specified columns. That is, if the arrival and departure delay columns of our data frame are:\n",
    "\n",
    "```\n",
    "   ArrDelay  DepDelay\n",
    "0        -3        -4\n",
    "1         4        -5\n",
    "2        23        11\n",
    "3        10        -3\n",
    "4        20         0\n",
    "5        -3        -3\n",
    "6       -10        -8\n",
    "7       -12        -6\n",
    "8        -9         2\n",
    "9        -1         2\n",
    "```\n",
    "\n",
    "we want to calculate the sum of each row in these columns:\n",
    "\n",
    "```\n",
    "0    -7\n",
    "1    -1\n",
    "2    34\n",
    "3     7\n",
    "4    20\n",
    "5    -6\n",
    "6   -18\n",
    "7   -18\n",
    "8    -7\n",
    "9     1\n",
    "```"
   ]
  },
  {
   "cell_type": "code",
   "execution_count": null,
   "metadata": {
    "collapsed": true,
    "deletable": false,
    "nbgrader": {
     "checksum": "60c6f2a9ed35a2dc261e8bb772cb1995",
     "grade": false,
     "grade_id": "p2_answer",
     "locked": false,
     "solution": true
    }
   },
   "outputs": [],
   "source": [
    "def get_sum(df, columns):\n",
    "    '''\n",
    "    Takes a Pandas DataFrame as its first argument and a list of columns as its second argument.\n",
    "    Returns a Pandas Series with the sum of the columns listed in \"columns\".\n",
    "    \n",
    "    Parameters\n",
    "    ----------\n",
    "    df: A pandas DataFrame.\n",
    "    columns: A list of strings.\n",
    "    \n",
    "    Returns\n",
    "    -------\n",
    "    A pandas Series.\n",
    "    '''\n",
    "\n",
    "    # YOUR CODE HERE\n",
    "    \n",
    "    return result"
   ]
  },
  {
   "cell_type": "code",
   "execution_count": null,
   "metadata": {
    "collapsed": false,
    "deletable": false,
    "nbgrader": {
     "checksum": "d71ce2bc25f47b6b093b67528a9e40d6",
     "grade": true,
     "grade_id": "p2_test",
     "locked": true,
     "points": 6,
     "solution": false
    }
   },
   "outputs": [],
   "source": [
    "# insert assert tests here\n",
    "total_delay = get_sum(df, [\"ArrDelay\", \"DepDelay\"])\n",
    "answer2 = np.array([ -7,  -1,  34,   7,  20,  -6, -18, -18,  -7,   1])\n",
    "assert_almost_equal(answer2, total_delay.values)\n",
    "\n",
    "arr_delay = get_sum(df, [\"ArrDelay\"])\n",
    "answer3 = np.array(df.ArrDelay)\n",
    "assert_almost_equal(answer3, arr_delay.values)"
   ]
  },
  {
   "cell_type": "markdown",
   "metadata": {
    "deletable": false,
    "nbgrader": {
     "checksum": "2d4f15148b4b66356fdfd0e536baa7fa",
     "grade": false,
     "grade_id": "p3_header",
     "locked": true,
     "solution": false
    }
   },
   "source": [
    "# Problem 3\n",
    "\n",
    "Now we want to apply our own user-defined funtion to a dataframe. This is useful when the `ufuncs` don't concisely do what we need them do. For example, say we wish to create a new series that is the value in the `Origin` column if the flight was cancelled and the string 'NA' otherwise.  Write a function called `get_cancelled_origin` that takes a row of a DataFrame (so a Series) as an argument. Return the 'Origin' element if the 'Cancelled' element equals 1. Otherwise return 'NA'.\n",
    "\n",
    "Notice we didn't give you the function shell, you must create it yourself. You may use the traditional function definition style or the [lambda function style](http://www.python-course.eu/python3_lambda.php)."
   ]
  },
  {
   "cell_type": "code",
   "execution_count": null,
   "metadata": {
    "collapsed": true,
    "deletable": false,
    "nbgrader": {
     "checksum": "d5a4e327af4dbac66a64035b5a3496bf",
     "grade": false,
     "grade_id": "p3_answer",
     "locked": false,
     "solution": true
    }
   },
   "outputs": [],
   "source": [
    "#YOUR CODE HERE"
   ]
  },
  {
   "cell_type": "code",
   "execution_count": null,
   "metadata": {
    "collapsed": true,
    "deletable": false,
    "nbgrader": {
     "checksum": "6a36cb2f1756b69426949b0ebcc2af0e",
     "grade": true,
     "grade_id": "p3_tests",
     "locked": true,
     "points": 6,
     "solution": false
    }
   },
   "outputs": [],
   "source": [
    "s = pd.Series({\n",
    "        'foo':'bar',\n",
    "        \"Origin\":'A', \n",
    "        'Cancelled': 1\n",
    "          })\n",
    "assert_equal(\"A\", get_cancelled_origin(s))\n",
    "\n",
    "s = pd.Series({\n",
    "        'foo':'bar',\n",
    "        \"Origin\":'A', \n",
    "        'Cancelled': 0\n",
    "          })\n",
    "\n",
    "assert_equal(\"NA\", get_cancelled_origin(s))\n",
    "\n",
    "s = pd.Series({\n",
    "        'foo':'bar',\n",
    "        \"Origin\":'A', \n",
    "        'Cancelled': -1\n",
    "          })\n",
    "\n",
    "assert_equal(\"NA\", get_cancelled_origin(s))"
   ]
  },
  {
   "cell_type": "markdown",
   "metadata": {
    "deletable": false,
    "nbgrader": {
     "checksum": "ab0a72bd7d92a79bdd72c62e1fc56819",
     "grade": false,
     "grade_id": "p4_header",
     "locked": true,
     "solution": false
    }
   },
   "source": [
    "# Problem 4\n",
    "\n",
    "Now write a function to apply a generic function (such as `get_cancelled_origin`) to a dataframe along a given axis. This shouldn't be too hard because we are not passing any arguments to the generic function.\n",
    "\n"
   ]
  },
  {
   "cell_type": "code",
   "execution_count": null,
   "metadata": {
    "collapsed": false,
    "deletable": false,
    "nbgrader": {
     "checksum": "2a314b957c105a2662d509fa30ae4584",
     "grade": false,
     "grade_id": "p4_answer",
     "locked": false,
     "solution": true
    }
   },
   "outputs": [],
   "source": [
    "def apply_userdefined_func(df, f, axis=1):\n",
    "    \n",
    "    '''\n",
    "    Generic wrapper to apply a function to a dataframe on a given axis\n",
    "    \n",
    "    Parameters\n",
    "    ----------\n",
    "    df: A pandas DataFrame.\n",
    "    f: A function to apply\n",
    "    axis: the axis argument to pass to pd.DataFrame.apply()\n",
    "    \n",
    "    Returns\n",
    "    -------\n",
    "    A pandas Series.\n",
    "    '''\n",
    "    \n",
    "    # YOUR CODE HERE\n",
    "    \n",
    "    return result"
   ]
  },
  {
   "cell_type": "code",
   "execution_count": null,
   "metadata": {
    "collapsed": false,
    "deletable": false,
    "nbgrader": {
     "checksum": "05d0c9f9f448ddf91e9fa28ddafdc53d",
     "grade": true,
     "grade_id": "p4_tests",
     "locked": true,
     "points": 7,
     "solution": false
    }
   },
   "outputs": [],
   "source": [
    "ans4 = pd.Series(\n",
    "    [\"NA\", \"NA\", \"NA\", \"NA\", \"PHX\", \"NA\", \"DTW\", \"NA\", \"LAS\", \"BOS\"]\n",
    "    )\n",
    "assert_array_equal(ans4, apply_userdefined_func(df, get_cancelled_origin).values)\n",
    "\n",
    "\n",
    "df2 = df.drop('Origin', axis=1)\n",
    "f = lambda x: (np.mean(x) + 1 )\n",
    "ans5 = pd.Series(\n",
    "    [261.75, 93.25, 66.50, 172.25, 224.50,\n",
    "    117.5, 89.25, 292.0, 185.75, 113.5]\n",
    ")\n",
    "assert_almost_equal(ans5, apply_userdefined_func(df2, f, axis=1).values)"
   ]
  },
  {
   "cell_type": "markdown",
   "metadata": {
    "collapsed": true,
    "deletable": false,
    "nbgrader": {
     "checksum": "f38cf31654286b31d8be79fb87b2e8db",
     "grade": false,
     "grade_id": "ci_text",
     "locked": true,
     "solution": false
    }
   },
   "source": [
    "We can also use a somewhat complicated lambda-style function to calculate confidence intervals for each column like so:"
   ]
  },
  {
   "cell_type": "code",
   "execution_count": null,
   "metadata": {
    "collapsed": false,
    "deletable": false,
    "nbgrader": {
     "checksum": "6873b61c31128a85f9408b9b11449053",
     "grade": false,
     "grade_id": "ci_example",
     "locked": true,
     "solution": false
    }
   },
   "outputs": [],
   "source": [
    "df2 = df.drop('Origin', axis=1)\n",
    "f = lambda x: (np.mean(x) - 2 * np.std(x), np.mean(x) + 2 * np.std(x))\n",
    "apply_userdefined_func(df2, f, axis=0)"
   ]
  },
  {
   "cell_type": "code",
   "execution_count": null,
   "metadata": {
    "collapsed": true
   },
   "outputs": [],
   "source": []
  }
 ],
 "metadata": {
  "kernelspec": {
   "display_name": "Python 3",
   "language": "python",
   "name": "python3"
  },
  "language_info": {
   "codemirror_mode": {
    "name": "ipython",
    "version": 3
   },
   "file_extension": ".py",
   "mimetype": "text/x-python",
   "name": "python",
   "nbconvert_exporter": "python",
   "pygments_lexer": "ipython3",
   "version": "3.5.2"
  }
 },
 "nbformat": 4,
 "nbformat_minor": 0
}

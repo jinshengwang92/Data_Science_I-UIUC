{
 "cells": [
  {
   "cell_type": "markdown",
   "metadata": {
    "nbgrader": {
     "grade": false,
     "locked": false,
     "solution": false
    }
   },
   "source": [
    "# Week 11 Problem 3\n",
    "\n",
    "If you are not using the `Assignments` tab on the course JupyterHub server to read this notebook, read [Activating the assignments tab](https://github.com/UI-DataScience/info490-fa16/blob/master/Week2/assignments/README.md).\n",
    "\n",
    "A few things you should keep in mind when working on assignments:\n",
    "\n",
    "1. Make sure you fill in any place that says `YOUR CODE HERE`. Do **not** write your answer in anywhere else other than where it says `YOUR CODE HERE`. Anything you write anywhere else will be removed or overwritten by the autograder.\n",
    "\n",
    "2. Before you submit your assignment, make sure everything runs as expected. Go to menubar, select _Kernel_, and restart the kernel and run all cells (_Restart & Run all_).\n",
    "\n",
    "3. Do not change the title (i.e. file name) of this notebook.\n",
    "\n",
    "4. Make sure that you save your work (in the menubar, select _File_ → _Save and CheckPoint_)\n",
    "\n",
    "5. You are allowed to submit an assignment multiple times, but only the most recent submission will be graded."
   ]
  },
  {
   "cell_type": "code",
   "execution_count": null,
   "metadata": {
    "collapsed": true,
    "deletable": false,
    "nbgrader": {
     "checksum": "18287b36628928896f295d0fffa4b39c",
     "grade": false,
     "grade_id": "import",
     "locked": true,
     "solution": false
    }
   },
   "outputs": [],
   "source": [
    "import re\n",
    "from nose.tools import assert_equal"
   ]
  },
  {
   "cell_type": "markdown",
   "metadata": {
    "nbgrader": {
     "grade": false,
     "locked": false,
     "solution": false
    }
   },
   "source": [
    "# Problem 1. Functional programming.\n",
    "\n",
    "In this problem, we will use functional programming (list comprehensions, map, and filter) to process Twitter data. We will use the same tweets from [Problem 6.2](https://github.com/UI-DataScience/info490-fa16/blob/master/Week6/assignments/Problem_2.ipynb), where you were introduced to list comprehensions but were not required to use functional programming. However, you **must** use functional programming in this problem, because you are only allowed to write your code between `[...]` the square brackets of list comprehensiosn or `list(map(...))` the map function."
   ]
  },
  {
   "cell_type": "code",
   "execution_count": null,
   "metadata": {
    "collapsed": false,
    "deletable": false,
    "nbgrader": {
     "checksum": "3a5a1561181658d94864317adff21afc",
     "grade": false,
     "grade_id": "tweets",
     "locked": true,
     "solution": false
    }
   },
   "outputs": [],
   "source": [
    "tweets = '''\n",
    "New #job opening at The Ottawa Hospital in #Ottawa - #Clinical #Informatics Specialist #jobs http://t.co/3SlUy11dro\n",
    "Looking for a #Clinical #Informatics Pharmacist Park Plaza Hospital #jobs http://t.co/4Qw8i6YaJI\n",
    "Info Session 10/7: MSc in Biomedical Informatics, University of Chicago https://t.co/65G8dJmhdR #HIT #UChicago #informatics #healthcare\n",
    "Here's THE best #Books I've read on #EHR #HIE #HIPAA and #Health #Informatics http://t.co/meFE0dMSPe\n",
    "@RMayNurseDir @FNightingaleF Scholars talking passionately about what they believe in. #informatics &amp; #skincare  https://t.co/m8qiUSxk0h\n",
    "'''.strip().split('\\n')\n",
    "\n",
    "print(tweets)"
   ]
  },
  {
   "cell_type": "markdown",
   "metadata": {
    "nbgrader": {
     "grade": false,
     "locked": false,
     "solution": false
    }
   },
   "source": [
    "## 1. Use list comprehensions to split the text into words.\n",
    "\n",
    "Use list comprehensions to split each `tweets` into a list of words. Thus, the `split_into_words()` function will return a nested list of lists. See the test case below for an example.\n",
    "\n",
    "Note that your answer should go in between the square brackets, and therefore you are forced to use list comprehensions."
   ]
  },
  {
   "cell_type": "code",
   "execution_count": null,
   "metadata": {
    "collapsed": true,
    "deletable": false,
    "nbgrader": {
     "checksum": "ddb42fc57320ea7251344e28c5716aa4",
     "grade": false,
     "grade_id": "split_into_words_answer",
     "locked": false,
     "solution": true
    }
   },
   "outputs": [],
   "source": [
    "def split_into_words(tweets):\n",
    "    '''\n",
    "    Takes a list of tweets, and returns a nested list of words in all tweets.\n",
    "    Since words are separated by one or more whitespaces,\n",
    "    the return value is a list of lists of strings with no whitespace.\n",
    "    \n",
    "    Parameters\n",
    "    ----------\n",
    "    tweets: a list of strings. Strings have whitespaces.\n",
    "    \n",
    "    Returns\n",
    "    -------\n",
    "    A nested list of strings. Strings have no whitespace.\n",
    "    Results from splitting each tweet in tweets by whitespace.\n",
    "    '''\n",
    "    \n",
    "    return [\n",
    "        # YOUR CODE HERE\n",
    "    ]"
   ]
  },
  {
   "cell_type": "markdown",
   "metadata": {
    "nbgrader": {
     "grade": false,
     "locked": false,
     "solution": false
    }
   },
   "source": [
    "Run the following code cell to visually inspect the return value of your function."
   ]
  },
  {
   "cell_type": "code",
   "execution_count": null,
   "metadata": {
    "collapsed": false,
    "deletable": false,
    "nbgrader": {
     "checksum": "e0853c6c2a802d95436c47e07c3af888",
     "grade": false,
     "grade_id": "print_split_into_words",
     "locked": true,
     "solution": false
    }
   },
   "outputs": [],
   "source": [
    "words = split_into_words(tweets)\n",
    "print(words)"
   ]
  },
  {
   "cell_type": "markdown",
   "metadata": {
    "nbgrader": {
     "grade": false,
     "locked": false,
     "solution": false
    }
   },
   "source": [
    "Make sure that your function passes the following assertion test."
   ]
  },
  {
   "cell_type": "code",
   "execution_count": null,
   "metadata": {
    "collapsed": true,
    "deletable": false,
    "nbgrader": {
     "checksum": "95d2cc3e478c8c54a456c881d5351022",
     "grade": true,
     "grade_id": "split_into_words_test",
     "locked": true,
     "points": 5,
     "solution": false
    }
   },
   "outputs": [],
   "source": [
    "# assertion test\n",
    "words_answer = [\n",
    "    ['New', '#job', 'opening', 'at', 'The', 'Ottawa', 'Hospital', 'in', '#Ottawa', '-',\n",
    "    '#Clinical', '#Informatics', 'Specialist', '#jobs', 'http://t.co/3SlUy11dro'],\n",
    "    \n",
    "    ['Looking', 'for', 'a', '#Clinical', '#Informatics', 'Pharmacist', 'Park', 'Plaza', 'Hospital',\n",
    "    '#jobs', 'http://t.co/4Qw8i6YaJI'],\n",
    "    \n",
    "    ['Info', 'Session', '10/7:', 'MSc', 'in', 'Biomedical', 'Informatics,', 'University', 'of', 'Chicago',\n",
    "    'https://t.co/65G8dJmhdR', '#HIT', '#UChicago', '#informatics', '#healthcare'],\n",
    "    \n",
    "    [\"Here's\", 'THE', 'best', '#Books', \"I've\", 'read', 'on', '#EHR', '#HIE', '#HIPAA',\n",
    "    'and', '#Health', '#Informatics', 'http://t.co/meFE0dMSPe'],\n",
    "    \n",
    "    ['@RMayNurseDir', '@FNightingaleF', 'Scholars', 'talking', 'passionately', 'about', 'what', 'they', 'believe', 'in.',\n",
    "    '#informatics', '&amp;', '#skincare', 'https://t.co/m8qiUSxk0h']\n",
    "]\n",
    "\n",
    "assert_equal(words, words_answer)"
   ]
  },
  {
   "cell_type": "markdown",
   "metadata": {
    "nbgrader": {
     "grade": false,
     "locked": false,
     "solution": false
    }
   },
   "source": [
    "## 2. Use the map function to split the text into words.\n",
    "\n",
    "Rewrite the `split_into_words()` function using `map()` instead of list comprehensions. `split_into_words()` and `map_into_words()` accept exactly the same arguments and return the same results, except the former uses list comprehensions while the latter uses `map()`."
   ]
  },
  {
   "cell_type": "code",
   "execution_count": null,
   "metadata": {
    "collapsed": true,
    "deletable": false,
    "nbgrader": {
     "checksum": "403df630a936ee3c31196ff27de0fd9f",
     "grade": false,
     "grade_id": "map_into_words_answer",
     "locked": false,
     "solution": true
    }
   },
   "outputs": [],
   "source": [
    "def map_into_words(tweets):\n",
    "    '''\n",
    "    Takes a list of tweets, and returns a nested list of words in all tweets.\n",
    "    Since words are separated by one or more whitespaces,\n",
    "    the return value is a list of lists of strings with no whitespace.\n",
    "    \n",
    "    Parameters\n",
    "    ----------\n",
    "    tweets: a list of strings. Strings have whitespaces.\n",
    "    \n",
    "    Returns\n",
    "    -------\n",
    "    A nested list of strings. Strings have no whitespace.\n",
    "    Results from splitting each tweet in tweets by whitespace.\n",
    "    '''\n",
    "    \n",
    "    return list(map(\n",
    "        # YOUR CODE HERE\n",
    "    ))"
   ]
  },
  {
   "cell_type": "markdown",
   "metadata": {
    "nbgrader": {
     "grade": false,
     "locked": false,
     "solution": false
    }
   },
   "source": [
    "Run the following code cell to visually inspect the return value of your function."
   ]
  },
  {
   "cell_type": "code",
   "execution_count": null,
   "metadata": {
    "collapsed": false,
    "deletable": false,
    "nbgrader": {
     "checksum": "9f512c934a1d9529e3ac20773f8aaa60",
     "grade": false,
     "grade_id": "print_map_into_words",
     "locked": true,
     "solution": false
    }
   },
   "outputs": [],
   "source": [
    "mapped_words = map_into_words(tweets)\n",
    "print(mapped_words)"
   ]
  },
  {
   "cell_type": "markdown",
   "metadata": {
    "nbgrader": {
     "grade": false,
     "locked": false,
     "solution": false
    }
   },
   "source": [
    "Make sure that your function passes the following test case. Note that the answer is the same as the one for `split_into_words()`."
   ]
  },
  {
   "cell_type": "code",
   "execution_count": null,
   "metadata": {
    "collapsed": true,
    "deletable": false,
    "nbgrader": {
     "checksum": "cb9136d5bcbf48419d2cf8ba0a80f907",
     "grade": true,
     "grade_id": "map_into_words_test",
     "locked": true,
     "points": 5,
     "solution": false
    }
   },
   "outputs": [],
   "source": [
    "# assertion test\n",
    "assert_equal(mapped_words, words_answer)"
   ]
  },
  {
   "cell_type": "markdown",
   "metadata": {
    "nbgrader": {
     "grade": false,
     "locked": false,
     "solution": false
    }
   },
   "source": [
    "## Flatten the nested list (code provided).\n",
    "\n",
    "It would be useful to flatten the nested list and have a flat list of strings. I'm not going to ask you to do this because a double for loop in list comprehensions can be a little confusing to someone new to list comprehensions. In keeping with the theme of functional programming, here's a function that flattens a list:"
   ]
  },
  {
   "cell_type": "code",
   "execution_count": null,
   "metadata": {
    "collapsed": true,
    "deletable": false,
    "nbgrader": {
     "checksum": "c9b268ee91e57e0d9068930f7550d498",
     "grade": false,
     "grade_id": "flatten",
     "locked": true,
     "solution": false
    }
   },
   "outputs": [],
   "source": [
    "def flatten(tweets):\n",
    "    '''\n",
    "    Flattens a nested list.\n",
    "    \n",
    "    Parameters\n",
    "    ----------\n",
    "    tweets: a list of lists.\n",
    "    \n",
    "    Returns\n",
    "    -------\n",
    "    A flat list.\n",
    "    '''\n",
    "\n",
    "    return [\n",
    "        t for tweet in tweets for t in tweet\n",
    "    ]"
   ]
  },
  {
   "cell_type": "markdown",
   "metadata": {
    "nbgrader": {
     "grade": false,
     "locked": false,
     "solution": false
    }
   },
   "source": [
    "The outer loop comes first and the inner loop later in list comprehensions. This is equivalent to\n",
    "\n",
    "```python\n",
    "a_list = []\n",
    "for tweet in tweets:\n",
    "    for t in tweet:\n",
    "        a_list.append(t)\n",
    "return a_list\n",
    "```\n",
    "\n",
    "Let's check if our function does what it's supposed to do."
   ]
  },
  {
   "cell_type": "code",
   "execution_count": null,
   "metadata": {
    "collapsed": true,
    "deletable": false,
    "nbgrader": {
     "checksum": "a353706e025fde51539b0ae388a3cb8c",
     "grade": false,
     "grade_id": "flatten_test",
     "locked": true,
     "solution": false
    }
   },
   "outputs": [],
   "source": [
    "# check the flatten() function\n",
    "flattened_words = flatten(words)\n",
    "\n",
    "flattened_words_answer = [\n",
    "    'New', '#job', 'opening', 'at', 'The', 'Ottawa', 'Hospital', 'in', '#Ottawa', '-',\n",
    "    '#Clinical', '#Informatics', 'Specialist', '#jobs', 'http://t.co/3SlUy11dro',\n",
    "    \n",
    "    'Looking', 'for', 'a', '#Clinical', '#Informatics', 'Pharmacist', 'Park', 'Plaza', 'Hospital',\n",
    "    '#jobs', 'http://t.co/4Qw8i6YaJI',\n",
    "    \n",
    "    'Info', 'Session', '10/7:', 'MSc', 'in', 'Biomedical', 'Informatics,', 'University', 'of', 'Chicago',\n",
    "    'https://t.co/65G8dJmhdR', '#HIT', '#UChicago', '#informatics', '#healthcare',\n",
    "    \n",
    "    \"Here's\", 'THE', 'best', '#Books', \"I've\", 'read', 'on', '#EHR', '#HIE', '#HIPAA',\n",
    "    'and', '#Health', '#Informatics', 'http://t.co/meFE0dMSPe',\n",
    "    \n",
    "    '@RMayNurseDir', '@FNightingaleF', 'Scholars', 'talking', 'passionately', 'about', 'what', 'they', 'believe', 'in.',\n",
    "    '#informatics', '&amp;', '#skincare', 'https://t.co/m8qiUSxk0h'\n",
    "]\n",
    "\n",
    "assert_equal(flattened_words, flattened_words_answer)"
   ]
  },
  {
   "cell_type": "markdown",
   "metadata": {
    "nbgrader": {
     "grade": false,
     "locked": false,
     "solution": false
    }
   },
   "source": [
    "## 3. Use list comprehensions to find long words.\n",
    "\n",
    "Use list comprehensions to write a function named `get_long_words()` that takes a list of strings. It finds every word that has 10 characters or more and returns a list of tuples `(str, int)`, where the string is a word with 10 or more characters and the integer is the length of that word. See the test case below for what the return value looks like."
   ]
  },
  {
   "cell_type": "code",
   "execution_count": null,
   "metadata": {
    "collapsed": true,
    "deletable": false,
    "nbgrader": {
     "checksum": "6eb2cd9445bf203f74f3bbe78d8c1813",
     "grade": false,
     "grade_id": "get_long_words_answer",
     "locked": false,
     "solution": true
    }
   },
   "outputs": [],
   "source": [
    "def get_long_words(words):\n",
    "    '''\n",
    "    Takes a list of strings. Finds every word with 10 or more characters.\n",
    "    Returns a list of tuples of the form\n",
    "    (a word with 10 or more characters, the length of that word)\n",
    "    \n",
    "    Parameters\n",
    "    ----------\n",
    "    words: a list of strings.\n",
    "    \n",
    "    Returns\n",
    "    -------\n",
    "    A list of tuples (str, int).\n",
    "    '''\n",
    "\n",
    "    return [\n",
    "        # YOUR CODE HERE\n",
    "    ]"
   ]
  },
  {
   "cell_type": "code",
   "execution_count": null,
   "metadata": {
    "collapsed": false,
    "deletable": false,
    "nbgrader": {
     "checksum": "fff4c71c2af8e5e97c3c26fa94294d81",
     "grade": false,
     "grade_id": "print_get_long_words",
     "locked": true,
     "solution": false
    }
   },
   "outputs": [],
   "source": [
    "long_words = get_long_words(flattened_words)\n",
    "print(long_words)"
   ]
  },
  {
   "cell_type": "code",
   "execution_count": null,
   "metadata": {
    "collapsed": true,
    "deletable": false,
    "nbgrader": {
     "checksum": "a32c3a16e8d3d02d9686f34e62f93aec",
     "grade": true,
     "grade_id": "get_long_words_test",
     "locked": true,
     "points": 5,
     "solution": false
    }
   },
   "outputs": [],
   "source": [
    "# assertion test\n",
    "long_words_answer = [\n",
    "    ('#Informatics', 12),\n",
    "    ('Specialist', 10),\n",
    "    ('http://t.co/3SlUy11dro', 22),\n",
    "    ('#Informatics', 12),\n",
    "    ('Pharmacist', 10),\n",
    "    ('http://t.co/4Qw8i6YaJI', 22),\n",
    "    ('Biomedical', 10),\n",
    "    ('Informatics,', 12),\n",
    "    ('University', 10),\n",
    "    ('https://t.co/65G8dJmhdR', 23),\n",
    "    ('#informatics', 12),\n",
    "    ('#healthcare', 11),\n",
    "    ('#Informatics', 12),\n",
    "    ('http://t.co/meFE0dMSPe', 22),\n",
    "    ('@RMayNurseDir', 13),\n",
    "    ('@FNightingaleF', 14),\n",
    "    ('passionately', 12),\n",
    "    ('#informatics', 12),\n",
    "    ('https://t.co/m8qiUSxk0h', 23)\n",
    "]\n",
    "\n",
    "assert_equal(len(long_words), len(long_words_answer))\n",
    "assert_equal(set(long_words), set(long_words_answer))"
   ]
  },
  {
   "cell_type": "markdown",
   "metadata": {
    "nbgrader": {
     "grade": false,
     "locked": false,
     "solution": false
    }
   },
   "source": [
    "## 4. Rewrite get\\_long\\_words() using map() and filter().\n",
    "\n",
    "Use `map()` and `filter()` to rewrite `get_long_words()`. `get_long_words()` and `map_long_words()` accept exactly the same arguments and return the same results, except the former uses list comprehensions while the latter uses `map()` and `filter()`."
   ]
  },
  {
   "cell_type": "code",
   "execution_count": null,
   "metadata": {
    "collapsed": true,
    "deletable": false,
    "nbgrader": {
     "checksum": "8bc1e15074c6d695efc6548174e3161f",
     "grade": false,
     "grade_id": "map_long_words_answer",
     "locked": false,
     "solution": true
    }
   },
   "outputs": [],
   "source": [
    "def map_long_words(words):\n",
    "    '''\n",
    "    Takes a list of strings. Finds every word with 10 or more characters.\n",
    "    Returns a list of tuples of the form\n",
    "    (a word with 10 or more characters, the length of that word)\n",
    "    \n",
    "    Parameters\n",
    "    ----------\n",
    "    words: a list of strings.\n",
    "    \n",
    "    Returns\n",
    "    -------\n",
    "    A list of tuples (str, int).\n",
    "    '''\n",
    "    \n",
    "    return list(map(\n",
    "        # YOUR CODE HERE\n",
    "    ))"
   ]
  },
  {
   "cell_type": "code",
   "execution_count": null,
   "metadata": {
    "collapsed": false,
    "deletable": false,
    "nbgrader": {
     "checksum": "57cd834e3c74ad9256624611aa48e65f",
     "grade": false,
     "grade_id": "print_map_long_words",
     "locked": true,
     "solution": false
    }
   },
   "outputs": [],
   "source": [
    "mapped_long_words = map_long_words(flattened_words)\n",
    "print(mapped_long_words)"
   ]
  },
  {
   "cell_type": "code",
   "execution_count": null,
   "metadata": {
    "collapsed": true,
    "deletable": false,
    "nbgrader": {
     "checksum": "c44437e77d800029a605c981553ffbc5",
     "grade": true,
     "grade_id": "map_long_words_test",
     "locked": true,
     "points": 5,
     "solution": false
    }
   },
   "outputs": [],
   "source": [
    "# assertion test\n",
    "assert_equal(len(mapped_long_words), len(long_words_answer))\n",
    "assert_equal(set(mapped_long_words), set(long_words_answer))"
   ]
  },
  {
   "cell_type": "markdown",
   "metadata": {
    "nbgrader": {
     "grade": false,
     "locked": false,
     "solution": false
    }
   },
   "source": [
    "## 5. Find hashtags using list comprehensions.\n",
    "\n",
    "Use list comprehensions to find all hashtags (words that start with `#`)."
   ]
  },
  {
   "cell_type": "code",
   "execution_count": null,
   "metadata": {
    "collapsed": true,
    "deletable": false,
    "nbgrader": {
     "checksum": "55413dc252de224e38ffba0dcb3b47aa",
     "grade": false,
     "grade_id": "get_hashtags_answer",
     "locked": false,
     "solution": true
    }
   },
   "outputs": [],
   "source": [
    "def get_hashtags(words):\n",
    "    '''\n",
    "    Takes a list of strings.\n",
    "    Returns a list of strings that all start with #.\n",
    "    \n",
    "    Parameters\n",
    "    ----------\n",
    "    words: a list of strings.\n",
    "    \n",
    "    Returns\n",
    "    -------\n",
    "    A list of strings.\n",
    "    '''\n",
    "    \n",
    "    return [\n",
    "        # YOUR CODE HERE\n",
    "    ]"
   ]
  },
  {
   "cell_type": "code",
   "execution_count": null,
   "metadata": {
    "collapsed": false,
    "deletable": false,
    "nbgrader": {
     "checksum": "710165a3ae1dad6f8a6c68d09508c7a6",
     "grade": false,
     "grade_id": "print_get_hashtags",
     "locked": true,
     "solution": false
    }
   },
   "outputs": [],
   "source": [
    "hashtags = get_hashtags(flattened_words)\n",
    "print(hashtags)"
   ]
  },
  {
   "cell_type": "code",
   "execution_count": null,
   "metadata": {
    "collapsed": true,
    "deletable": false,
    "nbgrader": {
     "checksum": "a17787dbd6461415faaf535405700407",
     "grade": true,
     "grade_id": "get_hashtags_test",
     "locked": true,
     "points": 5,
     "solution": false
    }
   },
   "outputs": [],
   "source": [
    "# assertion test\n",
    "hashtags_answer = [\n",
    "    '#job', '#Ottawa', '#Clinical', '#Informatics', '#jobs',\n",
    "    '#Clinical', '#Informatics', '#jobs', '#HIT', '#UChicago',\n",
    "    '#informatics', '#healthcare', '#Books', '#EHR', '#HIE',\n",
    "    '#HIPAA', '#Health', '#Informatics', '#informatics', '#skincare'\n",
    "]\n",
    "\n",
    "assert_equal(len(hashtags), len(hashtags_answer))\n",
    "assert_equal(set(hashtags), set(hashtags_answer))"
   ]
  },
  {
   "cell_type": "markdown",
   "metadata": {
    "nbgrader": {
     "grade": false,
     "locked": false,
     "solution": false
    }
   },
   "source": [
    "## 6. Find hashtags using map() and filter().\n",
    "\n",
    "Rewrite `get_hashtags()` using `map()` and `filter()`. `get_hashtags()` and `map_hashtags()` accept exactly the same arguments and return the same results, except the former uses list comprehensions while the latter uses `map()` and `filter()`."
   ]
  },
  {
   "cell_type": "code",
   "execution_count": null,
   "metadata": {
    "collapsed": true,
    "deletable": false,
    "nbgrader": {
     "checksum": "733b45050a4888adae0952138214441c",
     "grade": false,
     "grade_id": "map_hashtags_answer",
     "locked": false,
     "solution": true
    }
   },
   "outputs": [],
   "source": [
    "def map_hashtags(words):\n",
    "    '''\n",
    "    Takes a list of strings.\n",
    "    Returns a list of strings that all start with #.\n",
    "    \n",
    "    Parameters\n",
    "    ----------\n",
    "    words: a list of strings.\n",
    "    \n",
    "    Returns\n",
    "    -------\n",
    "    A list of strings.\n",
    "    '''\n",
    "    \n",
    "    return list(map(\n",
    "        # YOUR CODE HERE\n",
    "    ))"
   ]
  },
  {
   "cell_type": "code",
   "execution_count": null,
   "metadata": {
    "collapsed": false,
    "deletable": false,
    "nbgrader": {
     "checksum": "08444286f01210dc3e6458a8011b089e",
     "grade": false,
     "grade_id": "print_map_hashtags",
     "locked": true,
     "solution": false
    }
   },
   "outputs": [],
   "source": [
    "mapped_hashtags = map_hashtags(flattened_words)\n",
    "print(mapped_hashtags)"
   ]
  },
  {
   "cell_type": "code",
   "execution_count": null,
   "metadata": {
    "collapsed": true,
    "deletable": false,
    "nbgrader": {
     "checksum": "e7557a2e41536e1f283f8898897b1506",
     "grade": true,
     "grade_id": "map_hashtags_test",
     "locked": true,
     "points": 5,
     "solution": false
    }
   },
   "outputs": [],
   "source": [
    "# assertion test\n",
    "assert_equal(len(mapped_hashtags), len(hashtags_answer))\n",
    "assert_equal(set(mapped_hashtags), set(hashtags_answer))"
   ]
  }
 ],
 "metadata": {
  "kernelspec": {
   "display_name": "Python 3",
   "language": "python",
   "name": "python3"
  },
  "language_info": {
   "codemirror_mode": {
    "name": "ipython",
    "version": 3
   },
   "file_extension": ".py",
   "mimetype": "text/x-python",
   "name": "python",
   "nbconvert_exporter": "python",
   "pygments_lexer": "ipython3",
   "version": "3.5.2"
  }
 },
 "nbformat": 4,
 "nbformat_minor": 1
}

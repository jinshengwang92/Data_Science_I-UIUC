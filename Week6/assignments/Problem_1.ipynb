{
 "cells": [
  {
   "cell_type": "markdown",
   "metadata": {
    "deletable": false,
    "nbgrader": {
     "checksum": "7fac6cdcec575c4ea83507bd59f44593",
     "grade": false,
     "grade_id": "header",
     "locked": true,
     "solution": false
    }
   },
   "source": [
    "# Week 6 Problem 1\n",
    "\n",
    "If you are not using the `Assignments` tab on the course JupyterHub server to read this notebook, read [Activating the assignments tab](https://github.com/UI-DataScience/info490-fa16/blob/master/Week2/assignments/README.md).\n",
    "\n",
    "A few things you should keep in mind when working on assignments:\n",
    "\n",
    "1. Make sure you fill in any place that says `YOUR CODE HERE`. Do **not** write your answer in anywhere else other than where it says `YOUR CODE HERE`. Anything you write anywhere else will be removed or overwritten by the autograder.\n",
    "\n",
    "2. Before you submit your assignment, make sure everything runs as expected. Go to menubar, select _Kernel_, and restart the kernel and run all cells (_Restart & Run all_).\n",
    "\n",
    "3. Do not change the title (i.e. file name) of this notebook.\n",
    "\n",
    "4. Make sure that you save your work (in the menubar, select _File_ → _Save and CheckPoint_)\n",
    "\n",
    "5. You are allowed to submit an assignment multiple times, but only the most recent submission will be graded."
   ]
  },
  {
   "cell_type": "code",
   "execution_count": null,
   "metadata": {
    "collapsed": true,
    "deletable": false,
    "nbgrader": {
     "checksum": "98b3216c15a68d2d6eb0014c58c47d08",
     "grade": false,
     "grade_id": "import_nose",
     "locked": true,
     "solution": false
    }
   },
   "outputs": [],
   "source": [
    "from nose.tools import assert_equal, assert_true, assert_false"
   ]
  },
  {
   "cell_type": "code",
   "execution_count": null,
   "metadata": {
    "collapsed": false,
    "deletable": false,
    "nbgrader": {
     "checksum": "2e15bc236fe47ac5dd231a159f66556c",
     "grade": false,
     "grade_id": "make_sandbox",
     "locked": true,
     "solution": false
    }
   },
   "outputs": [],
   "source": [
    "%%bash\n",
    "# make sandbox directory\n",
    "mkdir -p ~/w6p1_testdir\n",
    "wget -O /home/data_scientist/w6p1_testdir/crossword.jpg https://fosterdisbelief.files.wordpress.com/2015/11/crossword1.jpg\n",
    "cp /etc/bash.bashrc ~/w6p1_testdir"
   ]
  },
  {
   "cell_type": "code",
   "execution_count": null,
   "metadata": {
    "collapsed": false,
    "deletable": false,
    "nbgrader": {
     "checksum": "e8461bd67ae7982d672f4e4095b106f1",
     "grade": false,
     "grade_id": "display_image",
     "locked": true,
     "solution": false
    }
   },
   "outputs": [],
   "source": [
    "from IPython.display import Image\n",
    "Image(filename='/home/data_scientist/w6p1_testdir/crossword.jpg') "
   ]
  },
  {
   "cell_type": "markdown",
   "metadata": {
    "deletable": false,
    "nbgrader": {
     "checksum": "ed31d145a398fc8f81ec6ac9c2b4437c",
     "grade": false,
     "grade_id": "p1_title",
     "locked": true,
     "solution": false
    }
   },
   "source": [
    "# Problem 1.\n",
    "\n",
    "The main purpose of this problem is to give you experience with the tools you learned last week in conjunction with the tools you learned this week. The crossword puzzle above has some entries missing. We'll use regular expressions to help solve a couple of the missing entries. Write a bash script to do the following: \n",
    "\n",
    "1. Go get a dictionary of english language words from [this link](http://www-01.sil.org/linguistics/wordlists/english/wordlist/wordsEn.txt)\n",
    "2. Save the dictionary in ~/w6p1_testdir as `dictionary.txt`\n",
    "3. 32 across (from the puzzle above) is a 4-letter word where the second letter is 'D'. Find all such words in the dictionary and save the output in ~/w6p1_testdir as `32_across.txt`.\n",
    "4. The answer to 32 across is likely the word 'Edit'. 18 across is likely 'Ugly', which means 12 down is a 6-letter word of the form '??gre?'. Find all such words in the dictionary and save the output in ~/w6p1_testdir as `12_down.txt`\n",
    "\n",
    "Ignore case as all words in the dictionary are lowercase.\n",
    "\n",
    "**NOTE**: The `dictionary.txt` file includes a whitespace character trailing each line. You must consider this when constructing your regular expressions!"
   ]
  },
  {
   "cell_type": "code",
   "execution_count": null,
   "metadata": {
    "collapsed": false,
    "deletable": false,
    "nbgrader": {
     "checksum": "7f2b2fad6a6fd48c45194909336e686e",
     "grade": false,
     "grade_id": "p1_answer",
     "locked": false,
     "solution": true
    }
   },
   "outputs": [],
   "source": [
    "%%bash\n",
    "#YOUR CODE HERE"
   ]
  },
  {
   "cell_type": "code",
   "execution_count": null,
   "metadata": {
    "collapsed": false,
    "deletable": false,
    "nbgrader": {
     "checksum": "42f2b43bc2c4ebc561137eda65569afd",
     "grade": true,
     "grade_id": "p1_test",
     "locked": true,
     "points": 5,
     "solution": false
    }
   },
   "outputs": [],
   "source": [
    "# dictionary.txt is in the right place\n",
    "list_dir = !ls /home/data_scientist/w6p1_testdir/ \n",
    "assert_true('dictionary.txt' in list_dir)\n",
    "\n",
    "words_32_across = !cat /home/data_scientist/w6p1_testdir/32_across.txt\n",
    "# 32_across.txt is the right length\n",
    "assert_equal(len(words_32_across), 28)\n",
    "# a few select items are in 32_across.txt\n",
    "assert_true('adam' in words_32_across)\n",
    "assert_true('edit' in words_32_across)\n",
    "assert_true('idea' in words_32_across)\n",
    "\n",
    "words_12_down = !cat /home/data_scientist/w6p1_testdir/12_down.txt\n",
    "# 32_across.txt is the right length\n",
    "assert_equal(len(words_12_down), 3)\n",
    "# a few select items are in 32_across.txt\n",
    "assert_true('degree' in words_12_down)\n",
    "assert_true('regret' in words_12_down)\n",
    "assert_true('regrew' in words_12_down)"
   ]
  },
  {
   "cell_type": "markdown",
   "metadata": {
    "deletable": false,
    "nbgrader": {
     "checksum": "ab64556f6b025125484509ee1726fe85",
     "grade": false,
     "grade_id": "p2_title",
     "locked": true,
     "solution": false
    }
   },
   "source": [
    "# Problem 2.\n",
    "\n",
    "The main purpose of this problem is to give you experience constructing slightly more complicated regular expressions for a real-world purpose. There is a file in `/etc` called `bash.bashrc` that should be copied into your ~/w6p1_testdir. Suppose you want another copy of it, but you don't want any of the comments that come with it. Create two files in ~/w6p1_testdir:\n",
    "\n",
    "1. All the commented lines in `/etc/bash.bashrc` as bashrc_comments.txt\n",
    "2. All the non-commented lines **that are not whitespace** as bashrc_commands.txt"
   ]
  },
  {
   "cell_type": "code",
   "execution_count": null,
   "metadata": {
    "collapsed": false,
    "deletable": false,
    "nbgrader": {
     "checksum": "5213419b896895c98d23e64116d85a22",
     "grade": false,
     "grade_id": "p2_answer",
     "locked": false,
     "solution": true
    }
   },
   "outputs": [],
   "source": [
    "%%bash\n",
    "#YOUR CODE HERE"
   ]
  },
  {
   "cell_type": "code",
   "execution_count": null,
   "metadata": {
    "collapsed": false,
    "deletable": false,
    "nbgrader": {
     "checksum": "05d019f211a29cf1a1acfb18116f74cb",
     "grade": true,
     "grade_id": "p2_test",
     "locked": true,
     "points": 10,
     "solution": false
    }
   },
   "outputs": [],
   "source": [
    "# is everything where it's supposed to be?\n",
    "files_in_testdir = !ls /home/data_scientist/w6p1_testdir/\n",
    "assert_true('bashrc_comments.txt' in files_in_testdir)\n",
    "assert_true('bashrc_commands.txt' in files_in_testdir)\n",
    "\n",
    "# are the comments properly extracted?\n",
    "comments = !cat /home/data_scientist/w6p1_testdir/bashrc_comments.txt\n",
    "assert_equal(len(comments), 27)\n",
    "\n",
    "# are the commands properly extracted\n",
    "commands = !cat /home/data_scientist/w6p1_testdir/bashrc_commands.txt\n",
    "assert_false(\"# check because c-n-f could've been removed in the meantime\" in [x.strip() for x in commands])\n",
    "assert_equal(len(commands), 20)"
   ]
  },
  {
   "cell_type": "markdown",
   "metadata": {
    "deletable": false,
    "nbgrader": {
     "checksum": "8488ee72fdc03114c8d99662fc2ff716",
     "grade": false,
     "grade_id": "bonus_md",
     "locked": true,
     "solution": false
    }
   },
   "source": [
    "### Bonus\n",
    "What if we wanted to run the commands in the newly created script? We can do so with the following:"
   ]
  },
  {
   "cell_type": "code",
   "execution_count": null,
   "metadata": {
    "collapsed": false,
    "deletable": false,
    "nbgrader": {
     "checksum": "b38d0b6ce50b5c8d9207d6755080bbb1",
     "grade": false,
     "grade_id": "bonus_code",
     "locked": true,
     "solution": false
    }
   },
   "outputs": [],
   "source": [
    "%%bash\n",
    "cd ~/w6p1_testdir/\n",
    "chmod u+x bashrc_commands.txt\n",
    "source bashrc_commands.txt"
   ]
  },
  {
   "cell_type": "markdown",
   "metadata": {
    "deletable": false,
    "nbgrader": {
     "checksum": "f02f57732339b59e19eb1825dadbb10b",
     "grade": false,
     "grade_id": "p3_title",
     "locked": true,
     "solution": false
    }
   },
   "source": [
    "# Problem 3.\n",
    "\n",
    "The main purpose of this problem is to give you more exposure to constructing regular expressions. We return to the `bash.bashrc` file but this time we want to find all the conditional (`if` or `elif`) statements. Specifically, make the following inside of ~/w6p1_testdir:\n",
    "\n",
    "1. A file `conditionals.txt` that contains all the `if` and `elif` statements in the `/etc/bash.bashrc` file.\n",
    "2. A file `commented_conditionals.txt` that contains all the `if` and `elif` statements in `/etc/bash.bashrc` that have been commented out\n",
    "\n",
    "You may wish to use the `-E` flag with `grep`."
   ]
  },
  {
   "cell_type": "code",
   "execution_count": null,
   "metadata": {
    "collapsed": false,
    "deletable": false,
    "nbgrader": {
     "checksum": "77583e48580043eb060989807d2458a8",
     "grade": false,
     "grade_id": "p3_answer",
     "locked": false,
     "solution": true
    }
   },
   "outputs": [],
   "source": [
    "%%bash\n",
    "#YOUR CODE HERE"
   ]
  },
  {
   "cell_type": "code",
   "execution_count": null,
   "metadata": {
    "collapsed": false,
    "deletable": false,
    "nbgrader": {
     "checksum": "eaf64b3622a455b015c4db4554f0052b",
     "grade": true,
     "grade_id": "p3_test",
     "locked": true,
     "points": 10,
     "solution": false
    }
   },
   "outputs": [],
   "source": [
    "# did you find all the conditionals?\n",
    "conditionals = !cat /home/data_scientist/w6p1_testdir/conditionals.txt\n",
    "assert_equal(len(conditionals), 4)\n",
    "assert_true(\"elif [ -x /usr/share/command-not-found/command-not-found ]; then\" in [x.strip() for x in conditionals])\n",
    "\n",
    "# did you find the correct commented conditionals?\n",
    "commented_conditionals = !cat /home/data_scientist/w6p1_testdir/commented_conditionals.txt\n",
    "assert_equal(len(commented_conditionals), 3)\n",
    "assert_false(\"# if the command-not-found package is installed, use it\" in [x.strip() for x in commented_conditionals]) "
   ]
  },
  {
   "cell_type": "markdown",
   "metadata": {
    "deletable": false,
    "nbgrader": {
     "checksum": "4b05aef35c4e7f3d2e7d142a33c173b8",
     "grade": false,
     "grade_id": "cleanup_md",
     "locked": true,
     "solution": false
    }
   },
   "source": [
    "## Cleaning Up"
   ]
  },
  {
   "cell_type": "code",
   "execution_count": null,
   "metadata": {
    "collapsed": true,
    "deletable": false,
    "nbgrader": {
     "checksum": "5e0aff9a3fd8c08ca93e27bb0d8a905c",
     "grade": false,
     "grade_id": "cleanup",
     "locked": true,
     "solution": false
    }
   },
   "outputs": [],
   "source": [
    "rm -rf /home/data_scientist/w6p1_testdir/"
   ]
  },
  {
   "cell_type": "markdown",
   "metadata": {
    "deletable": false,
    "nbgrader": {
     "checksum": "ab50320eb50aaddfdde1bb3a1a14c853",
     "grade": false,
     "grade_id": "full_bashrc",
     "locked": true,
     "solution": false
    }
   },
   "source": [
    "## Just in Case\n",
    "\n",
    "If you accidentally blow up your /etc/bash.bashrc, here it is:\n",
    "\n",
    "```\n",
    "# System-wide .bashrc file for interactive bash(1) shells.\n",
    "\n",
    "# To enable the settings / commands in this file for login shells as well,\n",
    "# this file has to be sourced in /etc/profile.\n",
    "\n",
    "# If not running interactively, don't do anything\n",
    "[ -z \"$PS1\" ] && return\n",
    "\n",
    "# check the window size after each command and, if necessary,\n",
    "# update the values of LINES and COLUMNS.\n",
    "shopt -s checkwinsize\n",
    "\n",
    "# set variable identifying the chroot you work in (used in the prompt below)\n",
    "if [ -z \"${debian_chroot:-}\" ] && [ -r /etc/debian_chroot ]; then\n",
    "    debian_chroot=$(cat /etc/debian_chroot)\n",
    "fi\n",
    "\n",
    "# set a fancy prompt (non-color, overwrite the one in /etc/profile)\n",
    "PS1='${debian_chroot:+($debian_chroot)}\\u@\\h:\\w\\$ '\n",
    "\n",
    "# Commented out, don't overwrite xterm -T \"title\" -n \"icontitle\" by default.\n",
    "# If this is an xterm set the title to user@host:dir\n",
    "#case \"$TERM\" in\n",
    "#xterm*|rxvt*)\n",
    "#    PROMPT_COMMAND='echo -ne \"\\033]0;${USER}@${HOSTNAME}: ${PWD}\\007\"'\n",
    "#    ;;\n",
    "#*)\n",
    "#    ;;\n",
    "#esac\n",
    "\n",
    "# enable bash completion in interactive shells\n",
    "#if ! shopt -oq posix; then\n",
    "#  if [ -f /usr/share/bash-completion/bash_completion ]; then\n",
    "#    . /usr/share/bash-completion/bash_completion\n",
    "#  elif [ -f /etc/bash_completion ]; then\n",
    "#    . /etc/bash_completion\n",
    "#  fi\n",
    "#fi\n",
    "\n",
    "# if the command-not-found package is installed, use it\n",
    "if [ -x /usr/lib/command-not-found -o -x /usr/share/command-not-found/command-not-found ]; then\n",
    "\tfunction command_not_found_handle {\n",
    "\t        # check because c-n-f could've been removed in the meantime\n",
    "                if [ -x /usr/lib/command-not-found ]; then\n",
    "\t\t   /usr/lib/command-not-found -- \"$1\"\n",
    "                   return $?\n",
    "                elif [ -x /usr/share/command-not-found/command-not-found ]; then\n",
    "\t\t   /usr/share/command-not-found/command-not-found -- \"$1\"\n",
    "                   return $?\n",
    "\t\telse\n",
    "\t\t   printf \"%s: command not found\\n\" \"$1\" >&2\n",
    "\t\t   return 127\n",
    "\t\tfi\n",
    "\t}\n",
    "fi\n",
    "```"
   ]
  }
 ],
 "metadata": {
  "kernelspec": {
   "display_name": "Python 3",
   "language": "python",
   "name": "python3"
  },
  "language_info": {
   "codemirror_mode": {
    "name": "ipython",
    "version": 3
   },
   "file_extension": ".py",
   "mimetype": "text/x-python",
   "name": "python",
   "nbconvert_exporter": "python",
   "pygments_lexer": "ipython3",
   "version": "3.5.2"
  }
 },
 "nbformat": 4,
 "nbformat_minor": 0
}

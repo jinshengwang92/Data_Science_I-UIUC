{
 "cells": [
  {
   "cell_type": "markdown",
   "metadata": {
    "deletable": false,
    "nbgrader": {
     "checksum": "471edcbff3532e134f07699ebfec3e94",
     "grade": false,
     "grade_id": "title",
     "locked": true,
     "solution": false
    }
   },
   "source": [
    "# Week 8 Problem 3\n",
    "\n",
    "If you are not using the `Assignments` tab on the course JupyterHub server to read this notebook, read [Activating the assignments tab](https://github.com/UI-DataScience/info490-fa16/blob/master/Week2/assignments/README.md).\n",
    "\n",
    "A few things you should keep in mind when working on assignments:\n",
    "\n",
    "1. Make sure you fill in any place that says `YOUR CODE HERE`. Do **not** write your answer in anywhere else other than where it says `YOUR CODE HERE`. Anything you write anywhere else will be removed or overwritten by the autograder.\n",
    "\n",
    "2. Before you submit your assignment, make sure everything runs as expected. Go to menubar, select _Kernel_, and restart the kernel and run all cells (_Restart & Run all_).\n",
    "\n",
    "3. Do not change the title (i.e. file name) of this notebook.\n",
    "\n",
    "4. Make sure that you save your work (in the menubar, select _File_ → _Save and CheckPoint_)\n",
    "\n",
    "5. You are allowed to submit an assignment multiple times, but only the most recent submission will be graded."
   ]
  },
  {
   "cell_type": "code",
   "execution_count": null,
   "metadata": {
    "collapsed": true,
    "deletable": false,
    "nbgrader": {
     "checksum": "fd0d375e4cf4672bacda7d2af5417961",
     "grade": false,
     "grade_id": "imports",
     "locked": true,
     "solution": false
    }
   },
   "outputs": [],
   "source": [
    "%matplotlib inline\n",
    "\n",
    "# plotting tools\n",
    "import numpy as np\n",
    "import pandas as pd\n",
    "import matplotlib as mpl\n",
    "import matplotlib.pyplot as plt\n",
    "import seaborn as sns\n",
    "sns.set_style(\"whitegrid\")\n",
    "\n",
    "# testing tools\n",
    "from nose.tools import assert_equal, assert_is_instance, assert_is_not\n",
    "from numpy.testing import assert_array_equal\n",
    "from pandas.util.testing import assert_frame_equal"
   ]
  },
  {
   "cell_type": "markdown",
   "metadata": {
    "deletable": false,
    "nbgrader": {
     "checksum": "01f6de8f84c4ad0239e721a20df9239b",
     "grade": false,
     "grade_id": "p1_1",
     "locked": true,
     "solution": false
    }
   },
   "source": [
    "# Problem 1. Flight Cancellations by Month\n",
    "\n",
    "In this problem, you will use Pandas\n",
    "  [`groupby()`](http://pandas.pydata.org/pandas-docs/stable/groupby.html)\n",
    "  and [`aggregate()`](http://pandas.pydata.org/pandas-docs/stable/groupby.html#aggregation)\n",
    "  functions to compute and plot the number of flight cancellations\n",
    "  in each month of 2001. The file we are going to work with for this question is: `/home/data_scientist/data/2001.csv` (The full original file, not the cutted version we used for Week 7). You could try `!head /home/data_scientist/data/2001.csv` if you do not remember what its content looks like.\n",
    "  \n",
    "## 1. Function: `get_month_cancelled()`\n",
    "\n",
    "Write a function named `get_month_cancelled()` that takes a filepath (str), \n",
    "  and returns a `pd.DataFrame` that is indexed by the **names** of the months\n",
    "  and has only one column `Cancelled`, the number of flight cancellations in each month.\n",
    "\n",
    "- The filepath we are going to pass in the assertion test code is `/home/data_scientist/data/2001.csv`.\n",
    "- Don't forget to set the `encoding` option.\n",
    "- Remember, `2001.csv` is a very large file. If you try to read in all 29 columns, your code will be very slow.\n",
    "  Use the [`usecols`](http://pandas.pydata.org/pandas-docs/stable/generated/pandas.read_csv.html) parameter to read only two columns, `Month` and `Cancelled`.\n",
    "- Instead of using integers as index (default), use the following list to set the indices:\n",
    "  ```python\n",
    "  ['January', 'February', 'March', 'April', 'May', 'June',\n",
    "   'July', 'August', 'September', 'October', 'November', 'December']\n",
    "  ```"
   ]
  },
  {
   "cell_type": "code",
   "execution_count": null,
   "metadata": {
    "collapsed": true,
    "deletable": false,
    "nbgrader": {
     "checksum": "711d2c825ebe5b14c9d4cfc440548db0",
     "grade": false,
     "grade_id": "p1_1_answer",
     "locked": false,
     "solution": true
    }
   },
   "outputs": [],
   "source": [
    "def get_month_cancelled(filepath):\n",
    "    '''\n",
    "    Reads the \"Month\" and \"Cancelled\" columns of a CSV file\n",
    "    and returns a Pandas DataFrame with only one column \"Cancelled\"\n",
    "    indexed by the months.\n",
    "    \n",
    "    Parameters\n",
    "    ----------\n",
    "    filename(str): The filename of the CSV file.\n",
    "    \n",
    "    Returns\n",
    "    -------\n",
    "    pd.DataFrame: \"Cancelled\" column, indexed by names of the months.\n",
    "    '''\n",
    "    # YOUR CODE HERE"
   ]
  },
  {
   "cell_type": "markdown",
   "metadata": {
    "deletable": false,
    "nbgrader": {
     "checksum": "08fd9b1055fddc5d590c6e8bdfc0cbd0",
     "grade": false,
     "grade_id": "p1_1_result",
     "locked": true,
     "solution": false
    }
   },
   "source": [
    "When you run the code cell below, you should get:\n",
    "\n",
    "               Cancelled\n",
    "    January        19891\n",
    "    February       17448\n",
    "    March          17876\n",
    "    April          11414\n",
    "    May             9452\n",
    "    June           15509\n",
    "    July           11286\n",
    "    August         13318\n",
    "    September      99324\n",
    "    October         6850\n",
    "    November        4497\n",
    "    December        4333"
   ]
  },
  {
   "cell_type": "code",
   "execution_count": null,
   "metadata": {
    "collapsed": false,
    "deletable": false,
    "nbgrader": {
     "checksum": "969a1f34b5c2914c4ba9cd7697c37b80",
     "grade": false,
     "grade_id": "p1_1_show",
     "locked": true,
     "solution": false
    }
   },
   "outputs": [],
   "source": [
    "csv_path = '/home/data_scientist/data/2001.csv'\n",
    "month_cancelled = get_month_cancelled(csv_path)\n",
    "print(month_cancelled)"
   ]
  },
  {
   "cell_type": "code",
   "execution_count": null,
   "metadata": {
    "collapsed": false,
    "deletable": false,
    "nbgrader": {
     "checksum": "0560faac784eed3cadb56911b56e01dc",
     "grade": true,
     "grade_id": "p1_1_test",
     "locked": true,
     "points": 10,
     "solution": false
    }
   },
   "outputs": [],
   "source": [
    "# assertions\n",
    "p1_answer = pd.DataFrame(\n",
    "    [19891, 17448, 17876, 11414,\n",
    "     9452, 15509, 11286, 13318,\n",
    "     99324, 6850, 4497, 4333],\n",
    "    index=['January', 'February', 'March', 'April',\n",
    "           'May', 'June', 'July', 'August',\n",
    "           'September', 'October', 'November', 'December'],\n",
    "    columns=['Cancelled']\n",
    "    )\n",
    "\n",
    "assert_frame_equal(month_cancelled, p1_answer)"
   ]
  },
  {
   "cell_type": "markdown",
   "metadata": {
    "collapsed": true,
    "deletable": false,
    "nbgrader": {
     "checksum": "34619afc90530b7ffd1022b84beb836e",
     "grade": false,
     "grade_id": "p1_2",
     "locked": true,
     "solution": false
    }
   },
   "source": [
    "## 2. Function: `plot_month_cancelled()`\n",
    "\n",
    "Write a function named `plot_month_cancelled()` that takes a `pd.DataFrame` to make a bar chart using Pandas [`plot()`](http://pandas.pydata.org/pandas-docs/stable/generated/pandas.DataFrame.plot.html) function, and returns a matplotlib.Axes object. \n",
    "- The code for creating a `Figure` object and an `Axes` object is already provided:\n",
    "```python\n",
    "fig, ax = plt.subplots()\n",
    "```\n",
    "- In Pandas `plot()` function, include the parameter **`ax=ax`**, so that your plot is assigned to the `Axes` object we have constructed.\n",
    "- Your plot should have a title and axis labels.\n",
    "- Make your plot pretty."
   ]
  },
  {
   "cell_type": "code",
   "execution_count": null,
   "metadata": {
    "collapsed": true,
    "deletable": false,
    "nbgrader": {
     "checksum": "b3b2786a97d8bc1d721bb080a7694c22",
     "grade": false,
     "grade_id": "p1_2_answer",
     "locked": false,
     "solution": true
    }
   },
   "outputs": [],
   "source": [
    "def plot_month_cancelled(df):\n",
    "    \"\"\"\n",
    "    Creates a two-dimensional scatter plot.\n",
    "    \n",
    "    Parameters\n",
    "    ----------\n",
    "    df: A pd.DataFrame object with one column \"Cancelled\".\n",
    "    \n",
    "    Returns\n",
    "    -------\n",
    "    A matplotlib.Axes object.\n",
    "    \"\"\"\n",
    "    fig, ax = plt.subplots()\n",
    "    \n",
    "    # YOUR CODE HERE\n",
    "    \n",
    "    return ax"
   ]
  },
  {
   "cell_type": "code",
   "execution_count": null,
   "metadata": {
    "collapsed": false,
    "deletable": false,
    "nbgrader": {
     "checksum": "e6a25c9a6d231c30ce21dc3470e01a36",
     "grade": false,
     "grade_id": "p1_2_show",
     "locked": true,
     "solution": false
    }
   },
   "outputs": [],
   "source": [
    "ax = plot_month_cancelled(month_cancelled)"
   ]
  },
  {
   "cell_type": "code",
   "execution_count": null,
   "metadata": {
    "collapsed": false,
    "deletable": false,
    "nbgrader": {
     "checksum": "b63d94de5bcbd6ccf0e990d0a16df280",
     "grade": true,
     "grade_id": "p1_2_test",
     "locked": true,
     "points": 5,
     "solution": false
    }
   },
   "outputs": [],
   "source": [
    "# assertions\n",
    "# check title, axis labels\n",
    "assert_is_instance(\n",
    "    ax, mpl.axes.Axes,\n",
    "    msg=\"Your function should return a matplotlib.axes.Axes object.\"\n",
    ")\n",
    "\n",
    "assert_is_not(\n",
    "    len(ax.title.get_text()), 0,\n",
    "    msg=\"Your plot doesn't have a title.\"\n",
    ")\n",
    "\n",
    "assert_is_not(\n",
    "    ax.xaxis.get_label_text(), '',\n",
    "    msg=\"Change the x-axis label to something more descriptive.\"\n",
    ")\n",
    "\n",
    "assert_is_not(\n",
    "    ax.yaxis.get_label_text(), '',\n",
    "    msg=\"Change the y-axis label to something more descriptive.\"\n",
    ")\n",
    "\n",
    "# check data\n",
    "assert_equal(\n",
    "    len(ax.patches), 12,\n",
    "    msg=\"Your plot does not have enough data patches.\"\n",
    ")\n",
    "\n",
    "xdata = [a.get_text() for a in ax.get_xticklabels()]\n",
    "ydata = [p.get_height() for p in ax.patches]\n",
    "\n",
    "assert_array_equal(xdata, month_cancelled.index)\n",
    "assert_array_equal(ydata, month_cancelled['Cancelled'])\n",
    "\n",
    "# check if your function can handle other dataframes\n",
    "test_index = [str(i) for i in np.random.randint(20, size=20)]\n",
    "test_data = np.random.randint(20, size=20)\n",
    "test_df = pd.DataFrame(test_data, index=test_index, columns=['test'])\n",
    "\n",
    "ax1 = plot_month_cancelled(test_df)\n",
    "\n",
    "x1data = [a.get_text() for a in ax1.get_xticklabels()]\n",
    "y1data = [p.get_height() for p in ax1.patches]\n",
    "\n",
    "assert_array_equal(x1data, test_index)\n",
    "assert_array_equal(y1data, test_data)\n",
    "\n",
    "plt.close()"
   ]
  },
  {
   "cell_type": "markdown",
   "metadata": {
    "collapsed": true,
    "deletable": false,
    "nbgrader": {
     "checksum": "5d8316704d782155fadbf7f5fd1f8799",
     "grade": false,
     "grade_id": "p2",
     "locked": true,
     "solution": false
    }
   },
   "source": [
    "# Problem 2. Find Best Movies by Genres\n",
    "\n",
    "In this problem, you will use multiple Pandas dataframe operations to find movies of certain genres with high average ratings. The files we are going to use is `/home/data_scientist/data/ml-latest-small/movies.csv` and `/home/data_scientist/data/ml-latest-small/ratings.csv`. The code cell below converts the two csv files into two `pd.DataFrame` objects named `mv` (from `movies.csv`) and `rt` (from `ratings.csv`) and filters out the movies with less than 50 rating records to make sure the average ratings are meaningful."
   ]
  },
  {
   "cell_type": "code",
   "execution_count": null,
   "metadata": {
    "collapsed": false,
    "deletable": false,
    "nbgrader": {
     "checksum": "ee3c57d268a7a7397901bc62dde39281",
     "grade": false,
     "grade_id": "p2_data",
     "locked": true,
     "solution": false
    }
   },
   "outputs": [],
   "source": [
    "# filepaths\n",
    "movies = '/home/data_scientist/data/ml-latest-small/movies.csv'\n",
    "ratings = '/home/data_scientist/data/ml-latest-small/ratings.csv'\n",
    "\n",
    "# construct dataframes\n",
    "mv = pd.read_csv(movies)\n",
    "rt = pd.read_csv(ratings)\n",
    "\n",
    "# filter out movies with less than 50 rating records\n",
    "counts = rt['movieId'].value_counts()\n",
    "rt = rt[rt['movieId'].isin(counts[counts>50].index)]\n",
    "\n",
    "print(mv[:5])\n",
    "print('\\n--------------------------------------------------\\n')\n",
    "print(rt[:5])"
   ]
  },
  {
   "cell_type": "markdown",
   "metadata": {
    "deletable": false,
    "nbgrader": {
     "checksum": "581e5797218fb46760edfabb4a4ead35",
     "grade": false,
     "grade_id": "p2_1",
     "locked": true,
     "solution": false
    }
   },
   "source": [
    "## 1. Function: `find_best_movies_by_genres()`\n",
    "\n",
    "Write a function named `find_best_movies_by_genres()` that takes two `pd.DataFrame` objects and a genres type (str), and returns a `pd.DataFrame` object that is indexed by `movieId` and has three columns, `rating`, `title`, `genres` (in this specified order).\n",
    "- First, apply Pandas [`groupby()`](http://pandas.pydata.org/pandas-docs/stable/groupby.html) function to get the **mean** value of `rating` for each `movieId` in `rt`. At this step, you can keep the two columns `rating` and `movieId` only. We are not going to use the rest of columns in `rt` for this question. Make sure you set `as_index` to be `False`, because we will use the column `movieId` in the next step.\n",
    "- Next, apply Pandas [`merge()`](http://pandas.pydata.org/pandas-docs/stable/merging.html) to merge the averaged `rt` (i.e. the result from step 1) with `mv` based on the common column `movieId`. You should use the averaged `rt` to be `left`, and `mv` to be `right` in the `merge()` function, because we would like `rating` to come before movie information, as indicated by the problem. The merged dataframe has the following columns: `movieId`, `rating`, `title`, and `genres`. Note that `rating` now contains the averaged rating score. \n",
    "- After merging, select rows from the merged dataframe if both the following conditions are satisfied:\n",
    "    - The (averaged) `rating` is above or equal to 4.0;\n",
    "    - The `genres` column contains the input string `genres_type`. For example, if the intput string is `\"Horror\"`, you should filter in rows whose `genres` are `Horror`, `Crime|Horror`, etc. *Hint*: you could apply the [`str.contains()`](http://pandas.pydata.org/pandas-docs/stable/generated/pandas.Series.str.contains.html) function.\n",
    "- After selection, apply Pandas [`sort_values()`](http://pandas.pydata.org/pandas-docs/stable/generated/pandas.DataFrame.sort_values.html) by the `rating` column with a descending order by setting `ascending` to be `False`.\n",
    "- Finally, set `movieId` to be index in the sorted dataframe, and return the resulting dataframe.\n",
    "- Instead of overwriting dataframes, you could create different dataframe variables for each step. For example, you could name the result of the first step to be `rt_mean`, etc.\n",
    "- Alternatively, you could use [`join()`](http://pandas.pydata.org/pandas-docs/stable/merging.html) instead of `merge()`. Before you use `join()`, `as_index` in `groupby()` should be `True` (default), and you should set `movieId` to be the index of `mv`. You can skip the last step (set the index). "
   ]
  },
  {
   "cell_type": "code",
   "execution_count": null,
   "metadata": {
    "collapsed": false,
    "deletable": false,
    "nbgrader": {
     "checksum": "ba2ede9d86da9e6f88721289ea142fb0",
     "grade": false,
     "grade_id": "p2_1_answer",
     "locked": false,
     "solution": true
    }
   },
   "outputs": [],
   "source": [
    "def find_best_movies_by_genres(mv, rt, genres_type):\n",
    "    '''\n",
    "    Constructs a new pd.DataFrame from mv and rt using groupby(), merge(), \n",
    "    \n",
    "    Parameters\n",
    "    ----------\n",
    "    mv(pd.DataFrame): movie information.\n",
    "    rt(pd.DataFrame): rating information.\n",
    "    genres_type(str): The filename of the CSV file.\n",
    "    \n",
    "    Returns\n",
    "    -------\n",
    "    pd.DataFrame: 3 columns (rating, title, genres), indexed by movieId.\n",
    "    '''\n",
    "    # YOUR CODE HERE"
   ]
  },
  {
   "cell_type": "markdown",
   "metadata": {
    "deletable": false,
    "nbgrader": {
     "checksum": "49a4861059ac4504160a710322cae034",
     "grade": false,
     "grade_id": "p2_1_result",
     "locked": true,
     "solution": false
    }
   },
   "source": [
    "When you run the code cell below, you should get: \n",
    "\n",
    "```\n",
    "           rating                             title  \\\n",
    "movieId                                               \n",
    "593      4.194828  Silence of the Lambs, The (1991)   \n",
    "1219     4.186047                     Psycho (1960)   \n",
    "1200     4.146497                     Aliens (1986)   \n",
    "2762     4.130890           Sixth Sense, The (1999)   \n",
    "1214     4.064103                      Alien (1979)   \n",
    "8874     4.050000          Shaun of the Dead (2004)   \n",
    "1258     4.004464               Shining, The (1980)   \n",
    "\n",
    "                                 genres  \n",
    "movieId                                  \n",
    "593               Crime|Horror|Thriller  \n",
    "1219                       Crime|Horror  \n",
    "1200     Action|Adventure|Horror|Sci-Fi  \n",
    "2762               Drama|Horror|Mystery  \n",
    "1214                      Horror|Sci-Fi  \n",
    "8874                      Comedy|Horror  \n",
    "1258                             Horror  ```"
   ]
  },
  {
   "cell_type": "code",
   "execution_count": null,
   "metadata": {
    "collapsed": false,
    "deletable": false,
    "nbgrader": {
     "checksum": "eec7b96c0ad77e1761b22c7cb4174cc6",
     "grade": false,
     "grade_id": "p2_1_show",
     "locked": true,
     "solution": false
    }
   },
   "outputs": [],
   "source": [
    "horror = find_best_movies_by_genres(mv, rt, 'Horror')\n",
    "print(horror)"
   ]
  },
  {
   "cell_type": "code",
   "execution_count": null,
   "metadata": {
    "collapsed": false,
    "deletable": false,
    "nbgrader": {
     "checksum": "66f1cb4ccfeadeef7c62f24877fcb04c",
     "grade": true,
     "grade_id": "p2_1_test",
     "locked": true,
     "points": 15,
     "solution": false
    }
   },
   "outputs": [],
   "source": [
    "# assertions \n",
    "p2_answer_horror = pd.DataFrame(\n",
    "    [\n",
    "        [4.194827586206896, 'Silence of the Lambs, The (1991)','Crime|Horror|Thriller'],\n",
    "        [4.186046511627907, 'Psycho (1960)', 'Crime|Horror'],\n",
    "        [4.146496815286624, 'Aliens (1986)', 'Action|Adventure|Horror|Sci-Fi'],\n",
    "        [4.130890052356021, 'Sixth Sense, The (1999)','Drama|Horror|Mystery'],\n",
    "        [4.064102564102564, 'Alien (1979)', 'Horror|Sci-Fi'],\n",
    "        [4.05, 'Shaun of the Dead (2004)', 'Comedy|Horror'],\n",
    "        [4.004464285714286, 'Shining, The (1980)', 'Horror']\n",
    "    ],\n",
    "    index=[593, 1219, 1200, 2762, 1214, 8874, 1258],\n",
    "    columns=['rating', 'title', 'genres']\n",
    "    )\n",
    "p2_answer_horror.index.name = 'movieId'\n",
    "assert_frame_equal(horror, p2_answer_horror)\n",
    "\n",
    "animation = find_best_movies_by_genres(mv, rt, 'Animation')\n",
    "p2_answer_animation = pd.DataFrame(\n",
    "    [\n",
    "        [4.384615384615385, 'Princess Mononoke (Mononoke-hime) (1997)', 'Action|Adventure|Animation|Drama|Fantasy'],\n",
    "        [4.236111111111111, 'Spirited Away (Sen to Chihiro no kamikakushi) (2001)', 'Adventure|Animation|Fantasy'],\n",
    "        [4.1688311688311686, 'Wallace & Gromit: The Wrong Trousers (1993)', 'Animation|Children|Comedy|Crime'],\n",
    "        [4.163636363636364, 'Wallace & Gromit: A Close Shave (1995)', 'Animation|Children|Comedy'],\n",
    "        [4.153225806451613, 'Up (2009)', 'Adventure|Animation|Children|Drama'],\n",
    "        [4.0, 'Iron Giant, The (1999)', 'Adventure|Animation|Children|Drama|Sci-Fi']\n",
    "    ],\n",
    "    index=[3000, 5618, 1148, 745, 68954, 2761],\n",
    "    columns=['rating', 'title', 'genres']\n",
    "    )\n",
    "p2_answer_animation.index.name = 'movieId'\n",
    "assert_frame_equal(animation, p2_answer_animation)"
   ]
  }
 ],
 "metadata": {
  "kernelspec": {
   "display_name": "Python 3",
   "language": "python",
   "name": "python3"
  },
  "language_info": {
   "codemirror_mode": {
    "name": "ipython",
    "version": 3
   },
   "file_extension": ".py",
   "mimetype": "text/x-python",
   "name": "python",
   "nbconvert_exporter": "python",
   "pygments_lexer": "ipython3",
   "version": "3.5.2"
  }
 },
 "nbformat": 4,
 "nbformat_minor": 1
}

{
 "cells": [
  {
   "cell_type": "markdown",
   "metadata": {},
   "source": [
    "<DIV ALIGN=CENTER>\n",
    "\n",
    "# Introduction to Pandas\n",
    "## Professor Robert J. Brunner\n",
    "  \n",
    "</DIV>  \n",
    "-----\n",
    "-----"
   ]
  },
  {
   "cell_type": "markdown",
   "metadata": {},
   "source": [
    "## Introduction\n",
    "\n",
    "One of the early criticisms of many in the data science arena of the\n",
    "Python language was the lack of useful data structures for performing\n",
    "data analysis tasks. This stemmed in part from comparisons between the R\n",
    "language and Python, since R has a built-in _DataFrame_ object that\n",
    "greatly simplified many data analysis tasks. This deficiency was\n",
    "addressed in 2008 by Wes McKinney with the creation of [Pandas][1] (the\n",
    "name was originally an abbreviation of Panel datas). To quote the Pandas\n",
    "documentation:\n",
    "\n",
    ">Python has long been great for data munging and preparation, but less\n",
    ">so for data analysis and modeling. pandas helps fill this gap, enabling\n",
    ">you to carry out your entire data analysis workflow in Python without\n",
    ">having to switch to a more domain specific language like R.\n",
    "\n",
    "Pandas introduces several new data structures like the `Series`,\n",
    "`DataFrame`, and `Panel` that build on top of existing\n",
    "tools like `numpy` to speed-up data analysis tasks. Pandas also provides\n",
    "efficient mechanisms for moving data between in memory representations\n",
    "and different data formats including CSV and text files, JSON files, SQL\n",
    "databases, HDF5 format files, and even Excel spreadsheets. Pandas also\n",
    "provides support for dealing with missing or incomplete data and\n",
    "aggregating or grouping data.\n",
    "\n",
    "-----\n",
    "[1]: http://pandas.pydata.org"
   ]
  },
  {
   "cell_type": "markdown",
   "metadata": {},
   "source": [
    "## Brief introduction to Pandas\n",
    "\n",
    "Before using Pandas, we must first import the Pandas library:\n",
    "\n",
    "    import pandas as pd\n",
    "\n",
    "Second, we simply create and use the appropriate Pandas data structure.\n",
    "The two most important data structures for typical data science tasks\n",
    "are the `Series` and the `DataFrame`:\n",
    "\n",
    "1. `Series`: a one-dimensional labeled array that can hold any data type\n",
    "such as integers, floating-point numbers, strings, or Python objects. A\n",
    "`Series` has both a data column and a label column called the _index_.\n",
    "\n",
    "2. `DataFrame`: a two-dimensional labeled data structure with columns\n",
    "that can be hold different data types, similar to a spreadsheet or\n",
    "relational database table. \n",
    "\n",
    "Pandas also provides a date/time data structure sometimes refereed to as\n",
    "a `TimeSeries` and a three-dimensional data structure known as a\n",
    "`Panel`. \n",
    "\n",
    "### `Series`\n",
    "\n",
    "A `Series` is useful to hold data that should be accesible by using a\n",
    "specific label. You create a `Series` by passing in an appropriate data\n",
    "set along with an optional index:\n",
    "\n",
    "    values = pd.Series(data, index=idx)\n",
    "\n",
    "The index varies depending on the type of data passed in to create the\n",
    "`Series:\n",
    "\n",
    "- if data is a NumPy array, the index should be the same length as the\n",
    "data array. If no index is provided one will be created that enables\n",
    "integer access that mirrors a traditional NumPy array (i.e., zero\n",
    "indexed). \n",
    "\n",
    "- if data is a Python dictionary, `idx` can contain specific labels to\n",
    "indicate which values in the dictionary should be used to create the\n",
    "`Series`. If no index is specified, an index is created from the sorted\n",
    "dictionary keys. \n",
    "\n",
    "- if data is a scalar value, an inde must be supplied. In this case, the\n",
    "scalar value will be repeated to ensure that each label in the index has\n",
    "a value in the `Series`.\n",
    "\n",
    "These different options are demonstrated in the following code cells.\n",
    "\n",
    "-----\n",
    "[df]: http://pandas.pydata.org/pandas-docs/stable/dsintro.html#dataframe"
   ]
  },
  {
   "cell_type": "code",
   "execution_count": 1,
   "metadata": {
    "collapsed": false
   },
   "outputs": [
    {
     "name": "stdout",
     "output_type": "stream",
     "text": [
      "q    0.832269\n",
      "w    0.631883\n",
      "e    0.162581\n",
      "r    0.034341\n",
      "t    0.661563\n",
      "y    0.062999\n",
      "dtype: float64\n"
     ]
    }
   ],
   "source": [
    "import pandas as pd\n",
    "import numpy as np\n",
    "\n",
    "# We label the random values\n",
    "s1 = pd.Series(np.random.rand(6), index=['q', 'w', 'e', 'r', 't', 'y'])\n",
    "\n",
    "print(s1)"
   ]
  },
  {
   "cell_type": "code",
   "execution_count": 2,
   "metadata": {
    "collapsed": false
   },
   "outputs": [
    {
     "name": "stdout",
     "output_type": "stream",
     "text": [
      "q    11.0\n",
      "w    21.0\n",
      "r    41.0\n",
      "y     NaN\n",
      "dtype: float64\n"
     ]
    }
   ],
   "source": [
    "d = {'q': 11, 'w': 21, 'e': 31, 'r': 41}\n",
    "\n",
    "# We pick out the q, w, and r keys, but have an undefined y key.\n",
    "s2 = pd.Series(d, index = ['q', 'w', 'r', 'y'])\n",
    "\n",
    "print(s2)"
   ]
  },
  {
   "cell_type": "code",
   "execution_count": 3,
   "metadata": {
    "collapsed": false
   },
   "outputs": [
    {
     "name": "stdout",
     "output_type": "stream",
     "text": [
      "q    42\n",
      "w    42\n",
      "e    42\n",
      "r    42\n",
      "t    42\n",
      "y    42\n",
      "dtype: int64\n",
      "\n",
      "The \"e\" value is  42\n"
     ]
    }
   ],
   "source": [
    "# We create a Series from an integer constant with explicit labels\n",
    "s3 = pd.Series(42, index = ['q', 'w', 'e', 'r', 't', 'y'])\n",
    "\n",
    "print(s3)\n",
    "\n",
    "print('\\nThe \"e\" value is ', s3['e'])"
   ]
  },
  {
   "cell_type": "code",
   "execution_count": 4,
   "metadata": {
    "collapsed": false
   },
   "outputs": [
    {
     "name": "stdout",
     "output_type": "stream",
     "text": [
      "q    0.832269\n",
      "w    0.631883\n",
      "e    0.162581\n",
      "r    0.034341\n",
      "dtype: float64\n",
      "\n",
      "Sum Series:\n",
      "q    42.832269\n",
      "w    42.631883\n",
      "e    42.162581\n",
      "r    42.034341\n",
      "t    42.661563\n",
      "y    42.062999\n",
      "dtype: float64\n",
      "\n",
      "Series operations:\n",
      "q     53.8\n",
      "w    103.8\n",
      "r    203.8\n",
      "y      NaN\n",
      "dtype: float64\n"
     ]
    }
   ],
   "source": [
    "# We can slice like NumPy arrays\n",
    "\n",
    "print(s1[:-2])\n",
    "\n",
    "# We can also perform vectorized operations\n",
    "print('\\nSum Series:')\n",
    "print(s1 + s3)\n",
    "print('\\nSeries operations:')\n",
    "print(s2 * 5 - 1.2)"
   ]
  },
  {
   "cell_type": "markdown",
   "metadata": {},
   "source": [
    "-----\n",
    "\n",
    "### `DataFrame`\n",
    "\n",
    "The second major data structure that Pandas provdis is he `DataFrame`,\n",
    "which is a two-dimensional array, where each column is effectively a\n",
    "`Series` with a shared index. A DataFrame is a very powerful data\n",
    "structure and provides a nice mapping for a number of different data\n",
    "formats (and storage mechanisms). For example, you can easily read data\n",
    "from a CSV file, a fixed width format text file, a JSOPN file, an HTML\n",
    "file, and HDF file, and a relational database into a Pandas `DataFrame`.\n",
    "This is demonstrated in the next set of code cells, where we extract\n",
    "data from files we created in the [Introduction to Data\n",
    "Formats][df] Notebook.\n",
    "\n",
    "-----\n",
    "[df]: dataformats.ipynb"
   ]
  },
  {
   "cell_type": "code",
   "execution_count": 5,
   "metadata": {
    "collapsed": false
   },
   "outputs": [
    {
     "name": "stdout",
     "output_type": "stream",
     "text": [
      "                   airport              city state\n",
      "iata                                              \n",
      "00M               Thigpen        Bay Springs    MS\n",
      "00R   Livingston Municipal        Livingston    TX\n",
      "00V            Meadow Lake  Colorado Springs    CO\n",
      "01G           Perry-Warsaw             Perry    NY\n",
      "01J       Hilliard Airpark          Hilliard    FL\n"
     ]
    }
   ],
   "source": [
    "# Read data from CSV file, and display subset\n",
    "\n",
    "dfa = pd.read_csv('/home/data_scientist/data/data.csv', delimiter='|', index_col='iata')\n",
    "\n",
    "# We can grab the first five rows, and only extract the 'airport' column\n",
    "print(dfa[['airport', 'city', 'state']].head(5))"
   ]
  },
  {
   "cell_type": "code",
   "execution_count": 6,
   "metadata": {
    "collapsed": false
   },
   "outputs": [
    {
     "name": "stdout",
     "output_type": "stream",
     "text": [
      "                       airport         city state\n",
      "ZEF            Elkin Municipal        Elkin    NC\n",
      "ZER  Schuylkill Cty/Joe Zerbey   Pottsville    PA\n",
      "ZPH      Zephyrhills Municipal  Zephyrhills    FL\n",
      "ZUN                 Black Rock         Zuni    NM\n",
      "ZZV       Zanesville Municipal   Zanesville    OH\n"
     ]
    }
   ],
   "source": [
    "# Read data from our JSON file\n",
    "dfb = pd.read_json('/home/data_scientist/data/data.json')\n",
    "\n",
    "# Grab the last five rows\n",
    "print(dfb[[0, 1, 5]].tail(5))"
   ]
  },
  {
   "cell_type": "markdown",
   "metadata": {},
   "source": [
    "-----\n",
    "\n",
    "In the previous code cells, we read data first from a delimiter\n",
    "separated value file and second from a JSON file into a Pandas\n",
    "`DataFrame`. In each code cell, we display data contained in the new\n",
    "DataFrame, first by using the `head` method to display the first few\n",
    "rows, and second by using the `tail` method to display the last few\n",
    "lines. For the delimiter separated value file, we explicitly specified\n",
    "the delimiter, which is a vertical bar `|`, the default is to assume a\n",
    "comma as the delimiter. We also explicitly specify the `iata` column\n",
    "should be used as the index column, which is how we can refer to rows in\n",
    "the array. \n",
    "\n",
    "We also explicitly select columns for display in both code cells. In the\n",
    "first code cell, we explicitly name the columns, passing in a list of\n",
    "the names to the DataFrame. Alternatively, in the second code cell, we\n",
    "pass in a list of the column ids, which we must do since we did not\n",
    "create named columns when reading data from the JSON file. The list of\n",
    "integers can be used even if the columns of the array have been assigned\n",
    "names.\n",
    "\n",
    "Pandas includes a tremendous amount of functionality, especially for\n",
    "the `DataFrame`, to learn more, view the [detailed documentation][pdd].\n",
    "Several useful functions are demonstrated below, however, including\n",
    "information summaries, slicing, and column operations on DataFrames.\n",
    "\n",
    "-----\n",
    "\n",
    "[pdd]: http://pandas.pydata.org/pandas-docs/stable/dsintro.html#dataframe"
   ]
  },
  {
   "cell_type": "code",
   "execution_count": 7,
   "metadata": {
    "collapsed": false
   },
   "outputs": [
    {
     "data": {
      "text/plain": [
       "airport     object\n",
       "city        object\n",
       "state       object\n",
       "country     object\n",
       "lat        float64\n",
       "long       float64\n",
       "dtype: object"
      ]
     },
     "execution_count": 7,
     "metadata": {},
     "output_type": "execute_result"
    }
   ],
   "source": [
    "# Lets look at the datatypes of each column\n",
    "dfa.dtypes"
   ]
  },
  {
   "cell_type": "code",
   "execution_count": 8,
   "metadata": {
    "collapsed": false
   },
   "outputs": [
    {
     "data": {
      "text/html": [
       "<div>\n",
       "<table border=\"1\" class=\"dataframe\">\n",
       "  <thead>\n",
       "    <tr style=\"text-align: right;\">\n",
       "      <th></th>\n",
       "      <th>lat</th>\n",
       "      <th>long</th>\n",
       "    </tr>\n",
       "  </thead>\n",
       "  <tbody>\n",
       "    <tr>\n",
       "      <th>count</th>\n",
       "      <td>3376.000000</td>\n",
       "      <td>3376.000000</td>\n",
       "    </tr>\n",
       "    <tr>\n",
       "      <th>mean</th>\n",
       "      <td>40.036524</td>\n",
       "      <td>-98.621205</td>\n",
       "    </tr>\n",
       "    <tr>\n",
       "      <th>std</th>\n",
       "      <td>8.329559</td>\n",
       "      <td>22.869458</td>\n",
       "    </tr>\n",
       "    <tr>\n",
       "      <th>min</th>\n",
       "      <td>7.367222</td>\n",
       "      <td>-176.646031</td>\n",
       "    </tr>\n",
       "    <tr>\n",
       "      <th>25%</th>\n",
       "      <td>34.688427</td>\n",
       "      <td>-108.761121</td>\n",
       "    </tr>\n",
       "    <tr>\n",
       "      <th>50%</th>\n",
       "      <td>39.434449</td>\n",
       "      <td>-93.599425</td>\n",
       "    </tr>\n",
       "    <tr>\n",
       "      <th>75%</th>\n",
       "      <td>43.372612</td>\n",
       "      <td>-84.137519</td>\n",
       "    </tr>\n",
       "    <tr>\n",
       "      <th>max</th>\n",
       "      <td>71.285448</td>\n",
       "      <td>145.621384</td>\n",
       "    </tr>\n",
       "  </tbody>\n",
       "</table>\n",
       "</div>"
      ],
      "text/plain": [
       "               lat         long\n",
       "count  3376.000000  3376.000000\n",
       "mean     40.036524   -98.621205\n",
       "std       8.329559    22.869458\n",
       "min       7.367222  -176.646031\n",
       "25%      34.688427  -108.761121\n",
       "50%      39.434449   -93.599425\n",
       "75%      43.372612   -84.137519\n",
       "max      71.285448   145.621384"
      ]
     },
     "execution_count": 8,
     "metadata": {},
     "output_type": "execute_result"
    }
   ],
   "source": [
    "# We can get a summary of numerical information in the dataframe\n",
    "\n",
    "dfa.describe()"
   ]
  },
  {
   "cell_type": "code",
   "execution_count": 9,
   "metadata": {
    "collapsed": false
   },
   "outputs": [
    {
     "data": {
      "text/plain": [
       "airport     object\n",
       "city        object\n",
       "country     object\n",
       "lat        float64\n",
       "long       float64\n",
       "state       object\n",
       "dtype: object"
      ]
     },
     "execution_count": 9,
     "metadata": {},
     "output_type": "execute_result"
    }
   ],
   "source": [
    "# Notice the JSON data did not automatically specify data types\n",
    "dfb.dtypes"
   ]
  },
  {
   "cell_type": "code",
   "execution_count": 10,
   "metadata": {
    "collapsed": false
   },
   "outputs": [
    {
     "data": {
      "text/html": [
       "<div>\n",
       "<table border=\"1\" class=\"dataframe\">\n",
       "  <thead>\n",
       "    <tr style=\"text-align: right;\">\n",
       "      <th></th>\n",
       "      <th>lat</th>\n",
       "      <th>long</th>\n",
       "    </tr>\n",
       "  </thead>\n",
       "  <tbody>\n",
       "    <tr>\n",
       "      <th>count</th>\n",
       "      <td>3376.000000</td>\n",
       "      <td>3376.000000</td>\n",
       "    </tr>\n",
       "    <tr>\n",
       "      <th>mean</th>\n",
       "      <td>40.036524</td>\n",
       "      <td>-98.621205</td>\n",
       "    </tr>\n",
       "    <tr>\n",
       "      <th>std</th>\n",
       "      <td>8.329559</td>\n",
       "      <td>22.869458</td>\n",
       "    </tr>\n",
       "    <tr>\n",
       "      <th>min</th>\n",
       "      <td>7.367222</td>\n",
       "      <td>-176.646031</td>\n",
       "    </tr>\n",
       "    <tr>\n",
       "      <th>25%</th>\n",
       "      <td>34.688427</td>\n",
       "      <td>-108.761121</td>\n",
       "    </tr>\n",
       "    <tr>\n",
       "      <th>50%</th>\n",
       "      <td>39.434449</td>\n",
       "      <td>-93.599425</td>\n",
       "    </tr>\n",
       "    <tr>\n",
       "      <th>75%</th>\n",
       "      <td>43.372612</td>\n",
       "      <td>-84.137519</td>\n",
       "    </tr>\n",
       "    <tr>\n",
       "      <th>max</th>\n",
       "      <td>71.285448</td>\n",
       "      <td>145.621384</td>\n",
       "    </tr>\n",
       "  </tbody>\n",
       "</table>\n",
       "</div>"
      ],
      "text/plain": [
       "               lat         long\n",
       "count  3376.000000  3376.000000\n",
       "mean     40.036524   -98.621205\n",
       "std       8.329559    22.869458\n",
       "min       7.367222  -176.646031\n",
       "25%      34.688427  -108.761121\n",
       "50%      39.434449   -93.599425\n",
       "75%      43.372612   -84.137519\n",
       "max      71.285448   145.621384"
      ]
     },
     "execution_count": 10,
     "metadata": {},
     "output_type": "execute_result"
    }
   ],
   "source": [
    "# This affects the output of the describe method, dfb has no numerical data types.\n",
    "\n",
    "dfb.describe()"
   ]
  },
  {
   "cell_type": "code",
   "execution_count": 11,
   "metadata": {
    "collapsed": false
   },
   "outputs": [
    {
     "name": "stdout",
     "output_type": "stream",
     "text": [
      "                 airport              city state country        lat  \\\n",
      "iata                                                                  \n",
      "00V          Meadow Lake  Colorado Springs    CO     USA  38.945749   \n",
      "11R    Brenham Municipal           Brenham    TX     USA  30.219000   \n",
      "12C   Rochelle Municipal          Rochelle    IL     USA  41.893001   \n",
      "\n",
      "            long  \n",
      "iata              \n",
      "00V  -104.569893  \n",
      "11R   -96.374278  \n",
      "12C   -89.078290  \n"
     ]
    }
   ],
   "source": [
    "# We can slice out rows using the indicated index for dfa\n",
    "\n",
    "print(dfa.loc[['00V', '11R', '12C']])"
   ]
  },
  {
   "cell_type": "code",
   "execution_count": 12,
   "metadata": {
    "collapsed": false
   },
   "outputs": [
    {
     "name": "stdout",
     "output_type": "stream",
     "text": [
      "                airport      city country        lat       long state\n",
      "11R   Brenham Municipal   Brenham     USA  30.219000 -96.374278    TX\n",
      "12C  Rochelle Municipal  Rochelle     USA  41.893001 -89.078290    IL\n",
      "12D     Tower Municipal     Tower     USA  47.818333 -92.291667    MN\n",
      "12J   Brewton Municipal   Brewton     USA  31.051263 -87.067968    AL\n",
      "12K  Superior Municipal  Superior     USA  40.046361 -98.060111    NE\n"
     ]
    }
   ],
   "source": [
    "# We can slice out rows using the row index for dfb\n",
    "print(dfb[100:105])"
   ]
  },
  {
   "cell_type": "code",
   "execution_count": 13,
   "metadata": {
    "collapsed": false
   },
   "outputs": [
    {
     "name": "stdout",
     "output_type": "stream",
     "text": [
      "       airport      city state country        lat        long\n",
      "iata                                                         \n",
      "ADK       Adak      Adak    AK     USA  51.877964 -176.646031\n",
      "AKA       Atka      Atka    AK     USA  52.220348 -174.206350\n",
      "GAM    Gambell   Gambell    AK     USA  63.766766 -171.732824\n",
      "SNP   St. Paul  St. Paul    AK     USA  57.167333 -170.220444\n",
      "SVA   Savoonga  Savoonga    AK     USA  63.686394 -170.492636\n"
     ]
    }
   ],
   "source": [
    "# We can also select rows based on boolean tests on columns\n",
    "print(dfa[(dfa.lat > 48) & (dfa.long < -170)])"
   ]
  },
  {
   "cell_type": "markdown",
   "metadata": {},
   "source": [
    "-----\n",
    "\n",
    "We can also perform numerical operations on a `DataFrame`, just as was the\n",
    "case with NumPy arrays. To demonstrate this, we create a numerical\n",
    "DataFrame, apply different operations, and view the results.\n",
    "\n",
    "-----"
   ]
  },
  {
   "cell_type": "code",
   "execution_count": 14,
   "metadata": {
    "collapsed": false
   },
   "outputs": [
    {
     "name": "stdout",
     "output_type": "stream",
     "text": [
      "          0         1         2         3         4         5\n",
      "0  1.495289 -0.885577  0.722717 -0.321483 -0.937753 -0.434917\n",
      "1  0.098376  0.116121 -1.171592 -0.182107 -0.581043  0.329274\n",
      "2 -0.784655  0.135645 -0.107842 -0.425287 -1.116514 -2.077581\n",
      "3 -0.396700  0.158741 -0.223637 -0.045535 -1.240279 -0.057504\n",
      "4  0.549085 -0.975027 -0.843541 -0.512297  1.703240 -2.444427\n"
     ]
    }
   ],
   "source": [
    "df = pd.DataFrame(np.random.randn(5, 6))\n",
    "\n",
    "print(df)"
   ]
  },
  {
   "cell_type": "code",
   "execution_count": 15,
   "metadata": {
    "collapsed": false
   },
   "outputs": [
    {
     "data": {
      "text/html": [
       "<div>\n",
       "<table border=\"1\" class=\"dataframe\">\n",
       "  <thead>\n",
       "    <tr style=\"text-align: right;\">\n",
       "      <th></th>\n",
       "      <th>0</th>\n",
       "      <th>1</th>\n",
       "      <th>2</th>\n",
       "      <th>3</th>\n",
       "      <th>4</th>\n",
       "      <th>5</th>\n",
       "    </tr>\n",
       "  </thead>\n",
       "  <tbody>\n",
       "    <tr>\n",
       "      <th>0</th>\n",
       "      <td>3.995289</td>\n",
       "      <td>1.614423</td>\n",
       "      <td>3.222717</td>\n",
       "      <td>2.178517</td>\n",
       "      <td>1.562247</td>\n",
       "      <td>2.065083</td>\n",
       "    </tr>\n",
       "    <tr>\n",
       "      <th>1</th>\n",
       "      <td>2.598376</td>\n",
       "      <td>2.616121</td>\n",
       "      <td>1.328408</td>\n",
       "      <td>2.317893</td>\n",
       "      <td>1.918957</td>\n",
       "      <td>2.829274</td>\n",
       "    </tr>\n",
       "    <tr>\n",
       "      <th>2</th>\n",
       "      <td>1.715345</td>\n",
       "      <td>2.635645</td>\n",
       "      <td>2.392158</td>\n",
       "      <td>2.074713</td>\n",
       "      <td>1.383486</td>\n",
       "      <td>0.422419</td>\n",
       "    </tr>\n",
       "    <tr>\n",
       "      <th>3</th>\n",
       "      <td>2.103300</td>\n",
       "      <td>2.658741</td>\n",
       "      <td>2.276363</td>\n",
       "      <td>2.454465</td>\n",
       "      <td>1.259721</td>\n",
       "      <td>2.442496</td>\n",
       "    </tr>\n",
       "    <tr>\n",
       "      <th>4</th>\n",
       "      <td>3.049085</td>\n",
       "      <td>1.524973</td>\n",
       "      <td>1.656459</td>\n",
       "      <td>1.987703</td>\n",
       "      <td>4.203240</td>\n",
       "      <td>0.055573</td>\n",
       "    </tr>\n",
       "  </tbody>\n",
       "</table>\n",
       "</div>"
      ],
      "text/plain": [
       "          0         1         2         3         4         5\n",
       "0  3.995289  1.614423  3.222717  2.178517  1.562247  2.065083\n",
       "1  2.598376  2.616121  1.328408  2.317893  1.918957  2.829274\n",
       "2  1.715345  2.635645  2.392158  2.074713  1.383486  0.422419\n",
       "3  2.103300  2.658741  2.276363  2.454465  1.259721  2.442496\n",
       "4  3.049085  1.524973  1.656459  1.987703  4.203240  0.055573"
      ]
     },
     "execution_count": 15,
     "metadata": {},
     "output_type": "execute_result"
    }
   ],
   "source": [
    "# We can incorporate operate with basic scalar values\n",
    "\n",
    "df + 2.5"
   ]
  },
  {
   "cell_type": "code",
   "execution_count": 16,
   "metadata": {
    "collapsed": false
   },
   "outputs": [
    {
     "data": {
      "text/html": [
       "<div>\n",
       "<table border=\"1\" class=\"dataframe\">\n",
       "  <thead>\n",
       "    <tr style=\"text-align: right;\">\n",
       "      <th></th>\n",
       "      <th>0</th>\n",
       "      <th>1</th>\n",
       "      <th>2</th>\n",
       "      <th>3</th>\n",
       "      <th>4</th>\n",
       "      <th>5</th>\n",
       "    </tr>\n",
       "  </thead>\n",
       "  <tbody>\n",
       "    <tr>\n",
       "      <th>0</th>\n",
       "      <td>2.004711</td>\n",
       "      <td>4.385577</td>\n",
       "      <td>2.777283</td>\n",
       "      <td>3.821483</td>\n",
       "      <td>4.437753</td>\n",
       "      <td>3.934917</td>\n",
       "    </tr>\n",
       "    <tr>\n",
       "      <th>1</th>\n",
       "      <td>3.401624</td>\n",
       "      <td>3.383879</td>\n",
       "      <td>4.671592</td>\n",
       "      <td>3.682107</td>\n",
       "      <td>4.081043</td>\n",
       "      <td>3.170726</td>\n",
       "    </tr>\n",
       "    <tr>\n",
       "      <th>2</th>\n",
       "      <td>4.284655</td>\n",
       "      <td>3.364355</td>\n",
       "      <td>3.607842</td>\n",
       "      <td>3.925287</td>\n",
       "      <td>4.616514</td>\n",
       "      <td>5.577581</td>\n",
       "    </tr>\n",
       "    <tr>\n",
       "      <th>3</th>\n",
       "      <td>3.896700</td>\n",
       "      <td>3.341259</td>\n",
       "      <td>3.723637</td>\n",
       "      <td>3.545535</td>\n",
       "      <td>4.740279</td>\n",
       "      <td>3.557504</td>\n",
       "    </tr>\n",
       "    <tr>\n",
       "      <th>4</th>\n",
       "      <td>2.950915</td>\n",
       "      <td>4.475027</td>\n",
       "      <td>4.343541</td>\n",
       "      <td>4.012297</td>\n",
       "      <td>1.796760</td>\n",
       "      <td>5.944427</td>\n",
       "    </tr>\n",
       "  </tbody>\n",
       "</table>\n",
       "</div>"
      ],
      "text/plain": [
       "          0         1         2         3         4         5\n",
       "0  2.004711  4.385577  2.777283  3.821483  4.437753  3.934917\n",
       "1  3.401624  3.383879  4.671592  3.682107  4.081043  3.170726\n",
       "2  4.284655  3.364355  3.607842  3.925287  4.616514  5.577581\n",
       "3  3.896700  3.341259  3.723637  3.545535  4.740279  3.557504\n",
       "4  2.950915  4.475027  4.343541  4.012297  1.796760  5.944427"
      ]
     },
     "execution_count": 16,
     "metadata": {},
     "output_type": "execute_result"
    }
   ],
   "source": [
    "# And perform more complex scalar operations\n",
    "\n",
    "-1.0 * df + 3.5"
   ]
  },
  {
   "cell_type": "code",
   "execution_count": 17,
   "metadata": {
    "collapsed": false
   },
   "outputs": [
    {
     "data": {
      "text/html": [
       "<div>\n",
       "<table border=\"1\" class=\"dataframe\">\n",
       "  <thead>\n",
       "    <tr style=\"text-align: right;\">\n",
       "      <th></th>\n",
       "      <th>0</th>\n",
       "      <th>1</th>\n",
       "      <th>2</th>\n",
       "      <th>3</th>\n",
       "      <th>4</th>\n",
       "      <th>5</th>\n",
       "    </tr>\n",
       "  </thead>\n",
       "  <tbody>\n",
       "    <tr>\n",
       "      <th>0</th>\n",
       "      <td>0.997151</td>\n",
       "      <td>-0.774280</td>\n",
       "      <td>0.661425</td>\n",
       "      <td>-0.315974</td>\n",
       "      <td>-0.806231</td>\n",
       "      <td>-0.421335</td>\n",
       "    </tr>\n",
       "    <tr>\n",
       "      <th>1</th>\n",
       "      <td>0.098217</td>\n",
       "      <td>0.115860</td>\n",
       "      <td>-0.921371</td>\n",
       "      <td>-0.181102</td>\n",
       "      <td>-0.548896</td>\n",
       "      <td>0.323356</td>\n",
       "    </tr>\n",
       "    <tr>\n",
       "      <th>2</th>\n",
       "      <td>-0.706581</td>\n",
       "      <td>0.135230</td>\n",
       "      <td>-0.107633</td>\n",
       "      <td>-0.412582</td>\n",
       "      <td>-0.898576</td>\n",
       "      <td>-0.874309</td>\n",
       "    </tr>\n",
       "    <tr>\n",
       "      <th>3</th>\n",
       "      <td>-0.386377</td>\n",
       "      <td>0.158075</td>\n",
       "      <td>-0.221777</td>\n",
       "      <td>-0.045519</td>\n",
       "      <td>-0.945874</td>\n",
       "      <td>-0.057473</td>\n",
       "    </tr>\n",
       "    <tr>\n",
       "      <th>4</th>\n",
       "      <td>0.521907</td>\n",
       "      <td>-0.827717</td>\n",
       "      <td>-0.747002</td>\n",
       "      <td>-0.490181</td>\n",
       "      <td>0.991242</td>\n",
       "      <td>-0.642047</td>\n",
       "    </tr>\n",
       "  </tbody>\n",
       "</table>\n",
       "</div>"
      ],
      "text/plain": [
       "          0         1         2         3         4         5\n",
       "0  0.997151 -0.774280  0.661425 -0.315974 -0.806231 -0.421335\n",
       "1  0.098217  0.115860 -0.921371 -0.181102 -0.548896  0.323356\n",
       "2 -0.706581  0.135230 -0.107633 -0.412582 -0.898576 -0.874309\n",
       "3 -0.386377  0.158075 -0.221777 -0.045519 -0.945874 -0.057473\n",
       "4  0.521907 -0.827717 -0.747002 -0.490181  0.991242 -0.642047"
      ]
     },
     "execution_count": 17,
     "metadata": {},
     "output_type": "execute_result"
    }
   ],
   "source": [
    "# We can also apply vectorized functions\n",
    "\n",
    "np.sin(df)"
   ]
  },
  {
   "cell_type": "code",
   "execution_count": 18,
   "metadata": {
    "collapsed": false
   },
   "outputs": [
    {
     "data": {
      "text/html": [
       "<div>\n",
       "<table border=\"1\" class=\"dataframe\">\n",
       "  <thead>\n",
       "    <tr style=\"text-align: right;\">\n",
       "      <th></th>\n",
       "      <th>0</th>\n",
       "      <th>1</th>\n",
       "      <th>2</th>\n",
       "      <th>3</th>\n",
       "      <th>4</th>\n",
       "    </tr>\n",
       "  </thead>\n",
       "  <tbody>\n",
       "    <tr>\n",
       "      <th>0</th>\n",
       "      <td>1.495289</td>\n",
       "      <td>0.098376</td>\n",
       "      <td>-0.784655</td>\n",
       "      <td>-0.396700</td>\n",
       "      <td>0.549085</td>\n",
       "    </tr>\n",
       "    <tr>\n",
       "      <th>1</th>\n",
       "      <td>-0.885577</td>\n",
       "      <td>0.116121</td>\n",
       "      <td>0.135645</td>\n",
       "      <td>0.158741</td>\n",
       "      <td>-0.975027</td>\n",
       "    </tr>\n",
       "    <tr>\n",
       "      <th>2</th>\n",
       "      <td>0.722717</td>\n",
       "      <td>-1.171592</td>\n",
       "      <td>-0.107842</td>\n",
       "      <td>-0.223637</td>\n",
       "      <td>-0.843541</td>\n",
       "    </tr>\n",
       "    <tr>\n",
       "      <th>3</th>\n",
       "      <td>-0.321483</td>\n",
       "      <td>-0.182107</td>\n",
       "      <td>-0.425287</td>\n",
       "      <td>-0.045535</td>\n",
       "      <td>-0.512297</td>\n",
       "    </tr>\n",
       "    <tr>\n",
       "      <th>4</th>\n",
       "      <td>-0.937753</td>\n",
       "      <td>-0.581043</td>\n",
       "      <td>-1.116514</td>\n",
       "      <td>-1.240279</td>\n",
       "      <td>1.703240</td>\n",
       "    </tr>\n",
       "    <tr>\n",
       "      <th>5</th>\n",
       "      <td>-0.434917</td>\n",
       "      <td>0.329274</td>\n",
       "      <td>-2.077581</td>\n",
       "      <td>-0.057504</td>\n",
       "      <td>-2.444427</td>\n",
       "    </tr>\n",
       "  </tbody>\n",
       "</table>\n",
       "</div>"
      ],
      "text/plain": [
       "          0         1         2         3         4\n",
       "0  1.495289  0.098376 -0.784655 -0.396700  0.549085\n",
       "1 -0.885577  0.116121  0.135645  0.158741 -0.975027\n",
       "2  0.722717 -1.171592 -0.107842 -0.223637 -0.843541\n",
       "3 -0.321483 -0.182107 -0.425287 -0.045535 -0.512297\n",
       "4 -0.937753 -0.581043 -1.116514 -1.240279  1.703240\n",
       "5 -0.434917  0.329274 -2.077581 -0.057504 -2.444427"
      ]
     },
     "execution_count": 18,
     "metadata": {},
     "output_type": "execute_result"
    }
   ],
   "source": [
    "# We can tranpose the dataframe\n",
    "\n",
    "df.T"
   ]
  },
  {
   "cell_type": "markdown",
   "metadata": {},
   "source": [
    "-----\n",
    "\n",
    "The above description merely scratches the surface of what you can do\n",
    "with a Pandas `Series` or a `DataFrame`. The best way to learn how to\n",
    "effectively use these data structures is to just do it!\n",
    "\n",
    "-----"
   ]
  },
  {
   "cell_type": "markdown",
   "metadata": {},
   "source": [
    "### Additional References\n",
    "\n",
    "1. [Pandas Documentation][pdd]\n",
    "2. A slightly dated Pandas [tutorial][pdt]\n",
    "-----\n",
    "\n",
    "[pdd]: http://pandas.pydata.org/pandas-docs/stable/index.html\n",
    "[pdt]: http://www.gregreda.com/2013/10/26/intro-to-pandas-data-structures/"
   ]
  }
 ],
 "metadata": {
  "kernelspec": {
   "display_name": "Python 3",
   "language": "python",
   "name": "python3"
  },
  "language_info": {
   "codemirror_mode": {
    "name": "ipython",
    "version": 3
   },
   "file_extension": ".py",
   "mimetype": "text/x-python",
   "name": "python",
   "nbconvert_exporter": "python",
   "pygments_lexer": "ipython3",
   "version": "3.5.2"
  }
 },
 "nbformat": 4,
 "nbformat_minor": 0
}

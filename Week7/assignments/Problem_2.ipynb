{
 "cells": [
  {
   "cell_type": "markdown",
   "metadata": {
    "deletable": false,
    "nbgrader": {
     "checksum": "52b97f31868238e468575a30e6f26064",
     "grade": false,
     "grade_id": "header",
     "locked": true,
     "solution": false
    }
   },
   "source": [
    "# Week 7 Problem 2\n",
    "\n",
    "If you are not using the `Assignments` tab on the course JupyterHub server to read this notebook, read [Activating the assignments tab](https://github.com/UI-DataScience/info490-fa16/blob/master/Week2/assignments/README.md).\n",
    "\n",
    "A few things you should keep in mind when working on assignments:\n",
    "\n",
    "1. Make sure you fill in any place that says `YOUR CODE HERE`. Do **not** write your answer in anywhere else other than where it says `YOUR CODE HERE`. Anything you write anywhere else will be removed or overwritten by the autograder.\n",
    "\n",
    "2. Before you submit your assignment, make sure everything runs as expected. Go to menubar, select _Kernel_, and restart the kernel and run all cells (_Restart & Run all_).\n",
    "\n",
    "3. Do not change the title (i.e. file name) of this notebook.\n",
    "\n",
    "4. Make sure that you save your work (in the menubar, select _File_ → _Save and CheckPoint_)\n",
    "\n",
    "5. You are allowed to submit an assignment multiple times, but only the most recent submission will be graded."
   ]
  },
  {
   "cell_type": "code",
   "execution_count": 1,
   "metadata": {
    "collapsed": true,
    "deletable": false,
    "nbgrader": {
     "checksum": "361915fcc1c7bd0076f46fb7c612644d",
     "grade": false,
     "grade_id": "mpl_inline",
     "locked": true,
     "solution": false
    }
   },
   "outputs": [],
   "source": [
    "%matplotlib inline"
   ]
  },
  {
   "cell_type": "code",
   "execution_count": 2,
   "metadata": {
    "collapsed": false,
    "deletable": false,
    "nbgrader": {
     "checksum": "99a88bdb3ab2d4bb8f82a31d25292a0b",
     "grade": false,
     "grade_id": "import_nose",
     "locked": true,
     "solution": false
    }
   },
   "outputs": [],
   "source": [
    "from nose.tools import assert_equal\n",
    "import matplotlib.pyplot as plt\n",
    "import numpy as np\n",
    "from numpy.testing import assert_almost_equal\n",
    "import seaborn as sns"
   ]
  },
  {
   "cell_type": "markdown",
   "metadata": {
    "deletable": false,
    "nbgrader": {
     "checksum": "d43ddeba7d8f2adfcc8c3e04a9b6787a",
     "grade": false,
     "grade_id": "p1_title",
     "locked": true,
     "solution": false
    }
   },
   "source": [
    "# Problem 1.\n",
    "\n",
    "The purpose of this problem is to give you exposure creating multiple plots displayed together called *subplots*. You may have noticed that the first thing we do when creating a new plot is make a call to `plt.subplots()`. If we want to create one plot, we often call `subplots()` with no arguments unless we want to change the figure size. Now we'll actually put its namesake to use.\n",
    "\n",
    "Write a function to create a 2 by 2 plot with the following guidelines:\n",
    "\n",
    "* Make the entire plot 12 by 9\n",
    "* Use the plotting format as described in the docstring\n",
    "* make sure the array of axes is arranged the same was as the plot i.e. the top left plot should be in the 0,0 position, the top right should be in 0,1, etc...\n",
    "\n",
    "Here is an example:\n",
    "\n",
    "\n",
    "![Example Plot](p2_1_example.png)\n",
    "\n",
    "\n",
    "You may find some [examples](http://matplotlib.org/examples/pylab_examples/subplots_demo.html) with code helpful."
   ]
  },
  {
   "cell_type": "code",
   "execution_count": null,
   "metadata": {
    "collapsed": true,
    "deletable": false,
    "nbgrader": {
     "checksum": "db3521fb40ee6d84031e737d64f0aa3d",
     "grade": false,
     "grade_id": "p1_answer",
     "locked": false,
     "solution": true
    }
   },
   "outputs": [],
   "source": [
    "def plot_2_by_2(x, y, z):\n",
    "    '''\n",
    "    Creates a two-by-two plot of x on y, x on z, x on \n",
    "    y^2, and x on z^2.\n",
    "    \n",
    "    The format for the plot calls is (in terms of (xaxis, yaxis)):\n",
    "    top left: x, y\n",
    "    top right: x, z\n",
    "    bottom left: x, y^2\n",
    "    bottom right: x, z^2\n",
    "    \n",
    "    Parameters\n",
    "    ----------\n",
    "    x: A numpy array of data points for the x-axis.\n",
    "    y: A numpy array of data points for the y-axis.\n",
    "    z: A numpy array of data points for the other y-axis.\n",
    "    \n",
    "    Returns\n",
    "    -------\n",
    "    A 2x2 numpy array of matplotlib.axes._subplots.AxesSubplot objects\n",
    "    '''\n",
    "    \n",
    "    #YOUR CODE HERE\n",
    "    \n",
    "    return ax"
   ]
  },
  {
   "cell_type": "code",
   "execution_count": null,
   "metadata": {
    "collapsed": false,
    "deletable": false,
    "nbgrader": {
     "checksum": "6c5277bce38d47206fbc9495d9633254",
     "grade": false,
     "grade_id": "p1_show",
     "locked": true,
     "solution": false
    }
   },
   "outputs": [],
   "source": [
    "x_arr = np.linspace(0,2*np.pi, 400)\n",
    "y_arr = x_arr**(1/2)\n",
    "z_arr = x_arr**2\n",
    "f, a = plot_2_by_2(x_arr, y_arr, z_arr)"
   ]
  },
  {
   "cell_type": "code",
   "execution_count": null,
   "metadata": {
    "collapsed": false,
    "deletable": false,
    "nbgrader": {
     "checksum": "ffcf308a6f01501a672957d2bf45ec42",
     "grade": true,
     "grade_id": "p1_test",
     "locked": true,
     "points": 10,
     "solution": false
    }
   },
   "outputs": [],
   "source": [
    "# make data for the plotting\n",
    "x_arr = np.linspace(0, 2 * np.pi, 400)\n",
    "y_arr = np.sin(x_arr)\n",
    "z_arr = np.cos(x_arr)\n",
    "\n",
    "# get the axes array\n",
    "axarr = plot_2_by_2(x_arr, y_arr, z_arr)\n",
    "\n",
    "# make sure it's an array\n",
    "assert_equal(type(axarr), np.ndarray, \n",
    "             msg='axis array should be a numpy array')\n",
    "\n",
    "## x value tests\n",
    "assert_almost_equal(axarr[0, 1].lines[0].get_data()[0], x_arr, \n",
    "                    err_msg='x values are not equivalent for top right')\n",
    "assert_almost_equal(axarr[1, 1].lines[0].get_data()[0], x_arr, \n",
    "                    err_msg='x values are not equivalent for bottom right')\n",
    "assert_almost_equal(axarr[0, 0].lines[0].get_data()[0], x_arr, \n",
    "                    err_msg='x values are not equivalent for top left')\n",
    "assert_almost_equal(axarr[1, 0].lines[0].get_data()[0], x_arr, \n",
    "                    err_msg='x values are not equivalent for bottom left')\n",
    "## y value tests\n",
    "assert_almost_equal(axarr[0, 1].lines[0].get_data()[1], z_arr, \n",
    "                    err_msg='y values are not equivalent for top right')\n",
    "assert_almost_equal(axarr[1, 1].lines[0].get_data()[1], z_arr**2, \n",
    "                    err_msg='x values are not equivalent for bottom right')\n",
    "assert_almost_equal(axarr[0, 0].lines[0].get_data()[1], y_arr, \n",
    "                    err_msg='x values are not equivalent for top left')\n",
    "assert_almost_equal(axarr[1, 0].lines[0].get_data()[1], y_arr**2, \n",
    "                    err_msg='x values are not equivalent for bottom left')\n",
    "\n",
    "# height and width tests\n",
    "assert_equal(axarr[0,0].get_figure().get_figwidth(), 12.0)\n",
    "assert_equal(axarr[0,0].get_figure().get_figheight(), 9.0)\n",
    "\n",
    "# don't show the plot\n",
    "plt.close()"
   ]
  },
  {
   "cell_type": "markdown",
   "metadata": {
    "deletable": false,
    "nbgrader": {
     "checksum": "9cde0389548aa58e1c05a760a7487ea7",
     "grade": false,
     "grade_id": "p2_title",
     "locked": true,
     "solution": false
    }
   },
   "source": [
    "# Problem 2.\n",
    "\n",
    "Now we want you to learn to add legends to your plots. Extend the idea of the first assignment and create a plot of $sine$ and $cosine$. Again, **plot sine first, then cosine**. Your function should:\n",
    "\n",
    "* create a vector of x values from `lower` to `upper` using `np.arange()`\n",
    "* create vectors sin(x) and cos(x)\n",
    "* plot sin(x) with label 'sine'\n",
    "* plot cos(x) with label 'cosine'\n",
    "\n",
    "Here is an example:\n",
    "\n",
    "![Problem 2 Example](p2_2_example.png)"
   ]
  },
  {
   "cell_type": "code",
   "execution_count": null,
   "metadata": {
    "collapsed": false,
    "deletable": false,
    "nbgrader": {
     "checksum": "60c6f2a9ed35a2dc261e8bb772cb1995",
     "grade": false,
     "grade_id": "p2_answer",
     "locked": false,
     "solution": true
    }
   },
   "outputs": [],
   "source": [
    "def plot_with_legend(lower = -3 , upper = 3):\n",
    "    \"\"\"\n",
    "    Plots the sine and cosine functions with a legend.\n",
    "    \n",
    "    Parameters\n",
    "    ----------\n",
    "    lower: the lower bound of the x axis\n",
    "    upper: the upper bound of the x axis\n",
    "    \n",
    "    Returns\n",
    "    -------\n",
    "    A matplotlib.Axes instance.\n",
    "    \"\"\"\n",
    "\n",
    "    #YOUR CODE HERE\n",
    "    \n",
    "    return ax"
   ]
  },
  {
   "cell_type": "code",
   "execution_count": null,
   "metadata": {
    "collapsed": false,
    "deletable": false,
    "nbgrader": {
     "checksum": "302eb579cb1a842fcc3d0022f721e92b",
     "grade": false,
     "grade_id": "show_p2",
     "locked": true,
     "solution": false
    }
   },
   "outputs": [],
   "source": [
    "ax_2 = plot_with_legend()"
   ]
  },
  {
   "cell_type": "code",
   "execution_count": null,
   "metadata": {
    "collapsed": false,
    "deletable": false,
    "nbgrader": {
     "checksum": "9ba70824b484afca48fe765765ea23ce",
     "grade": true,
     "grade_id": "p2_test",
     "locked": true,
     "points": 10,
     "solution": false
    }
   },
   "outputs": [],
   "source": [
    "# get the ax object\n",
    "ax_2 = plot_with_legend(lower=-4, upper=4)\n",
    "# make sure the legend is right\n",
    "assert_equal(ax_2.legend().get_texts()[0].get_text(), 'sine')\n",
    "assert_equal(ax_2.legend().get_texts()[1].get_text(), 'cosine')\n",
    "# make sure the data for the sine plot is right\n",
    "x, y1 = ax_2.lines[0].get_data()\n",
    "assert_almost_equal(y1, np.sin(x))\n",
    "# make sure the data for the cosine plot is right\n",
    "x, y2 = ax_2.lines[1].get_data()\n",
    "assert_almost_equal(y2, np.cos(x))\n",
    "# make sure you set the bounds right\n",
    "assert_almost_equal(4, max(x), decimal=1, err_msg='try decreasing step size in np.arange')\n",
    "assert_almost_equal(-4, min(x), decimal=1, err_msg='try decreasing step size in np.arange')\n",
    "plt.close()"
   ]
  },
  {
   "cell_type": "code",
   "execution_count": null,
   "metadata": {
    "collapsed": true
   },
   "outputs": [],
   "source": []
  }
 ],
 "metadata": {
  "kernelspec": {
   "display_name": "Python 3",
   "language": "python",
   "name": "python3"
  },
  "language_info": {
   "codemirror_mode": {
    "name": "ipython",
    "version": 3
   },
   "file_extension": ".py",
   "mimetype": "text/x-python",
   "name": "python",
   "nbconvert_exporter": "python",
   "pygments_lexer": "ipython3",
   "version": "3.5.2"
  }
 },
 "nbformat": 4,
 "nbformat_minor": 0
}

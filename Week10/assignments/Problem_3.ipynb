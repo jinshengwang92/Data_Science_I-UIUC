{
 "cells": [
  {
   "cell_type": "markdown",
   "metadata": {
    "deletable": false,
    "nbgrader": {
     "checksum": "d842e7b72d3c6a237ff420d897078f42",
     "grade": false,
     "grade_id": "title",
     "locked": true,
     "solution": false
    }
   },
   "source": [
    "# Week 10 Problem 3\n",
    "\n",
    "If you are not using the `Assignments` tab on the course JupyterHub server to read this notebook, read [Activating the assignments tab](https://github.com/UI-DataScience/info490-fa16/blob/master/Week2/assignments/README.md).\n",
    "\n",
    "A few things you should keep in mind when working on assignments:\n",
    "\n",
    "1. Make sure you fill in any place that says `YOUR CODE HERE`. Do **not** write your answer in anywhere else other than where it says `YOUR CODE HERE`. Anything you write anywhere else will be removed or overwritten by the autograder.\n",
    "\n",
    "2. Before you submit your assignment, make sure everything runs as expected. Go to menubar, select _Kernel_, and restart the kernel and run all cells (_Restart & Run all_).\n",
    "\n",
    "3. Do not change the title (i.e. file name) of this notebook.\n",
    "\n",
    "4. Make sure that you save your work (in the menubar, select _File_ → _Save and CheckPoint_)\n",
    "\n",
    "5. You are allowed to submit an assignment multiple times, but only the most recent submission will be graded."
   ]
  },
  {
   "cell_type": "code",
   "execution_count": null,
   "metadata": {
    "collapsed": false,
    "deletable": false,
    "nbgrader": {
     "checksum": "a54f81dd85f2df2e6711900cd191431b",
     "grade": false,
     "grade_id": "import",
     "locked": true,
     "solution": false
    }
   },
   "outputs": [],
   "source": [
    "%matplotlib inline\n",
    "import numpy as np\n",
    "import pandas as pd\n",
    "import seaborn as sns\n",
    "import matplotlib as mpl\n",
    "import matplotlib.pyplot as plt\n",
    "\n",
    "from nose.tools import assert_equal, assert_is_instance, assert_is, assert_is_not\n",
    "from numpy.testing import assert_array_equal\n",
    "from pandas.util.testing import assert_frame_equal\n",
    "\n",
    "import warnings\n",
    "warnings.filterwarnings(\"ignore\")"
   ]
  },
  {
   "cell_type": "markdown",
   "metadata": {
    "deletable": false,
    "nbgrader": {
     "checksum": "81f87a91e157161d096f8406f82f2e7a",
     "grade": false,
     "grade_id": "p1",
     "locked": true,
     "solution": false
    }
   },
   "source": [
    "# Problem 1.\n",
    "\n",
    "For this problem, we are going to use the csv file `/home/data_scientist/data/2001/2001-1.csv`, which includes the first 500,000 rows of our familiar `/home/data_scientist/data/2001.csv` file. The code cell below loads the four columns, `Distance`, `ActualElapsedTime`, `ArrDelay`, and `Dest`, into a Pandas dataframe, which we will use to make plots. "
   ]
  },
  {
   "cell_type": "code",
   "execution_count": null,
   "metadata": {
    "collapsed": true,
    "deletable": false,
    "nbgrader": {
     "checksum": "f84440f6fc8d524e9c977facccbe825c",
     "grade": false,
     "grade_id": "load",
     "locked": true,
     "solution": false
    }
   },
   "outputs": [],
   "source": [
    "filepath = \"/home/data_scientist/data/2001/2001-1.csv\"\n",
    "columns = [\"Distance\", \"ActualElapsedTime\", \"ArrDelay\", \"Dest\"]\n",
    "df = pd.read_csv(filepath, encoding=\"latin-1\", usecols=columns)\n",
    "df = df.dropna()"
   ]
  },
  {
   "cell_type": "markdown",
   "metadata": {
    "deletable": false,
    "nbgrader": {
     "checksum": "a4f743ac5a39404ae5576b2b5ef43c25",
     "grade": false,
     "grade_id": "f1",
     "locked": true,
     "solution": false
    }
   },
   "source": [
    "## 1. Plot: Kernel density estimation\n",
    "\n",
    "In the following code cell, write a function named `make_kdeplot()` that takes a Pandas dataframe, a column name (a string), and a optional parameter bandwidth (bw) to make a kernal density estimation (KDE) plot. The function returns a `matplotlib.Axes` object.\n",
    "\n",
    "- It's better to use [seaborn.kdeplot()](http://stanford.edu/~mwaskom/software/seaborn/generated/seaborn.kdeplot.html#seaborn.kdeplot) since it is easier to pass a `bw` parameter, but [seaborn.distplot()](http://stanford.edu/~mwaskom/software/seaborn/generated/seaborn.distplot.html#seaborn.distplot) could work as well.\n",
    "- For the x axis label, use the column name string that is passed to the function as an input argument.\n",
    "- Your plot should have a y axis label and a title as well.\n",
    "- To pass the assertion tests, please do not set any parameters that could potentially change the data included in the plot. \n",
    "\n",
    "Here is an example plot using the `ActualElapsedTime` column:\n",
    "![](p3_kde.png)"
   ]
  },
  {
   "cell_type": "code",
   "execution_count": null,
   "metadata": {
    "collapsed": true,
    "deletable": false,
    "nbgrader": {
     "checksum": "ea0283171146ea244a5228499f981437",
     "grade": false,
     "grade_id": "f1_a",
     "locked": false,
     "solution": true
    }
   },
   "outputs": [],
   "source": [
    "def make_kdeplot(df, col, bw=1):\n",
    "    '''\n",
    "    Makes a KDE plot using the specified column in the dataframe.\n",
    "    \n",
    "    Params\n",
    "    -------\n",
    "    df: a pd.DataFrame object\n",
    "    col: a column name (a string)\n",
    "    bw: (optional) bandwidth of the kdeplot\n",
    "    \n",
    "    Returns\n",
    "    -------\n",
    "    A matplotlib.Axes object\n",
    "    '''\n",
    "    \n",
    "    # YOUR CODE HERE\n",
    "    \n",
    "    return ax"
   ]
  },
  {
   "cell_type": "code",
   "execution_count": null,
   "metadata": {
    "collapsed": false,
    "deletable": false,
    "nbgrader": {
     "checksum": "b6354fafffb06d4d55c831b0d2a7cbf6",
     "grade": false,
     "grade_id": "f1_p",
     "locked": true,
     "solution": false
    }
   },
   "outputs": [],
   "source": [
    "# execute your function; your plot should look similar to the example plot\n",
    "ax = make_kdeplot(df, columns[1])"
   ]
  },
  {
   "cell_type": "code",
   "execution_count": null,
   "metadata": {
    "collapsed": false,
    "deletable": false,
    "nbgrader": {
     "checksum": "2bcfef5dc5316177f67ab50b82608e3b",
     "grade": true,
     "grade_id": "f1_t",
     "locked": true,
     "points": 9,
     "solution": false
    }
   },
   "outputs": [],
   "source": [
    "# assertions\n",
    "# make a kdeplot\n",
    "ax = make_kdeplot(df, columns[1])\n",
    "plt.close()\n",
    "\n",
    "# check title, axis labels\n",
    "assert_is_instance(ax, mpl.axes.Axes, msg=\"Your function should return a matplotlib.axes.Axes object.\")\n",
    "assert_is_not(len(ax.title.get_text()), 0, msg=\"Your plot doesn't have a title.\")\n",
    "assert_is(ax.xaxis.get_label_text(), columns[1], msg=\"Change the x-axis label to the corresponding column name.\")\n",
    "assert_is_not(ax.yaxis.get_label_text(), '', msg=\"Your plot doesn't have a y-axis label.\")\n",
    "\n",
    "# check data\n",
    "x = ax.lines[0].get_xdata()\n",
    "y = ax.lines[0].get_ydata()\n",
    "assert_array_equal([min(x), max(x)], [12.0, 782.0])\n",
    "assert_array_equal([min(y), max(y)], [0.0, 0.0097750694299635205])\n",
    "\n",
    "# make another kdeplot using a different column\n",
    "ax2 = make_kdeplot(df, columns[2], bw=5)\n",
    "plt.close()\n",
    "assert_is(ax2.xaxis.get_label_text(), columns[2], msg=\"Change the x-axis label to the corresponding column name.\")\n",
    "x2 = ax2.lines[0].get_xdata()\n",
    "y2 = ax2.lines[0].get_ydata()\n",
    "assert_array_equal((min(x2), max(x2)), [-95.0, 1703.0])\n",
    "assert_array_equal([min(y2), max(y2)], [0.0, 0.024272044285855398])"
   ]
  },
  {
   "cell_type": "markdown",
   "metadata": {
    "collapsed": true,
    "deletable": false,
    "nbgrader": {
     "checksum": "9931044cc404def31160941e9e991f7d",
     "grade": false,
     "grade_id": "f2",
     "locked": true,
     "solution": false
    }
   },
   "source": [
    "## 2. Plot: Hexbin plots\n",
    "\n",
    "Write a function named `make_hexplot()` that takes a Pandas dataframe and two column names to make a joint hexbin plot. The function returns a Seaborn `JointGrid` object.\n",
    "\n",
    "- Use [seaborn.jointplot()](http://stanford.edu/~mwaskom/software/seaborn/generated/seaborn.jointplot.html#seaborn.jointplot) or [seaborn.JointGrid](http://stanford.edu/~mwaskom/software/seaborn/generated/seaborn.JointGrid.html#seaborn.JointGrid) to make a joint plot.\n",
    "- The two plots on the sides are histograms (default). The main plot in the center is a hexbin plot.\n",
    "\n",
    "Example:\n",
    "![](p3_hexbin.png)"
   ]
  },
  {
   "cell_type": "code",
   "execution_count": null,
   "metadata": {
    "collapsed": false,
    "deletable": false,
    "nbgrader": {
     "checksum": "ffd72148db62dfe1e4b676c512bbc92e",
     "grade": false,
     "grade_id": "f2_a",
     "locked": false,
     "solution": true
    }
   },
   "outputs": [],
   "source": [
    "def make_hexplot(df, col1, col2):\n",
    "    '''\n",
    "    Makes a bivariate hexbin plot.\n",
    "    \n",
    "    Params\n",
    "    -------\n",
    "    df: a pd.DataFrame object\n",
    "    col1: a column to put on x-axis\n",
    "    col2: a column to put on y-axis\n",
    "    \n",
    "    Returns\n",
    "    -------\n",
    "    A seaborn.JointGrid object\n",
    "    '''\n",
    "    \n",
    "    # YOUR CODE HERE"
   ]
  },
  {
   "cell_type": "code",
   "execution_count": null,
   "metadata": {
    "collapsed": false,
    "deletable": false,
    "nbgrader": {
     "checksum": "3060848a9c229a80f717d2809ddfa297",
     "grade": false,
     "grade_id": "f2_p",
     "locked": true,
     "solution": false
    }
   },
   "outputs": [],
   "source": [
    "# execute your function; your plot should look similar to the example plot\n",
    "# use the first 5000 rows in the dataframe to save time\n",
    "joint = make_hexplot(df[:5000], columns[0], columns[1])"
   ]
  },
  {
   "cell_type": "code",
   "execution_count": null,
   "metadata": {
    "collapsed": false,
    "deletable": false,
    "nbgrader": {
     "checksum": "bdf5e91b3bde0fb08bd536b645c5e7af",
     "grade": true,
     "grade_id": "f2_t",
     "locked": true,
     "points": 7,
     "solution": false
    }
   },
   "outputs": [],
   "source": [
    "# assertions\n",
    "# make a jointplot\n",
    "joint = make_hexplot(df[:5000], columns[0], columns[1])\n",
    "plt.close()\n",
    "\n",
    "# check data\n",
    "assert_is_instance(joint, sns.axisgrid.JointGrid)\n",
    "assert_array_equal(joint.x, df[:5000][columns[0]])\n",
    "assert_array_equal(joint.y, df[:5000][columns[1]])\n",
    "\n",
    "# check histgrams on the sides\n",
    "assert_equal(len(joint.ax_marg_x.patches), 42)\n",
    "assert_equal(len(joint.ax_marg_y.patches), 50)\n",
    "\n",
    "# check the hexbin plot in the middle\n",
    "hexbin = joint.ax_joint.collections[0].get_array()\n",
    "assert_equal(len(hexbin), 2465)\n",
    "assert_array_equal([min(hexbin), max(hexbin)], [0.0, 110.0])\n",
    "\n",
    "# another jointplot\n",
    "joint2 = make_hexplot(df[:5000], columns[2], columns[2])\n",
    "plt.close()\n",
    "assert_array_equal(joint2.x, df[:5000][columns[2]])\n",
    "assert_array_equal(joint2.y, df[:5000][columns[2]])\n",
    "assert_equal(len(joint2.ax_marg_x.patches), 50)\n",
    "assert_equal(len(joint2.ax_marg_y.patches), 50)\n",
    "hexbin2 = joint2.ax_joint.collections[0].get_array()\n",
    "assert_equal(len(hexbin2), 24299)\n",
    "assert_array_equal([min(hexbin2), max(hexbin2)], [0.0, 368.0])"
   ]
  },
  {
   "cell_type": "markdown",
   "metadata": {
    "deletable": false,
    "nbgrader": {
     "checksum": "56af0f84eedc67ce47ed6563ae45a06e",
     "grade": false,
     "grade_id": "f3",
     "locked": true,
     "solution": false
    }
   },
   "source": [
    "## 3. Plot: Visualizing pairwise relationships\n",
    "\n",
    "Write a function named `make_pairplot` that takes a Pandas dataframe and a hue column name (a string) to make plot pairwise bivariate distributions of all the columns in the dataframe. The function returns a Seaborn `PairGrid` object.\n",
    "\n",
    "- Use [seaborn.PairGrid](http://stanford.edu/~mwaskom/software/seaborn/generated/seaborn.PairGrid.html#seaborn.PairGrid) because we would like to have more flexibility.\n",
    "- Use the hue column to map plot aspects to different colors.\n",
    "- The diagonal subplots are **KDE** plots. \n",
    "- The nondiagonal subplots are **scatter** plots.\n",
    "\n",
    "Example:\n",
    "![](p3_pair.png)"
   ]
  },
  {
   "cell_type": "code",
   "execution_count": null,
   "metadata": {
    "collapsed": false,
    "deletable": false,
    "nbgrader": {
     "checksum": "9eb0fdaccac3a1e8ede0a806064bc9b4",
     "grade": false,
     "grade_id": "f3_a",
     "locked": false,
     "solution": true
    }
   },
   "outputs": [],
   "source": [
    "def make_pairplot(df, huecol):\n",
    "    '''\n",
    "    Makes a pairplot of multiple pairwise bivariate distributions in a dataset.\n",
    "    \n",
    "    Params\n",
    "    -------\n",
    "    df: a pd.DataFrame object. All columns will be used in the pairplot\n",
    "    hue: a column to map plot aspects to different colors\n",
    "    \n",
    "    Returns\n",
    "    -------\n",
    "    A seaborn.PairGrid object\n",
    "    '''\n",
    "    \n",
    "    # YOUR CODE HERE"
   ]
  },
  {
   "cell_type": "code",
   "execution_count": null,
   "metadata": {
    "collapsed": false,
    "deletable": false,
    "nbgrader": {
     "checksum": "309fe35c835ddd9cd2c831ce86e838e1",
     "grade": false,
     "grade_id": "f3_p",
     "locked": true,
     "solution": false
    }
   },
   "outputs": [],
   "source": [
    "pair = make_pairplot(df[:100], columns[3])"
   ]
  },
  {
   "cell_type": "code",
   "execution_count": null,
   "metadata": {
    "collapsed": false,
    "deletable": false,
    "nbgrader": {
     "checksum": "c45c72e6664c95cc4123f863ed528f20",
     "grade": true,
     "grade_id": "f3_t",
     "locked": true,
     "points": 9,
     "solution": false
    }
   },
   "outputs": [],
   "source": [
    "# assertions\n",
    "# make a pairplot\n",
    "pair = make_pairplot(df[:100], columns[3])\n",
    "plt.close()\n",
    "\n",
    "# check data\n",
    "assert_is_instance(pair, sns.axisgrid.PairGrid)\n",
    "assert_frame_equal(pair.data, df[:100])\n",
    "\n",
    "# check legend\n",
    "assert_equal(pair.hue_names, ['CLT', 'MHT', 'TPA'])\n",
    "\n",
    "# check diagonal kde plots\n",
    "for d in pair.diag_axes:\n",
    "    assert_equal(len(d.lines), 3, msg=\"The nondiagonal subplots should be KDE plots with 3 lines each.\")\n",
    "l1 = pair.diag_axes[0].lines[0].get_xydata()\n",
    "assert_array_equal([np.min(l1), np.max(l1)], [8.5613566514262593e-05, 122.32653970546926])\n",
    "l2 = pair.diag_axes[1].lines[2].get_xydata()\n",
    "assert_array_equal([np.min(l2), np.max(l2)], [-37.440954535726235, 212.44095453572623])\n",
    "l3 = pair.diag_axes[2].lines[0].get_xydata()\n",
    "assert_array_equal([np.min(l3), np.max(l3)], [0.00023714991522256253, 480.86510129524527])\n",
    "\n",
    "# check nondiagonal scatter plots\n",
    "for i in range(3):\n",
    "    for j in range(3):\n",
    "        if i != j:\n",
    "            assert_is_instance(pair.axes[i][j].collections[0], mpl.collections.PathCollection, \n",
    "                               msg=\"The nondiagonal subplots should be scatter plots.\")"
   ]
  }
 ],
 "metadata": {
  "kernelspec": {
   "display_name": "Python 3",
   "language": "python",
   "name": "python3"
  },
  "language_info": {
   "codemirror_mode": {
    "name": "ipython",
    "version": 3
   },
   "file_extension": ".py",
   "mimetype": "text/x-python",
   "name": "python",
   "nbconvert_exporter": "python",
   "pygments_lexer": "ipython3",
   "version": "3.5.2"
  }
 },
 "nbformat": 4,
 "nbformat_minor": 1
}

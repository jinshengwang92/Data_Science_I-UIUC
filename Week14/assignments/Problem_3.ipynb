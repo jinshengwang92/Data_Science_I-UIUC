{
 "cells": [
  {
   "cell_type": "markdown",
   "metadata": {},
   "source": [
    "# Week 14 Problem 3\n",
    "\n",
    "If you are not using the `Assignments` tab on the course JupyterHub server to read this notebook, read [Activating the assignments tab](https://github.com/UI-DataScience/info490-fa16/blob/master/Week2/assignments/README.md).\n",
    "\n",
    "A few things you should keep in mind when working on assignments:\n",
    "\n",
    "1. Make sure you fill in any place that says `YOUR CODE HERE`. Do **not** write your answer in anywhere else other than where it says `YOUR CODE HERE`. Anything you write anywhere else will be removed or overwritten by the autograder.\n",
    "\n",
    "2. Before you submit your assignment, make sure everything runs as expected. Go to menubar, select _Kernel_, and restart the kernel and run all cells (_Restart & Run all_).\n",
    "\n",
    "3. Do not change the title (i.e. file name) of this notebook.\n",
    "\n",
    "4. Make sure that you save your work (in the menubar, select _File_ → _Save and CheckPoint_)\n",
    "\n",
    "5. You are allowed to submit an assignment multiple times, but only the most recent submission will be graded.\n"
   ]
  },
  {
   "cell_type": "code",
   "execution_count": null,
   "metadata": {
    "collapsed": true,
    "deletable": false,
    "nbgrader": {
     "checksum": "bf16b08b23e2e0fda820c74a5e9c54c5",
     "grade": false,
     "grade_id": "imports",
     "locked": true,
     "solution": false
    }
   },
   "outputs": [],
   "source": [
    "import pandas as pd\n",
    "import requests\n",
    "from bs4 import BeautifulSoup\n",
    "from nose.tools import assert_equal\n",
    "from IPython.display import display_svg"
   ]
  },
  {
   "cell_type": "markdown",
   "metadata": {},
   "source": [
    "## Problem 1. Life Expectancy World Map\n",
    "\n",
    "In this problem, we are going to visualize the life expectancy for countries/territories on a world map. We'll use different colors to fill different regions on an empty world map, according to the values of the average life expectancy data. \n",
    "\n",
    "This is the SVG image we are going to make:"
   ]
  },
  {
   "cell_type": "code",
   "execution_count": null,
   "metadata": {
    "collapsed": false,
    "deletable": false,
    "nbgrader": {
     "checksum": "9ea7e4932d7a19729b1f323ce9a7485c",
     "grade": false,
     "grade_id": "sample",
     "locked": true,
     "solution": false
    }
   },
   "outputs": [],
   "source": [
    "s = requests.get(\"https://raw.githubusercontent.com/UI-DataScience/info490-fa16/master/Week14/assignments/data/life_expectancy.svg\")\n",
    "sample = s.content \n",
    "display_svg(sample, raw=True)"
   ]
  },
  {
   "cell_type": "markdown",
   "metadata": {},
   "source": [
    "Let's first download an empty world map SVG. In this SVG file, each country/territory is uniquely represented by its [alpha-2 iso code](https://en.wikipedia.org/wiki/ISO_3166-1). For example, United States is represented by `US`. "
   ]
  },
  {
   "cell_type": "code",
   "execution_count": null,
   "metadata": {
    "collapsed": false,
    "deletable": false,
    "nbgrader": {
     "checksum": "2dea9612653175c51df1708d5764602b",
     "grade": false,
     "grade_id": "empty",
     "locked": true,
     "solution": false
    },
    "scrolled": false
   },
   "outputs": [],
   "source": [
    "# Empty world map with ISO codes from: http://simplemaps.com/resources/svg-world\n",
    "w = requests.get(\"https://raw.githubusercontent.com/UI-DataScience/info490-fa16/master/Week14/assignments/data/world.svg\")\n",
    "world = w.content \n",
    "display_svg(world, raw=True)"
   ]
  },
  {
   "cell_type": "markdown",
   "metadata": {
    "collapsed": false
   },
   "source": [
    "The life expectancy data for about 250 countries/territories are included in the `data/countries.csv` file, which is in the same folder as the assignment notebooks. The following code cell reads the csv file into a dataframe named `countries` and make it indexed by the `Country code` column. The `Country code` column also uses [alpha-2 iso codes](https://en.wikipedia.org/wiki/ISO_3166-1) to represent each country/territory. "
   ]
  },
  {
   "cell_type": "code",
   "execution_count": null,
   "metadata": {
    "collapsed": false,
    "deletable": false,
    "nbgrader": {
     "checksum": "f285411c08c78003b809f993c85e690d",
     "grade": false,
     "grade_id": "get_data",
     "locked": true,
     "solution": false
    }
   },
   "outputs": [],
   "source": [
    "# Data file from: https://www.worlddata.info/downloads/\n",
    "# If you somehow removed the \"countries.csv\", uncomment the codes below:\n",
    "# !mkdir -p data/\n",
    "# !wget -O data/countries.csv https://raw.githubusercontent.com/UI-DataScience/info490-fa16/master/Week14/assignments/data/countries.csv"
   ]
  },
  {
   "cell_type": "code",
   "execution_count": null,
   "metadata": {
    "collapsed": false,
    "deletable": false,
    "nbgrader": {
     "checksum": "bf97727e6384882b33fd181ed6098622",
     "grade": false,
     "grade_id": "df",
     "locked": true,
     "solution": false
    }
   },
   "outputs": [],
   "source": [
    "countries = pd.read_csv('data/countries.csv', sep=';', usecols=['Country (en)', 'Country code', 'Life expectancy'], \n",
    "                        index_col='Country code')\n",
    "print(countries[:10])"
   ]
  },
  {
   "cell_type": "markdown",
   "metadata": {},
   "source": [
    "Let's make our soup:"
   ]
  },
  {
   "cell_type": "code",
   "execution_count": null,
   "metadata": {
    "collapsed": false,
    "deletable": false,
    "nbgrader": {
     "checksum": "a9b2d44c042696694cbf63acfa4734b7",
     "grade": false,
     "grade_id": "soup",
     "locked": true,
     "solution": false
    }
   },
   "outputs": [],
   "source": [
    "soup = BeautifulSoup(world, \"xml\")"
   ]
  },
  {
   "cell_type": "markdown",
   "metadata": {},
   "source": [
    "We'll use these colors in the `colors` list to fill the map:"
   ]
  },
  {
   "cell_type": "code",
   "execution_count": null,
   "metadata": {
    "collapsed": true,
    "deletable": false,
    "nbgrader": {
     "checksum": "79ac272a2e28556a9b68884c8b57f359",
     "grade": false,
     "grade_id": "colors",
     "locked": true,
     "solution": false
    }
   },
   "outputs": [],
   "source": [
    "colors = ['#ffffcc', '#d9f0a3', '#addd8e', '#78c679', '#31a354', '#006837']"
   ]
  },
  {
   "cell_type": "markdown",
   "metadata": {},
   "source": [
    "### Problem 1 starts here: \n",
    "\n",
    "In the following code cell, edit the empty world map SVG file (`soup`) using the given color list named `colors`. If you would like to see the structure of the SVG file, open a terminal and use `vi` to read it. Do not print it out in the notebook because the output will have too many lines.\n",
    "\n",
    "We are going to edit tags with the name `path`. One such tag look like:\n",
    "\n",
    "```python\n",
    ">>> soup.find('path', id='AM')\n",
    ">>> <path d=\"m 1219,325.1 -0.9,-4.4 -2.5,-1.1 -2.5,-1.7 1,-2 -3.1,-2.2 0.7,-1.5 -2.2,-1.1 -1.4,-1.7 -6.9,1 1.3,2.2 0,3.1 4.2,1.5 2.4,1.9 1,-0.2 1.8,1.7 2.3,0 0.2,1 2.8,3.7 1.8,-0.2 z\" data-id=\"AM\" data-name=\"Armenia\" id=\"AM\" inkscape:connector-curvature=\"0\" style=\"fill:#f2f2f2;fill-rule:evenodd\"/>\n",
    "```\n",
    "\n",
    "Notice the country code is included in the `id` attribute (`AM` as in the above example). To change the color in the image, we need to edit the string corresponding to the `style` attribute.\n",
    "\n",
    "```python\n",
    ">>> p = soup.find('path', id='AM')\n",
    ">>> p['style']\n",
    ">>> 'fill:#f2f2f2;fill-rule:evenodd'\n",
    "```\n",
    "\n",
    "In the string above, we see the default color is `#f2f2f2`. To edit a substring in a string, you can use [str.replace()](https://www.tutorialspoint.com/python/string_replace.htm) method (this method does not update the string automatically; remember to assign the edited string back to the original string). Of course, you may find better ways to do this.\n",
    "\n",
    "To pass the assertion test, you need to choose the color for each country/territory following the rules below:\n",
    "\n",
    "- If `Life expectancy` corresponding to the `Country code`/`id` is larger than 80, use the 5th color in `colors` (counting from 0);\n",
    "- If `Life expectancy` is larger than 70 (but less than or equal to 80, omitted hereafter), use the 4th in `colors`;\n",
    "- If `Life expectancy` is larger than 60, use the 3rd in `colors`;\n",
    "- If `Life expectancy` is larger than 50, use the 2nd in `colors`;\n",
    "- If `Life expectancy` is larger than 40, use the 1st in `colors`;\n",
    "- Else, use the 0th in `colors`.\n",
    "\n",
    "Note:\n",
    "- You'll find [Lesson 3 notebook](https://github.com/UI-DataScience/info490-fa16/blob/master/Week14/notebook/dataviz.ipynb) and [Problem 2 assignment notebook](https://github.com/UI-DataScience/info490-fa16/blob/master/Week14/assignments/Problem_2.ipynb) helpful.\n",
    "- The `id`s of `path`s in `soup` are connected to the index of the `countries` dataframe.\n",
    "- In this problem, all `path`s represent a country/territory. When you select the `path` tags, the borderlines or separators won't be selected, so you do not need to worry about them.\n",
    "- It is possible that some `id`s from the SVG do not exist in the dataframe; if you use a loop, your codes may fall. Therefore, it is recommended to use `try ... \\n except: continue` to make sure your codes continue to run.\n",
    "\n",
    "**Quick view of variables needed for this problem: `soup` (Bealtiful Soup), `countries` (dataframe), `colors` (list). **"
   ]
  },
  {
   "cell_type": "code",
   "execution_count": null,
   "metadata": {
    "collapsed": false,
    "deletable": false,
    "nbgrader": {
     "checksum": "454ef53ea4c6dc7a03e0fc43e05654bd",
     "grade": false,
     "grade_id": "p1",
     "locked": false,
     "solution": true
    }
   },
   "outputs": [],
   "source": [
    "# YOUR CODE HERE"
   ]
  },
  {
   "cell_type": "markdown",
   "metadata": {
    "collapsed": false
   },
   "source": [
    "The cell below displays your output SVG; it should be identical to the sample."
   ]
  },
  {
   "cell_type": "code",
   "execution_count": null,
   "metadata": {
    "collapsed": false,
    "deletable": false,
    "nbgrader": {
     "checksum": "38ed05c665c3076242713b809b0bd495",
     "grade": false,
     "grade_id": "output",
     "locked": true,
     "solution": false
    }
   },
   "outputs": [],
   "source": [
    "life_expectancy = soup.prettify()\n",
    "display_svg(life_expectancy, raw=True)"
   ]
  },
  {
   "cell_type": "code",
   "execution_count": null,
   "metadata": {
    "collapsed": false,
    "deletable": false,
    "nbgrader": {
     "checksum": "c8521f6ac59e4845daff9e7b028e7fd4",
     "grade": true,
     "grade_id": "element_test",
     "locked": true,
     "points": 6,
     "solution": false
    }
   },
   "outputs": [],
   "source": [
    "# assertion tests\n",
    "assert_equal(soup.find('path', id='CN')['style'][5:12], colors[4])\n",
    "assert_equal(soup.find('path', id='US')['style'][5:12], colors[4])\n",
    "assert_equal(soup.find('path', id='CA')['style'][5:12], colors[5])\n",
    "assert_equal(soup.find('path', id='NG')['style'][5:12], colors[2])"
   ]
  },
  {
   "cell_type": "code",
   "execution_count": null,
   "metadata": {
    "collapsed": false,
    "deletable": false,
    "nbgrader": {
     "checksum": "adf4a1d472f32f3d6fd21071bafd0e29",
     "grade": true,
     "grade_id": "svg_test",
     "locked": true,
     "points": 9,
     "solution": false
    }
   },
   "outputs": [],
   "source": [
    "# assertion tests on the entire SVG\n",
    "p1answer = BeautifulSoup(sample, \"xml\")\n",
    "assert_equal(life_expectancy, p1answer.prettify())"
   ]
  },
  {
   "cell_type": "markdown",
   "metadata": {
    "collapsed": true
   },
   "source": [
    "## Problem 2. 2016 USA Presidental Election Map"
   ]
  },
  {
   "cell_type": "markdown",
   "metadata": {},
   "source": [
    "(This problem was written based on [this SVG image](https://en.wikipedia.org/wiki/File:ElectoralCollege2016.svg).)\n",
    "\n",
    "In this problem, we are going to visualize the results of the 2016 presidental election. We'll color the states won by Trump in red, and those won by Clinton in blue. We'll also display the numbers of electoral votes on the map. We draw an additional circle on the top of Maine, since the electoral votes were split.\n",
    "\n",
    "This is the SVG image we're going to make:"
   ]
  },
  {
   "cell_type": "code",
   "execution_count": null,
   "metadata": {
    "collapsed": false,
    "deletable": false,
    "nbgrader": {
     "checksum": "224d42b09bef15e9d70c9b23a8adc1f6",
     "grade": false,
     "grade_id": "usa",
     "locked": true,
     "solution": false
    }
   },
   "outputs": [],
   "source": [
    "e = requests.get(\"https://raw.githubusercontent.com/UI-DataScience/info490-fa16/master/Week14/assignments/data/election2016.svg\")\n",
    "e2016 = e.content\n",
    "display_svg(e2016, raw=True)"
   ]
  },
  {
   "cell_type": "markdown",
   "metadata": {},
   "source": [
    "Let's get the empty United States map. The numbers of electoral votes for all states are set to 0."
   ]
  },
  {
   "cell_type": "code",
   "execution_count": null,
   "metadata": {
    "collapsed": false,
    "deletable": false,
    "nbgrader": {
     "checksum": "1745468ff8771c266813afd11f500592",
     "grade": false,
     "grade_id": "empty_usa",
     "locked": true,
     "solution": false
    }
   },
   "outputs": [],
   "source": [
    "u = requests.get(\"https://raw.githubusercontent.com/UI-DataScience/info490-fa16/master/Week14/assignments/data/usa.svg\")\n",
    "usa = u.content \n",
    "display_svg(usa, raw=True)"
   ]
  },
  {
   "cell_type": "markdown",
   "metadata": {},
   "source": [
    "The `data/ElectoralCollege2016.csv` contains the number of electoral votes for each state, and whether Clinton or Trump has won the state. Let's create a dataframe named `votes` using this csv file and make it indexed by the state postal codes."
   ]
  },
  {
   "cell_type": "code",
   "execution_count": null,
   "metadata": {
    "collapsed": false,
    "deletable": false,
    "nbgrader": {
     "checksum": "9aee12d645f059b9f5a20bfb202757f4",
     "grade": false,
     "grade_id": "p2_data",
     "locked": true,
     "solution": false
    }
   },
   "outputs": [],
   "source": [
    "# Data from: https://en.wikipedia.org/wiki/Electoral_College_(United_States)\n",
    "# If you somehow removed the \"ElectoralCollege2016.csv\", uncomment the codes below:\n",
    "# !mkdir -p data/\n",
    "# !wget -O data/ElectoralCollege2016.csv https://raw.githubusercontent.com/UI-DataScience/info490-fa16/master/Week14/assignments/data/ElectoralCollege2016.csv"
   ]
  },
  {
   "cell_type": "code",
   "execution_count": null,
   "metadata": {
    "collapsed": false,
    "deletable": false,
    "nbgrader": {
     "checksum": "0e897b7530ae9b9a0d89ad38596ae2ed",
     "grade": false,
     "grade_id": "votes",
     "locked": true,
     "solution": false
    }
   },
   "outputs": [],
   "source": [
    "votes = pd.read_csv('data/ElectoralCollege2016.csv', index_col='State')\n",
    "print(votes[:10])"
   ]
  },
  {
   "cell_type": "markdown",
   "metadata": {},
   "source": [
    "Note that Maine (ME) has been cut into two regions. The state postal codes for two parts of Maine match the `id`s in the SVG file, so you do not need to worry about them:"
   ]
  },
  {
   "cell_type": "code",
   "execution_count": null,
   "metadata": {
    "collapsed": false,
    "deletable": false,
    "nbgrader": {
     "checksum": "ffaed291150aa9d7e6ba724f12a765d0",
     "grade": false,
     "grade_id": "maine",
     "locked": true,
     "solution": false
    }
   },
   "outputs": [],
   "source": [
    "print(votes[21:23])"
   ]
  },
  {
   "cell_type": "markdown",
   "metadata": {},
   "source": [
    "The two colors we are going to use are:"
   ]
  },
  {
   "cell_type": "code",
   "execution_count": null,
   "metadata": {
    "collapsed": true,
    "deletable": false,
    "nbgrader": {
     "checksum": "094659c9c58d3716fedb4d6c5b74eeea",
     "grade": false,
     "grade_id": "dem_and_rep",
     "locked": true,
     "solution": false
    }
   },
   "outputs": [],
   "source": [
    "dem = '#698dc5' # a blue color\n",
    "rep = '#f07763' # a red color"
   ]
  },
  {
   "cell_type": "markdown",
   "metadata": {},
   "source": [
    "Make another soup to parse our empty SVG file:"
   ]
  },
  {
   "cell_type": "code",
   "execution_count": null,
   "metadata": {
    "collapsed": true,
    "deletable": false,
    "nbgrader": {
     "checksum": "2b2794d4c60a9564ac7a457d03449883",
     "grade": false,
     "grade_id": "another_soup",
     "locked": true,
     "solution": false
    }
   },
   "outputs": [],
   "source": [
    "another_soup = BeautifulSoup(usa, \"xml\")"
   ]
  },
  {
   "cell_type": "markdown",
   "metadata": {},
   "source": [
    "### Problem 2 starts here:\n",
    "\n",
    "In the following code cell, edit the empty United States map, such that:\n",
    " \n",
    "- Each state is colored in blue (`dem`) if Cliton has won, and colored in red (`rep`) if Trump has won. You'll need to edit tags named `path`. One example of such tags look like:\n",
    "```python\n",
    ">>> another_soup.find('path', id='IL')\n",
    ">>> <path d=\"M617.8,301.5v-3.6l0.3-4.9l2.4-3.1l1.8-3.8l2.6-3.9l-0.4-5.3l-2-3.5l-0.1-3.3l0.7-5.3l-0.8-7.2 l-1.1-15.8l-1.3-15l-0.9-11.6l-0.3-0.9l-0.8-2.6l-1.3-3.7l-1.6-1.8l-1.5-2.6l-0.2-5.5l-9.9,1.3l-27.2,1.7l-8.7-0.4l0.2,2.4l2.3,0.7 l0.9,1.1l0.5,1.8l3.9,3.4l0.7,2.3l-0.7,3.4l-1.8,3.7l-0.7,2.5l-2.3,1.8l-1.8,0.7l-5.3,1.4l-0.7,1.8L562,230l0.7,1.4l1.8,1.6 l-0.2,4.1l-1.8,1.6l-0.7,1.6v2.7l-1.8,0.5l-1.6,1.1l-0.2,1.4l0.2,2.1l-1.7,1.3l-1,2.8l0.5,3.7l2.3,7.3l7.3,7.5l5.5,3.7l-0.2,4.3 l0.9,1.4l6.4,0.5l2.7,1.4l-0.7,3.7l-2.3,5.9l-0.7,3.2l2.3,3.9l6.4,5.3l4.6,0.7l2.1,5l2.1,3.2l-0.9,3l1.6,4.1l1.8,2.1l1.9-0.8 l0.7-2.2l2-1.4l3.2-1.1l3.1,1.2l2.9,1.1l0.8-0.2l-0.1-1.2l-1.1-2.8l0.4-2.4l2.3-1.6l2.4-1l1.2-0.4l-0.6-1.3l-0.8-2.2l1.2-1.3 L617.8,301.5z\" fill=\"#D3D3D3\" id=\"IL\"/>\n",
    "``` \n",
    "You only need to edit the `fill` tag. This time it is a lot easier to do so, since you can replace the entire string with the provided color codes.\n",
    "- The number of electoral votes of each state is displayed on top of the state; in other words, change 0 to the corresponding number of electoral votes. You'll need to edit strings contained in the `text` tags. One example of such tags look like:\n",
    "```python\n",
    ">>> another_soup.find('text', id='IL')\n",
    ">>> <text id=\"IL\" x=\"579\" y=\"261\">0</text>\n",
    "```\n",
    "To access the string in this tag, do:\n",
    "```python\n",
    ">>> p = another_soup.find('text', id='IL')\n",
    ">>> p.string\n",
    ">>> '0'\n",
    "```\n",
    "Note that the `ElectoralVotes` in the `votes` dataframe are integerss. You'll need to convert them into strings when you assign them to the strings in the `text` tags.\n",
    "```python\n",
    ">>> type(votes['ElectoralVotes']['IL'])\n",
    ">>> numpy.int64\n",
    "```\n",
    "- The `id`s in the tags we're going to edit match the index of the `votes` dataframe. For one `path` tag or one `text` tag (details discussed below), you'll be able to find a corresponding row in the dataframe. But in case there're missing entries in the dataframe, it is recommended to use `try ... \\n except: continue` to make sure your loops can handle those cases.\n",
    "- Maine is splitted into two parts with distinct state post codes/`id`s, so you'll be able to match both regions without additional operations. However, note that **one part of Maine is drawn with the tag `circle` instead of `path`**. You'll need to write a separate code to color that circle. The `text` tags already contain the number on top of that circle, so you do not have to treat it differently in terms of electoral vote numbers.\n",
    "- **Quick view of variables needed for this problem: `another_soup` (Bealtiful Soup), `votes` (dataframe), `dem` (string for blue color), `rep` (string for red color).** "
   ]
  },
  {
   "cell_type": "code",
   "execution_count": null,
   "metadata": {
    "collapsed": true,
    "deletable": false,
    "nbgrader": {
     "checksum": "d211baea30a464f5d7570c6561636c8d",
     "grade": false,
     "grade_id": "p2",
     "locked": false,
     "solution": true
    }
   },
   "outputs": [],
   "source": [
    "# YOUR CODE HERE"
   ]
  },
  {
   "cell_type": "markdown",
   "metadata": {
    "collapsed": false
   },
   "source": [
    "The cell below displays your output SVG; it should be identical to the sample."
   ]
  },
  {
   "cell_type": "code",
   "execution_count": null,
   "metadata": {
    "collapsed": false,
    "deletable": false,
    "nbgrader": {
     "checksum": "dc88ad355332f6cb58dba965f47e46b2",
     "grade": false,
     "grade_id": "votes_2016",
     "locked": true,
     "solution": false
    }
   },
   "outputs": [],
   "source": [
    "election = another_soup.prettify()\n",
    "display_svg(election, raw=True)"
   ]
  },
  {
   "cell_type": "code",
   "execution_count": null,
   "metadata": {
    "collapsed": false,
    "deletable": false,
    "nbgrader": {
     "checksum": "6ff35b1c240e781423d8e37fd506d124",
     "grade": true,
     "grade_id": "element_test_2",
     "locked": true,
     "points": 6,
     "solution": false
    }
   },
   "outputs": [],
   "source": [
    "# assertion test on tags\n",
    "assert_equal(another_soup.find('path', id='CA')['fill'], dem)\n",
    "assert_equal(another_soup.find('path', id='IL')['fill'], dem)\n",
    "assert_equal(another_soup.find('path', id='FL')['fill'], rep)\n",
    "assert_equal(another_soup.find('path', id='OH')['fill'], rep)\n",
    "\n",
    "assert_equal(another_soup.find('text', id='CA').string, '55')\n",
    "assert_equal(another_soup.find('text', id='IL').string, '20')\n",
    "assert_equal(another_soup.find('text', id='FL').string, '29')\n",
    "assert_equal(another_soup.find('text', id='ME-2').string, '1')\n",
    "\n",
    "assert_equal(str(another_soup.find(\"circle\")), '<circle cx=\"884\" cy=\"96\" fill=\"#f07763\" id=\"ME-2\" r=\"14\"/>')"
   ]
  },
  {
   "cell_type": "code",
   "execution_count": null,
   "metadata": {
    "collapsed": false,
    "deletable": false,
    "nbgrader": {
     "checksum": "09addc95ab13d7ffc6b6c624586a8974",
     "grade": true,
     "grade_id": "svg_test_2",
     "locked": true,
     "points": 9,
     "solution": false
    }
   },
   "outputs": [],
   "source": [
    "# assertion tests on the entire svg\n",
    "p2answer = BeautifulSoup(e2016, \"xml\")\n",
    "assert_equal(election, p2answer.prettify())"
   ]
  }
 ],
 "metadata": {
  "kernelspec": {
   "display_name": "Python 3",
   "language": "python",
   "name": "python3"
  },
  "language_info": {
   "codemirror_mode": {
    "name": "ipython",
    "version": 3
   },
   "file_extension": ".py",
   "mimetype": "text/x-python",
   "name": "python",
   "nbconvert_exporter": "python",
   "pygments_lexer": "ipython3",
   "version": "3.5.2"
  }
 },
 "nbformat": 4,
 "nbformat_minor": 1
}

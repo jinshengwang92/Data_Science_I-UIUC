{
 "cells": [
  {
   "cell_type": "markdown",
   "metadata": {
    "deletable": false,
    "nbgrader": {
     "checksum": "78634b8e3df2c6951fb31cf581f753ef",
     "grade": false,
     "grade_id": "header",
     "locked": true,
     "solution": false
    }
   },
   "source": [
    "# Week 14 Problem 2\n",
    "\n",
    "If you are not using the `Assignments` tab on the course JupyterHub server to read this notebook, read [Activating the assignments tab](https://github.com/UI-DataScience/info490-fa16/blob/master/Week2/assignments/README.md).\n",
    "\n",
    "A few things you should keep in mind when working on assignments:\n",
    "\n",
    "1. Make sure you fill in any place that says `YOUR CODE HERE`. Do **not** write your answer in anywhere else other than where it says `YOUR CODE HERE`. Anything you write anywhere else will be removed or overwritten by the autograder.\n",
    "\n",
    "2. Before you submit your assignment, make sure everything runs as expected. Go to menubar, select _Kernel_, and restart the kernel and run all cells (_Restart & Run all_).\n",
    "\n",
    "3. Do not change the title (i.e. file name) of this notebook.\n",
    "\n",
    "4. Make sure that you save your work (in the menubar, select _File_ → _Save and CheckPoint_)\n",
    "\n",
    "5. You are allowed to submit an assignment multiple times, but only the most recent submission will be graded."
   ]
  },
  {
   "cell_type": "code",
   "execution_count": null,
   "metadata": {
    "collapsed": true,
    "deletable": false,
    "nbgrader": {
     "checksum": "b9a6fab5349f8aaafd23ba5284ac9467",
     "grade": false,
     "grade_id": "import_nose",
     "locked": true,
     "solution": false
    }
   },
   "outputs": [],
   "source": [
    "import numpy as np\n",
    "import pandas as pd\n",
    "import sqlite3 as sl\n",
    "import requests\n",
    "from bs4 import BeautifulSoup\n",
    "\n",
    "from nose.tools import assert_equal\n",
    "\n",
    "from IPython.display import SVG, display_svg"
   ]
  },
  {
   "cell_type": "markdown",
   "metadata": {
    "deletable": false,
    "nbgrader": {
     "checksum": "f8d727333e297a9ff495eae422ba8989",
     "grade": false,
     "grade_id": "direction",
     "locked": true,
     "solution": false
    }
   },
   "source": [
    "In this assignment, we will visualize the total number of flights and current temperature of the top 20 airports using the 2001 flight data. This week's assignment is one long, continuous problem, but I split it up into two sections for easier grading. Before you start coding, read the entire notebook first to understand the big picture.\n",
    "\n",
    "This is where we are going:"
   ]
  },
  {
   "cell_type": "code",
   "execution_count": null,
   "metadata": {
    "collapsed": false,
    "deletable": false,
    "nbgrader": {
     "checksum": "4cc906ee18ad985214475a8f0cc0db3c",
     "grade": false,
     "grade_id": "requests_finish",
     "locked": true,
     "solution": false
    }
   },
   "outputs": [],
   "source": [
    "# run this cell if there's no image\n",
    "r = requests.get(\"https://raw.githubusercontent.com/UI-DataScience/info490-fa15/master/Week14/assignment/top20.svg\")\n",
    "SVG(r.content)"
   ]
  },
  {
   "cell_type": "markdown",
   "metadata": {
    "deletable": false,
    "nbgrader": {
     "checksum": "c8c6c5095e7d5d5f9c5eff93e9c70bf2",
     "grade": false,
     "grade_id": "p1_title",
     "locked": true,
     "solution": false
    }
   },
   "source": [
    "The circles are the top 20 airports in the U.S. The size of each circle is proportional to the total number of arrivals and departures in 2001. The redder the color, the higher the temperature; the bluer the color, the lower the temperature. Thus, we will visualize three pieces of information in one single plot: the location of major airports, the size of the airports, and the current temperature.\n",
    "\n",
    "# Problem 1.\n",
    "\n",
    "Recall that in [Problem 9.3](https://github.com/UI-DataScience/info490-fa16/blob/master/Week9/assignment/Problem_3.ipynb) we wrote a function named `get_total_flights()` that adds the number of departures and the number of arrivals in 2001:\n",
    "\n",
    "```python\n",
    "dest_origin = pd.read_csv(\"2001.csv\", encoding='latin-1', usecols=('Dest', 'Origin'))\n",
    "flights = get_total_flights(dest_origin)\n",
    "```\n",
    "\n",
    "And we also found which 20 airports had the most number of flights:\n",
    "\n",
    "```python\n",
    "top20 = flights.sort(ascending=False, inplace=False)[:20]\n",
    "```\n",
    "\n",
    "Suppose that we have stored the result (the data frame `top20`) in an SQL database named [top20.db](https://github.com/UI-DataScience/info490-fa15/blob/master/Week14/assignment/top20.db?raw=true). You can download `top20.db` from the course repository on Github:"
   ]
  },
  {
   "cell_type": "code",
   "execution_count": null,
   "metadata": {
    "collapsed": false,
    "deletable": false,
    "nbgrader": {
     "checksum": "a28d15795b1f284d8ecd3f96d0f43593",
     "grade": false,
     "grade_id": "import_top20",
     "locked": true,
     "solution": false
    }
   },
   "outputs": [],
   "source": [
    "!wget -O top20.db https://github.com/UI-DataScience/info490-fa15/blob/master/Week14/assignment/top20.db?raw=true"
   ]
  },
  {
   "cell_type": "markdown",
   "metadata": {
    "deletable": false,
    "nbgrader": {
     "checksum": "467cd4fbbeed79d012f8d5e87ddb56f8",
     "grade": false,
     "grade_id": "top20",
     "locked": true,
     "solution": false
    }
   },
   "source": [
    "### Function: read\\_top20()\n",
    "\n",
    "Your first task is to\n",
    "\n",
    "- Write a functoin named `read_top20()` that takes the file name (`top20.db`) and returns a Pandas data frame with the contents of the `top20` table in the database."
   ]
  },
  {
   "cell_type": "code",
   "execution_count": null,
   "metadata": {
    "collapsed": true,
    "deletable": false,
    "nbgrader": {
     "checksum": "231fb2b79caa794b3623ddefb2185a43",
     "grade": false,
     "grade_id": "p1_answer",
     "locked": false,
     "solution": true
    }
   },
   "outputs": [],
   "source": [
    "def read_top20(db):\n",
    "    \"\"\"\n",
    "    Takes the file name of an SQL database.\n",
    "    Returns a Pandas data frame of all rows in the \"top20\" table of that database.\n",
    "    \n",
    "    Parameters\n",
    "    ----------\n",
    "    db (str): file name of SQL database.\n",
    "    \n",
    "    Returns\n",
    "    -------\n",
    "    A Pandas.DataFrame with all rows in \"top20\" table.\n",
    "    \"\"\"\n",
    "    # YOUR CODE HERE\n",
    "    return result"
   ]
  },
  {
   "cell_type": "markdown",
   "metadata": {
    "deletable": false,
    "nbgrader": {
     "checksum": "55e0221ec64b2cd31fd5ee33f37f9543",
     "grade": false,
     "grade_id": "top20_demo",
     "locked": true,
     "solution": false
    }
   },
   "source": [
    "So, when we do\n",
    "\n",
    "```python\n",
    "top20 = read_top20(\"top20.db\")\n",
    "print(top20)\n",
    "```\n",
    "\n",
    "the output should be\n",
    "\n",
    "```\n",
    "   iata  flights\n",
    "0   ORD   682636\n",
    "1   DFW   624361\n",
    "2   ATL   503163\n",
    "3   LAX   450019\n",
    "4   PHX   368631\n",
    "5   STL   324477\n",
    "6   DTW   297522\n",
    "7   MSP   284955\n",
    "8   LAS   272293\n",
    "9   BOS   266032\n",
    "10  DEN   265184\n",
    "11  IAH   257193\n",
    "12  CLT   256626\n",
    "13  SFO   243473\n",
    "14  EWR   241016\n",
    "15  PHL   239390\n",
    "16  LGA   232964\n",
    "17  PIT   212738\n",
    "18  SEA   205486\n",
    "19  BWI   199674\n",
    "```"
   ]
  },
  {
   "cell_type": "code",
   "execution_count": null,
   "metadata": {
    "collapsed": false,
    "deletable": false,
    "nbgrader": {
     "checksum": "d3d0cf955803c59e265c2917e0f76aeb",
     "grade": false,
     "grade_id": "top20_init_test",
     "locked": true,
     "solution": false
    }
   },
   "outputs": [],
   "source": [
    "top20 = read_top20(\"top20.db\")\n",
    "print(top20)"
   ]
  },
  {
   "cell_type": "code",
   "execution_count": null,
   "metadata": {
    "collapsed": false,
    "deletable": false,
    "nbgrader": {
     "checksum": "774f97b144a44f97fcbd74a8d19df02d",
     "grade": true,
     "grade_id": "cube_test",
     "locked": true,
     "points": 5,
     "solution": false
    }
   },
   "outputs": [],
   "source": [
    "answer = {\n",
    "    \"iata\": [\n",
    "        'ORD', 'DFW', 'ATL', 'LAX', 'PHX',\n",
    "        'STL', 'DTW', 'MSP', 'LAS', 'BOS',\n",
    "        'DEN', 'IAH', 'CLT', 'SFO', 'EWR',\n",
    "        'PHL', 'LGA', 'PIT', 'SEA', 'BWI'],\n",
    "    \"flights\": [\n",
    "        682636, 624361, 503163, 450019, 368631,\n",
    "        324477, 297522, 284955, 272293, 266032,\n",
    "        265184, 257193, 256626, 243473, 241016,\n",
    "        239390, 232964, 212738, 205486, 199674]\n",
    "}\n",
    "\n",
    "answer_df = pd.DataFrame(answer)\n",
    "\n",
    "np.testing.assert_array_equal(top20[\"iata\"].values, answer_df[\"iata\"].values)\n",
    "np.testing.assert_array_equal(top20[\"flights\"].values, answer_df[\"flights\"].values)"
   ]
  },
  {
   "cell_type": "markdown",
   "metadata": {
    "deletable": false,
    "nbgrader": {
     "checksum": "1c2a06da3526ba9ecd253b5e2be29f2c",
     "grade": false,
     "grade_id": "p2_title",
     "locked": true,
     "solution": false
    }
   },
   "source": [
    "Note that our airports are identified by IATA codes in the dataframe. So we need to match the IATA codes with the city names.\n",
    "\n",
    "Note that this problem is similar to `get_airport()` in [Problem 5.3](https://github.com/UI-DataScience/info490-fa16/blob/master/Week5/assignment/Problem_3.ipynb) and `is_delayed()` in [Problem 9.3](https://github.com/UI-DataScience/info490-fa16/blob/master/Week9/assignment/Problem_3.ipynb), but you should use [Beautiful Soup](http://www.crummy.com/software/BeautifulSoup/bs4/doc/) in this problem.\n",
    "\n",
    "# Problem 2.\n",
    "\n",
    "### Function: get\\_city()\n",
    "\n",
    "- Write a function named `get_city` that takes an XML (str) and returns the city name (str). See the unit tests below."
   ]
  },
  {
   "cell_type": "code",
   "execution_count": null,
   "metadata": {
    "collapsed": true,
    "deletable": false,
    "nbgrader": {
     "checksum": "d56660a05b36dee1a53dd02ba28d4c14",
     "grade": false,
     "grade_id": "p2_answer",
     "locked": false,
     "solution": true
    }
   },
   "outputs": [],
   "source": [
    "def get_city(xml):\n",
    "    \"\"\"\n",
    "    Takes an XML and returns the city name.\n",
    "    \n",
    "    Parameters\n",
    "    ----------\n",
    "    xml (str): An XML script.\n",
    "    \n",
    "    Returns\n",
    "    -------\n",
    "    A string.\n",
    "    \"\"\"\n",
    "    # YOUR CODE HERE\n",
    "    return result"
   ]
  },
  {
   "cell_type": "code",
   "execution_count": null,
   "metadata": {
    "collapsed": true,
    "deletable": false,
    "nbgrader": {
     "checksum": "9f0d8c6f1bd0e5828bc8c4f219a5e59b",
     "grade": true,
     "grade_id": "markdown_2",
     "locked": true,
     "points": 10,
     "solution": false
    }
   },
   "outputs": [],
   "source": [
    "test1 = '''\n",
    "<?xml version=\"1.0\" encoding=\"UTF-8\"?><AirportStatus> \n",
    "\t\t\t\t\t<Delay>true</Delay>\n",
    "\t\t\t\t\n",
    "\t\t\t\t\t<IATA>ORD</IATA>\n",
    "\t\t\t\t\n",
    "\t\t\t\t\t<State>Illinois</State>\n",
    "\t\t\t\t\n",
    "\t\t\t\t\t<Name>Chicago OHare International</Name>\n",
    "\t\t\t\t\n",
    "\t\t\t\t\t<Weather><Visibility>10.00</Visibility>\n",
    "\t\t\t\t\n",
    "\t\t\t\t\t<Weather>Partly Cloudy</Weather>\n",
    "\t\t\t\t\n",
    "\t\t\t\t\t<Meta><Credit>NOAA&apos;s National Weather Service</Credit>\n",
    "\t\t\t\t\n",
    "\t\t\t\t\t<Updated>12:51 PM Local</Updated>\n",
    "\t\t\t\t\n",
    "\t\t\t\t\t<Url>http://weather.gov/</Url></Meta>\n",
    "\t\t\t\t\n",
    "\t\t\t\t\t<Temp>53.0 F (11.7 C)</Temp>\n",
    "\t\t\t\t\n",
    "\t\t\t\t\t<Wind>Northwest at 12.7mph</Wind></Weather>\n",
    "\t\t\t\t\n",
    "\t\t\t\t\t<ICAO>KORD</ICAO>\n",
    "\t\t\t\t\n",
    "\t\t\t\t\t<City>Chicago</City>\n",
    "\t\t\t\t\n",
    "\t\t\t\t\t<Status><Reason>VOL:Multi-taxi</Reason>\n",
    "\t\t\t\t\n",
    "\t\t\t\t\t<ClosureBegin></ClosureBegin>\n",
    "\t\t\t\t\n",
    "\t\t\t\t\t<EndTime></EndTime>\n",
    "\t\t\t\t\n",
    "\t\t\t\t\t<MinDelay>16 minutes</MinDelay>\n",
    "\t\t\t\t\n",
    "\t\t\t\t\t<AvgDelay></AvgDelay>\n",
    "\t\t\t\t\n",
    "\t\t\t\t\t<MaxDelay>30 minutes</MaxDelay>\n",
    "\t\t\t\t\n",
    "\t\t\t\t\t<ClosureEnd></ClosureEnd>\n",
    "\t\t\t\t\n",
    "\t\t\t\t\t<Trend>Increasing</Trend>\n",
    "\t\t\t\t\n",
    "\t\t\t\t\t<Type>Departure</Type></Status>\n",
    "\t\t\t\t</AirportStatus> \n",
    "'''.strip()\n",
    "\n",
    "test2 = '''\n",
    "<?xml version=\"1.0\" encoding=\"UTF-8\"?><AirportStatus> \n",
    "\t\t\t\t\t<Delay>false</Delay>\n",
    "\t\t\t\t\n",
    "\t\t\t\t\t<IATA>SFO</IATA>\n",
    "\t\t\t\t\n",
    "\t\t\t\t\t<State>California</State>\n",
    "\t\t\t\t\n",
    "\t\t\t\t\t<Name>San Francisco International</Name>\n",
    "\t\t\t\t\n",
    "\t\t\t\t\t<Weather><Visibility>10.00</Visibility>\n",
    "\t\t\t\t\n",
    "\t\t\t\t\t<Weather>Partly Cloudy</Weather>\n",
    "\t\t\t\t\n",
    "\t\t\t\t\t<Meta><Credit>NOAA&apos;s National Weather Service</Credit>\n",
    "\t\t\t\t\n",
    "\t\t\t\t\t<Updated>12:56 PM Local</Updated>\n",
    "\t\t\t\t\n",
    "\t\t\t\t\t<Url>http://weather.gov/</Url></Meta>\n",
    "\t\t\t\t\n",
    "\t\t\t\t\t<Temp>68.0 F (20.0 C)</Temp>\n",
    "\t\t\t\t\n",
    "\t\t\t\t\t<Wind>North at 5.8mph</Wind></Weather>\n",
    "\t\t\t\t\n",
    "\t\t\t\t\t<ICAO>KSFO</ICAO>\n",
    "\t\t\t\t\n",
    "\t\t\t\t\t<City>San Francisco</City>\n",
    "\t\t\t\t\n",
    "\t\t\t\t\t<Status><Reason>No known delays for this airport.</Reason>\n",
    "\t\t\t\t\n",
    "\t\t\t\t\t<ClosureBegin></ClosureBegin>\n",
    "\t\t\t\t\n",
    "\t\t\t\t\t<EndTime></EndTime>\n",
    "\t\t\t\t\n",
    "\t\t\t\t\t<MinDelay></MinDelay>\n",
    "\t\t\t\t\n",
    "\t\t\t\t\t<AvgDelay></AvgDelay>\n",
    "\t\t\t\t\n",
    "\t\t\t\t\t<MaxDelay></MaxDelay>\n",
    "\t\t\t\t\n",
    "\t\t\t\t\t<ClosureEnd></ClosureEnd>\n",
    "\t\t\t\t\n",
    "\t\t\t\t\t<Trend></Trend>\n",
    "\t\t\t\t\n",
    "\t\t\t\t\t<Type></Type></Status>\n",
    "\t\t\t\t</AirportStatus> \n",
    "'''.strip()\n",
    "\n",
    "assert_equal(get_city(test1), \"Chicago\")\n",
    "assert_equal(get_city(test2), \"San Francisco\")"
   ]
  },
  {
   "cell_type": "markdown",
   "metadata": {
    "deletable": false,
    "nbgrader": {
     "checksum": "c697cee1b67286e22d4b46ee9783a591",
     "grade": false,
     "grade_id": "p3_title",
     "locked": true,
     "solution": false
    }
   },
   "source": [
    "# Problem 3.\n",
    "\n",
    "### Function: get\\_temp()\n",
    "\n",
    "- Write a function named `get_temp` that takes an XML (str) and returns the current temperature (float)."
   ]
  },
  {
   "cell_type": "code",
   "execution_count": null,
   "metadata": {
    "collapsed": true,
    "deletable": false,
    "nbgrader": {
     "checksum": "f9f53054fe1dd1a10ff50dca42832d79",
     "grade": false,
     "grade_id": "markdown_1",
     "locked": false,
     "solution": true
    }
   },
   "outputs": [],
   "source": [
    "def get_temp(xml):\n",
    "    \"\"\"\n",
    "    Takes an XML and returns the temperature.\n",
    "    \n",
    "    Parameters\n",
    "    ----------\n",
    "    xml (str): An XML script.\n",
    "    \n",
    "    Returns\n",
    "    -------\n",
    "    A float.\n",
    "    \"\"\"\n",
    "    # YOUR CODE HERE\n",
    "    return result"
   ]
  },
  {
   "cell_type": "code",
   "execution_count": null,
   "metadata": {
    "collapsed": true,
    "deletable": false,
    "nbgrader": {
     "checksum": "628871a558e4b1b664cde312b3a2ec17",
     "grade": true,
     "grade_id": "markdown_3",
     "locked": true,
     "points": 10,
     "solution": false
    }
   },
   "outputs": [],
   "source": [
    "assert_equal(get_temp(test1), 53.0)\n",
    "assert_equal(get_temp(test2), 68.0)"
   ]
  },
  {
   "cell_type": "markdown",
   "metadata": {
    "deletable": false,
    "nbgrader": {
     "checksum": "121ebca640585770b44bce9c9139710e",
     "grade": false,
     "grade_id": "usage",
     "locked": true,
     "solution": false
    }
   },
   "source": [
    "Let's use `get_city()` and `get_temp()` to add the city names and temperatures to the data frame. Make sure that `get_city()` and `get_temp()` passed the unit tests before running the following code cell, because too many HTTP requests may lock you out for a while. You should get\n",
    "\n",
    "```python\n",
    "print(top20)\n",
    "```\n",
    "```\n",
    "   iata  flights             city  temperature\n",
    "0   ORD   682636          Chicago           53\n",
    "1   DFW   624361  Dallas-Ft Worth           81\n",
    "2   ATL   503163          Atlanta           75\n",
    "3   LAX   450019      Los Angeles           71\n",
    "4   PHX   368631          Phoenix           91\n",
    "5   STL   324477         St Louis           63\n",
    "6   DTW   297522          Detroit           53\n",
    "7   MSP   284955      Minneapolis           44\n",
    "8   LAS   272293        Las Vegas           76\n",
    "9   BOS   266032           Boston           61\n",
    "10  DEN   265184           Denver           61\n",
    "11  IAH   257193          Houston           86\n",
    "12  CLT   256626        Charlotte           74\n",
    "13  SFO   243473    San Francisco           66\n",
    "14  EWR   241016           Newark           63\n",
    "15  PHL   239390     Philadelphia           65\n",
    "16  LGA   232964         New York           61\n",
    "17  PIT   212738       Pittsburgh           55\n",
    "18  SEA   205486          Seattle           58\n",
    "19  BWI   199674        Baltimore           63\n",
    "```"
   ]
  },
  {
   "cell_type": "code",
   "execution_count": null,
   "metadata": {
    "collapsed": false,
    "deletable": false,
    "nbgrader": {
     "checksum": "285ab96b4bbaeef6c870616bfde2c1c8",
     "grade": false,
     "grade_id": "usage_test",
     "locked": true,
     "solution": false
    }
   },
   "outputs": [],
   "source": [
    "for idx, row in top20.iterrows():\n",
    "    url = \"https://raw.githubusercontent.com/UI-DataScience/info490-fa15/master/Week14/assignment/xml/{}\"\n",
    "    r = requests.get(url.format(row[\"iata\"]))\n",
    "    top20.loc[idx, \"city\"] = get_city(r.text)\n",
    "    top20.loc[idx, \"temperature\"] = get_temp(r.text)\n",
    "    \n",
    "print(top20)"
   ]
  },
  {
   "cell_type": "markdown",
   "metadata": {
    "deletable": false,
    "nbgrader": {
     "checksum": "56576e8e31fa556c294060b1c9b7ea66",
     "grade": false,
     "grade_id": "visualize_intro",
     "locked": true,
     "solution": false
    }
   },
   "source": [
    "For a final treat, I'll be providing a code that will allow you to create a plot like that found above.  Note that this section of the code will not be graded, but it might prove helpful for Problem_3."
   ]
  },
  {
   "cell_type": "code",
   "execution_count": null,
   "metadata": {
    "collapsed": false,
    "deletable": false,
    "nbgrader": {
     "checksum": "85cad892b3fc6dfffc35949eea45ba90",
     "grade": false,
     "grade_id": "requ_svg",
     "locked": true,
     "solution": false
    }
   },
   "outputs": [],
   "source": [
    "resp = requests.get(\"https://raw.githubusercontent.com/UI-DataScience/info490-fa15/master/Week14/assignment/airports.svg\")\n",
    "usairports = resp.content\n",
    "display_svg(usairports, raw=True)"
   ]
  },
  {
   "cell_type": "code",
   "execution_count": null,
   "metadata": {
    "collapsed": false,
    "deletable": false,
    "nbgrader": {
     "checksum": "db9c4292160f604bdf4ee1a3a617098b",
     "grade": false,
     "grade_id": "resp_content",
     "locked": true,
     "solution": false
    }
   },
   "outputs": [],
   "source": [
    "resp = requests.get(\"https://raw.githubusercontent.com/UI-DataScience/info490-fa15/master/Week14/assignment/top20.svg\")\n",
    "SVG(resp.content)"
   ]
  },
  {
   "cell_type": "code",
   "execution_count": null,
   "metadata": {
    "collapsed": false,
    "deletable": false,
    "nbgrader": {
     "checksum": "6fa1d23713b90bc633b930c72e35032f",
     "grade": false,
     "grade_id": "application",
     "locked": true,
     "solution": false
    }
   },
   "outputs": [],
   "source": [
    "# Parse the \"usairports\" file that we've requested above\n",
    "soup = BeautifulSoup(usairports, \"lxml\")\n",
    "\n",
    "# Search for all instances of \"circle\"\n",
    "circles = soup.findAll('circle')\n",
    "\n",
    "# Our color scheme from http://colorbrewer2.org\n",
    "colors = [\"#EFF3FF\", \"#C6DBEF\", \"#9ECAE1\", \"#6BAED6\", \"#3182BD\", \"#08519C\"]\n",
    "\n",
    "# Rewrite \"r\" variable and color code\n",
    "for c in circles:\n",
    "    # Rescale the radius so that it is proportional to number of flights in DataFrame \"top20\"\n",
    "    c['r'] = float(top20[top20['city'] == c['id']]['flights'])/30000\n",
    "    \n",
    "    # Modify the colors\n",
    "    if c['r']>20:\n",
    "        c['fill'] = colors[5]\n",
    "    elif c['r']>17:\n",
    "        c['fill'] = colors[4]\n",
    "    elif c['r']>14:\n",
    "        c['fill'] = colors[3]\n",
    "    elif c['r']>11:\n",
    "        c['fill'] = colors[2]\n",
    "    elif c['r']>8:\n",
    "        c['fill'] = colors[1]\n",
    "    else:\n",
    "        c['fill'] = colors[0]\n",
    "\n",
    "# Display the new svg graph\n",
    "display_svg(soup.prettify(), raw=True)"
   ]
  },
  {
   "cell_type": "code",
   "execution_count": null,
   "metadata": {
    "collapsed": true,
    "deletable": false,
    "nbgrader": {
     "checksum": "b2f2420e79caa8fd58eff164d12ec9cb",
     "grade": false,
     "grade_id": "clean-up",
     "locked": true,
     "solution": false
    }
   },
   "outputs": [],
   "source": [
    "!rm top20.db"
   ]
  }
 ],
 "metadata": {
  "kernelspec": {
   "display_name": "Python 3",
   "language": "python",
   "name": "python3"
  },
  "language_info": {
   "codemirror_mode": {
    "name": "ipython",
    "version": 3
   },
   "file_extension": ".py",
   "mimetype": "text/x-python",
   "name": "python",
   "nbconvert_exporter": "python",
   "pygments_lexer": "ipython3",
   "version": "3.5.2"
  }
 },
 "nbformat": 4,
 "nbformat_minor": 0
}
